{
  "nbformat": 4,
  "nbformat_minor": 0,
  "metadata": {
    "colab": {
      "provenance": [],
      "collapsed_sections": [],
      "machine_shape": "hm"
    },
    "kernelspec": {
      "name": "python3",
      "display_name": "Python 3"
    },
    "language_info": {
      "name": "python"
    },
    "accelerator": "GPU"
  },
  "cells": [
    {
      "cell_type": "markdown",
      "source": [
        "# Importing Libraries"
      ],
      "metadata": {
        "id": "kgd4MVXJedYn"
      }
    },
    {
      "cell_type": "code",
      "source": [
        "pip install h5py==2.10.0"
      ],
      "metadata": {
        "colab": {
          "base_uri": "https://localhost:8080/",
          "height": 312
        },
        "id": "173ZJBk1fODl",
        "outputId": "455c4e4b-91a2-42ff-dfc5-9a59a901f75c"
      },
      "execution_count": null,
      "outputs": [
        {
          "output_type": "stream",
          "name": "stdout",
          "text": [
            "Looking in indexes: https://pypi.org/simple, https://us-python.pkg.dev/colab-wheels/public/simple/\n",
            "Collecting h5py==2.10.0\n",
            "  Downloading h5py-2.10.0-cp37-cp37m-manylinux1_x86_64.whl (2.9 MB)\n",
            "\u001b[K     |████████████████████████████████| 2.9 MB 7.8 MB/s \n",
            "\u001b[?25hRequirement already satisfied: numpy>=1.7 in /usr/local/lib/python3.7/dist-packages (from h5py==2.10.0) (1.21.6)\n",
            "Requirement already satisfied: six in /usr/local/lib/python3.7/dist-packages (from h5py==2.10.0) (1.15.0)\n",
            "Installing collected packages: h5py\n",
            "  Attempting uninstall: h5py\n",
            "    Found existing installation: h5py 3.1.0\n",
            "    Uninstalling h5py-3.1.0:\n",
            "      Successfully uninstalled h5py-3.1.0\n",
            "Successfully installed h5py-2.10.0\n"
          ]
        },
        {
          "output_type": "display_data",
          "data": {
            "application/vnd.colab-display-data+json": {
              "pip_warning": {
                "packages": [
                  "h5py"
                ]
              }
            }
          },
          "metadata": {}
        }
      ]
    },
    {
      "cell_type": "code",
      "execution_count": null,
      "metadata": {
        "id": "0ihsxJN4eVua"
      },
      "outputs": [],
      "source": [
        "import pandas as pd\n",
        "import numpy as np\n",
        "import os\n",
        "import seaborn as sns\n",
        "import matplotlib.pyplot as plt\n",
        "import librosa\n",
        "import librosa.display\n",
        "from IPython.display import Audio\n",
        "import warnings\n",
        "from sklearn.preprocessing import OneHotEncoder,StandardScaler\n",
        "from tensorflow import keras\n",
        "from tensorflow.keras.utils import to_categorical\n",
        "from sklearn.model_selection import train_test_split\n",
        "from keras.models import Sequential,model_from_json\n",
        "from sklearn.metrics import accuracy_score\n",
        "from sklearn.metrics import confusion_matrix, classification_report\n",
        "import pickle\n",
        "warnings.filterwarnings('ignore')\n",
        "from contextlib import redirect_stdout"
      ]
    },
    {
      "cell_type": "code",
      "source": [
        "from google.colab import drive\n",
        "drive.mount('/content/drive/')"
      ],
      "metadata": {
        "colab": {
          "base_uri": "https://localhost:8080/"
        },
        "id": "7lM0iK6lfMEe",
        "outputId": "3c20eb08-fba2-4700-ebf7-d58797ba2355"
      },
      "execution_count": null,
      "outputs": [
        {
          "output_type": "stream",
          "name": "stdout",
          "text": [
            "Mounted at /content/drive/\n"
          ]
        }
      ]
    },
    {
      "cell_type": "markdown",
      "source": [
        "# Data Preparation\n",
        "# Loading Dataset"
      ],
      "metadata": {
        "id": "1jh234Exfi1H"
      }
    },
    {
      "cell_type": "code",
      "source": [
        "paths = []\n",
        "labels = []\n",
        "for dirname, _, filenames in os.walk('/content/drive/MyDrive/Dataset/Tess'):\n",
        "    for filename in filenames:\n",
        "        paths.append(os.path.join(dirname, filename))\n",
        "        label = filename.split('_')[-1]\n",
        "        label = label.split('.')[0]\n",
        "        labels.append(label.lower())\n",
        "    if len(paths) == 2800:\n",
        "        break\n",
        "print('Dataset is Loaded')"
      ],
      "metadata": {
        "colab": {
          "base_uri": "https://localhost:8080/"
        },
        "id": "30kwC-_9fnkQ",
        "outputId": "103616b4-fe3b-4b3f-de29-3201f1db48c9"
      },
      "execution_count": null,
      "outputs": [
        {
          "output_type": "stream",
          "name": "stdout",
          "text": [
            "Dataset is Loaded\n"
          ]
        }
      ]
    },
    {
      "cell_type": "code",
      "source": [
        "len(paths)"
      ],
      "metadata": {
        "colab": {
          "base_uri": "https://localhost:8080/"
        },
        "id": "_XLJvPp_fuY3",
        "outputId": "f76bdc46-3f1b-4fbd-9a52-7f275be42c5a"
      },
      "execution_count": null,
      "outputs": [
        {
          "output_type": "execute_result",
          "data": {
            "text/plain": [
              "2800"
            ]
          },
          "metadata": {},
          "execution_count": 6
        }
      ]
    },
    {
      "cell_type": "code",
      "source": [
        "## Create a dataframe\n",
        "df = pd.DataFrame()\n",
        "df['path'] = paths\n",
        "df['label'] = labels"
      ],
      "metadata": {
        "id": "VGxFuBl6fwP2"
      },
      "execution_count": null,
      "outputs": []
    },
    {
      "cell_type": "markdown",
      "source": [
        "# Data Exploration and Visualisation"
      ],
      "metadata": {
        "id": "t-RgYhDif1hM"
      }
    },
    {
      "cell_type": "code",
      "source": [
        "df['label'].replace({'ps':'surprise'},inplace = True)"
      ],
      "metadata": {
        "id": "GDTfhWM_f6FI"
      },
      "execution_count": null,
      "outputs": []
    },
    {
      "cell_type": "code",
      "source": [
        "df['label'].value_counts()"
      ],
      "metadata": {
        "colab": {
          "base_uri": "https://localhost:8080/"
        },
        "id": "H10W5t2mgeIC",
        "outputId": "977d29c8-ca6d-4c3d-df92-e85c4edf370d"
      },
      "execution_count": null,
      "outputs": [
        {
          "output_type": "execute_result",
          "data": {
            "text/plain": [
              "surprise    400\n",
              "neutral     400\n",
              "fear        400\n",
              "happy       400\n",
              "angry       400\n",
              "disgust     400\n",
              "sad         400\n",
              "Name: label, dtype: int64"
            ]
          },
          "metadata": {},
          "execution_count": 8
        }
      ]
    },
    {
      "cell_type": "markdown",
      "source": [
        "# Exploratory Data Analysis"
      ],
      "metadata": {
        "id": "qVmoII3-gJ15"
      }
    },
    {
      "cell_type": "markdown",
      "source": [
        "# Data Augmentation"
      ],
      "metadata": {
        "id": "krpL9U3Xgo56"
      }
    },
    {
      "cell_type": "code",
      "source": [
        "def noise(data):\n",
        "    noise_amp = 0.035*np.random.uniform()*np.amax(data)\n",
        "    data = data + noise_amp*np.random.normal(size=data.shape[0])\n",
        "    return data\n",
        "\n",
        "def stretch(data, rate=0.8):\n",
        "    return librosa.effects.time_stretch(data, rate)\n",
        "\n",
        "def shift(data):\n",
        "    shift_range = int(np.random.uniform(low=-5, high = 5)*1000)\n",
        "    return np.roll(data, shift_range)\n",
        "\n",
        "def pitch(data, sampling_rate, pitch_factor=0.7):\n",
        "    return librosa.effects.pitch_shift(data, sampling_rate, pitch_factor)\n",
        "\n",
        "# taking any example and checking for techniques.\n",
        "# taking any example and checking for techniques.\n",
        "path = np.array(df.path)[1]\n",
        "data, sample_rate = librosa.load(path)"
      ],
      "metadata": {
        "id": "wTeo-wyVgIHS"
      },
      "execution_count": null,
      "outputs": []
    },
    {
      "cell_type": "markdown",
      "source": [
        "# Feature Extraction"
      ],
      "metadata": {
        "id": "acSkhJmFgwyq"
      }
    },
    {
      "cell_type": "code",
      "source": [
        "def extract_features(data):\n",
        "    # ZCR\n",
        "    result = np.array([])\n",
        "    zcr = np.mean(librosa.feature.zero_crossing_rate(y=data).T, axis=0)\n",
        "    result=np.hstack((result, zcr)) # stacking horizontally\n",
        "\n",
        "    # Chroma_stft\n",
        "    stft = np.abs(librosa.stft(data))\n",
        "    chroma_stft = np.mean(librosa.feature.chroma_stft(S=stft, sr=sample_rate).T, axis=0)\n",
        "    result = np.hstack((result, chroma_stft)) # stacking horizontally\n",
        "\n",
        "    # MFCC\n",
        "    mfcc = np.mean(librosa.feature.mfcc(y=data, sr=sample_rate).T, axis=0)\n",
        "    result = np.hstack((result, mfcc)) # stacking horizontally\n",
        "\n",
        "    # Root Mean Square Value\n",
        "    rms = np.mean(librosa.feature.rms(y=data).T, axis=0)\n",
        "    result = np.hstack((result, rms)) # stacking horizontally\n",
        "\n",
        "    # MelSpectogram\n",
        "    mel = np.mean(librosa.feature.melspectrogram(y=data, sr=sample_rate).T, axis=0)\n",
        "    result = np.hstack((result, mel)) # stacking horizontally\n",
        "    \n",
        "    return result\n",
        "\n",
        "def get_features(path):\n",
        "    # duration and offset are used to take care of the no audio in start and the ending of each audio files as seen above.\n",
        "    data, sample_rate = librosa.load(path, duration=2.5, offset=0.6)\n",
        "    \n",
        "    # without augmentation\n",
        "    res1 = extract_features(data)\n",
        "    result = np.array(res1)\n",
        "    \n",
        "    # data with noise\n",
        "    noise_data = noise(data)\n",
        "    res2 = extract_features(noise_data)\n",
        "    result = np.vstack((result, res2)) # stacking vertically\n",
        "    \n",
        "    # data with stretching and pitching\n",
        "    new_data = stretch(data)\n",
        "    data_stretch_pitch = pitch(new_data, sample_rate)\n",
        "    res3 = extract_features(data_stretch_pitch)\n",
        "    result = np.vstack((result, res3)) # stacking vertically\n",
        "    \n",
        "    return result"
      ],
      "metadata": {
        "id": "1niA9-7PgySX"
      },
      "execution_count": null,
      "outputs": []
    },
    {
      "cell_type": "code",
      "source": [
        "X, Y = [], []\n",
        "for path, emotion in zip(df.path, df.label):\n",
        "    feature = get_features(path)\n",
        "    for ele in feature:\n",
        "        X.append(ele)\n",
        "        # appending emotion 3 times as we have made 3 augmentation techniques on each audio file.\n",
        "        Y.append(emotion)"
      ],
      "metadata": {
        "id": "NqPj9Jblg2DH"
      },
      "execution_count": null,
      "outputs": []
    },
    {
      "cell_type": "code",
      "source": [
        "len(X), len(Y), df.path.shape"
      ],
      "metadata": {
        "id": "8vVPNqrig4yX"
      },
      "execution_count": null,
      "outputs": []
    },
    {
      "cell_type": "code",
      "source": [
        "Features = pd.DataFrame(X)\n",
        "Features['labels'] = Y\n",
        "# Features.to_csv('features.csv', index=False)\n",
        "Features.head()"
      ],
      "metadata": {
        "colab": {
          "base_uri": "https://localhost:8080/",
          "height": 386
        },
        "id": "_g76e1c5g6fY",
        "outputId": "8735aa77-a91d-4b63-f573-28b665219776"
      },
      "execution_count": null,
      "outputs": [
        {
          "output_type": "execute_result",
          "data": {
            "text/plain": [
              "          0         1         2         3         4         5         6  \\\n",
              "0  0.195666  0.602666  0.628764  0.559588  0.477203  0.454017  0.463941   \n",
              "1  0.230629  0.620246  0.642994  0.562388  0.515344  0.521383  0.497106   \n",
              "2  0.228770  0.676448  0.651464  0.637805  0.523145  0.413918  0.452274   \n",
              "3  0.054018  0.401741  0.428818  0.372805  0.325725  0.365440  0.427404   \n",
              "4  0.072591  0.448195  0.474924  0.434425  0.395440  0.432205  0.457257   \n",
              "\n",
              "          7         8         9  ...       153       154       155       156  \\\n",
              "0  0.525193  0.528638  0.534943  ...  0.001254  0.001504  0.001479  0.000789   \n",
              "1  0.552620  0.524475  0.574233  ...  0.001309  0.001553  0.001557  0.000845   \n",
              "2  0.473923  0.498465  0.501960  ...  0.000223  0.000201  0.000377  0.000281   \n",
              "3  0.524822  0.558145  0.609901  ...  0.000513  0.000327  0.000399  0.000415   \n",
              "4  0.541921  0.580866  0.636779  ...  0.000715  0.000572  0.000662  0.000611   \n",
              "\n",
              "        157       158       159           160           161    labels  \n",
              "0  0.001348  0.000546  0.000115  1.452975e-05  5.650409e-07  surprise  \n",
              "1  0.001372  0.000606  0.000165  6.433690e-05  5.005105e-05  surprise  \n",
              "2  0.000229  0.000122  0.000061  2.837106e-06  3.968247e-07  surprise  \n",
              "3  0.000353  0.000123  0.000015  5.978796e-07  1.056751e-08  surprise  \n",
              "4  0.000579  0.000330  0.000217  2.253110e-04  2.361755e-04  surprise  \n",
              "\n",
              "[5 rows x 163 columns]"
            ],
            "text/html": [
              "\n",
              "  <div id=\"df-60c89b15-66f0-4132-b49c-4c1f74649b84\">\n",
              "    <div class=\"colab-df-container\">\n",
              "      <div>\n",
              "<style scoped>\n",
              "    .dataframe tbody tr th:only-of-type {\n",
              "        vertical-align: middle;\n",
              "    }\n",
              "\n",
              "    .dataframe tbody tr th {\n",
              "        vertical-align: top;\n",
              "    }\n",
              "\n",
              "    .dataframe thead th {\n",
              "        text-align: right;\n",
              "    }\n",
              "</style>\n",
              "<table border=\"1\" class=\"dataframe\">\n",
              "  <thead>\n",
              "    <tr style=\"text-align: right;\">\n",
              "      <th></th>\n",
              "      <th>0</th>\n",
              "      <th>1</th>\n",
              "      <th>2</th>\n",
              "      <th>3</th>\n",
              "      <th>4</th>\n",
              "      <th>5</th>\n",
              "      <th>6</th>\n",
              "      <th>7</th>\n",
              "      <th>8</th>\n",
              "      <th>9</th>\n",
              "      <th>...</th>\n",
              "      <th>153</th>\n",
              "      <th>154</th>\n",
              "      <th>155</th>\n",
              "      <th>156</th>\n",
              "      <th>157</th>\n",
              "      <th>158</th>\n",
              "      <th>159</th>\n",
              "      <th>160</th>\n",
              "      <th>161</th>\n",
              "      <th>labels</th>\n",
              "    </tr>\n",
              "  </thead>\n",
              "  <tbody>\n",
              "    <tr>\n",
              "      <th>0</th>\n",
              "      <td>0.195666</td>\n",
              "      <td>0.602666</td>\n",
              "      <td>0.628764</td>\n",
              "      <td>0.559588</td>\n",
              "      <td>0.477203</td>\n",
              "      <td>0.454017</td>\n",
              "      <td>0.463941</td>\n",
              "      <td>0.525193</td>\n",
              "      <td>0.528638</td>\n",
              "      <td>0.534943</td>\n",
              "      <td>...</td>\n",
              "      <td>0.001254</td>\n",
              "      <td>0.001504</td>\n",
              "      <td>0.001479</td>\n",
              "      <td>0.000789</td>\n",
              "      <td>0.001348</td>\n",
              "      <td>0.000546</td>\n",
              "      <td>0.000115</td>\n",
              "      <td>1.452975e-05</td>\n",
              "      <td>5.650409e-07</td>\n",
              "      <td>surprise</td>\n",
              "    </tr>\n",
              "    <tr>\n",
              "      <th>1</th>\n",
              "      <td>0.230629</td>\n",
              "      <td>0.620246</td>\n",
              "      <td>0.642994</td>\n",
              "      <td>0.562388</td>\n",
              "      <td>0.515344</td>\n",
              "      <td>0.521383</td>\n",
              "      <td>0.497106</td>\n",
              "      <td>0.552620</td>\n",
              "      <td>0.524475</td>\n",
              "      <td>0.574233</td>\n",
              "      <td>...</td>\n",
              "      <td>0.001309</td>\n",
              "      <td>0.001553</td>\n",
              "      <td>0.001557</td>\n",
              "      <td>0.000845</td>\n",
              "      <td>0.001372</td>\n",
              "      <td>0.000606</td>\n",
              "      <td>0.000165</td>\n",
              "      <td>6.433690e-05</td>\n",
              "      <td>5.005105e-05</td>\n",
              "      <td>surprise</td>\n",
              "    </tr>\n",
              "    <tr>\n",
              "      <th>2</th>\n",
              "      <td>0.228770</td>\n",
              "      <td>0.676448</td>\n",
              "      <td>0.651464</td>\n",
              "      <td>0.637805</td>\n",
              "      <td>0.523145</td>\n",
              "      <td>0.413918</td>\n",
              "      <td>0.452274</td>\n",
              "      <td>0.473923</td>\n",
              "      <td>0.498465</td>\n",
              "      <td>0.501960</td>\n",
              "      <td>...</td>\n",
              "      <td>0.000223</td>\n",
              "      <td>0.000201</td>\n",
              "      <td>0.000377</td>\n",
              "      <td>0.000281</td>\n",
              "      <td>0.000229</td>\n",
              "      <td>0.000122</td>\n",
              "      <td>0.000061</td>\n",
              "      <td>2.837106e-06</td>\n",
              "      <td>3.968247e-07</td>\n",
              "      <td>surprise</td>\n",
              "    </tr>\n",
              "    <tr>\n",
              "      <th>3</th>\n",
              "      <td>0.054018</td>\n",
              "      <td>0.401741</td>\n",
              "      <td>0.428818</td>\n",
              "      <td>0.372805</td>\n",
              "      <td>0.325725</td>\n",
              "      <td>0.365440</td>\n",
              "      <td>0.427404</td>\n",
              "      <td>0.524822</td>\n",
              "      <td>0.558145</td>\n",
              "      <td>0.609901</td>\n",
              "      <td>...</td>\n",
              "      <td>0.000513</td>\n",
              "      <td>0.000327</td>\n",
              "      <td>0.000399</td>\n",
              "      <td>0.000415</td>\n",
              "      <td>0.000353</td>\n",
              "      <td>0.000123</td>\n",
              "      <td>0.000015</td>\n",
              "      <td>5.978796e-07</td>\n",
              "      <td>1.056751e-08</td>\n",
              "      <td>surprise</td>\n",
              "    </tr>\n",
              "    <tr>\n",
              "      <th>4</th>\n",
              "      <td>0.072591</td>\n",
              "      <td>0.448195</td>\n",
              "      <td>0.474924</td>\n",
              "      <td>0.434425</td>\n",
              "      <td>0.395440</td>\n",
              "      <td>0.432205</td>\n",
              "      <td>0.457257</td>\n",
              "      <td>0.541921</td>\n",
              "      <td>0.580866</td>\n",
              "      <td>0.636779</td>\n",
              "      <td>...</td>\n",
              "      <td>0.000715</td>\n",
              "      <td>0.000572</td>\n",
              "      <td>0.000662</td>\n",
              "      <td>0.000611</td>\n",
              "      <td>0.000579</td>\n",
              "      <td>0.000330</td>\n",
              "      <td>0.000217</td>\n",
              "      <td>2.253110e-04</td>\n",
              "      <td>2.361755e-04</td>\n",
              "      <td>surprise</td>\n",
              "    </tr>\n",
              "  </tbody>\n",
              "</table>\n",
              "<p>5 rows × 163 columns</p>\n",
              "</div>\n",
              "      <button class=\"colab-df-convert\" onclick=\"convertToInteractive('df-60c89b15-66f0-4132-b49c-4c1f74649b84')\"\n",
              "              title=\"Convert this dataframe to an interactive table.\"\n",
              "              style=\"display:none;\">\n",
              "        \n",
              "  <svg xmlns=\"http://www.w3.org/2000/svg\" height=\"24px\"viewBox=\"0 0 24 24\"\n",
              "       width=\"24px\">\n",
              "    <path d=\"M0 0h24v24H0V0z\" fill=\"none\"/>\n",
              "    <path d=\"M18.56 5.44l.94 2.06.94-2.06 2.06-.94-2.06-.94-.94-2.06-.94 2.06-2.06.94zm-11 1L8.5 8.5l.94-2.06 2.06-.94-2.06-.94L8.5 2.5l-.94 2.06-2.06.94zm10 10l.94 2.06.94-2.06 2.06-.94-2.06-.94-.94-2.06-.94 2.06-2.06.94z\"/><path d=\"M17.41 7.96l-1.37-1.37c-.4-.4-.92-.59-1.43-.59-.52 0-1.04.2-1.43.59L10.3 9.45l-7.72 7.72c-.78.78-.78 2.05 0 2.83L4 21.41c.39.39.9.59 1.41.59.51 0 1.02-.2 1.41-.59l7.78-7.78 2.81-2.81c.8-.78.8-2.07 0-2.86zM5.41 20L4 18.59l7.72-7.72 1.47 1.35L5.41 20z\"/>\n",
              "  </svg>\n",
              "      </button>\n",
              "      \n",
              "  <style>\n",
              "    .colab-df-container {\n",
              "      display:flex;\n",
              "      flex-wrap:wrap;\n",
              "      gap: 12px;\n",
              "    }\n",
              "\n",
              "    .colab-df-convert {\n",
              "      background-color: #E8F0FE;\n",
              "      border: none;\n",
              "      border-radius: 50%;\n",
              "      cursor: pointer;\n",
              "      display: none;\n",
              "      fill: #1967D2;\n",
              "      height: 32px;\n",
              "      padding: 0 0 0 0;\n",
              "      width: 32px;\n",
              "    }\n",
              "\n",
              "    .colab-df-convert:hover {\n",
              "      background-color: #E2EBFA;\n",
              "      box-shadow: 0px 1px 2px rgba(60, 64, 67, 0.3), 0px 1px 3px 1px rgba(60, 64, 67, 0.15);\n",
              "      fill: #174EA6;\n",
              "    }\n",
              "\n",
              "    [theme=dark] .colab-df-convert {\n",
              "      background-color: #3B4455;\n",
              "      fill: #D2E3FC;\n",
              "    }\n",
              "\n",
              "    [theme=dark] .colab-df-convert:hover {\n",
              "      background-color: #434B5C;\n",
              "      box-shadow: 0px 1px 3px 1px rgba(0, 0, 0, 0.15);\n",
              "      filter: drop-shadow(0px 1px 2px rgba(0, 0, 0, 0.3));\n",
              "      fill: #FFFFFF;\n",
              "    }\n",
              "  </style>\n",
              "\n",
              "      <script>\n",
              "        const buttonEl =\n",
              "          document.querySelector('#df-60c89b15-66f0-4132-b49c-4c1f74649b84 button.colab-df-convert');\n",
              "        buttonEl.style.display =\n",
              "          google.colab.kernel.accessAllowed ? 'block' : 'none';\n",
              "\n",
              "        async function convertToInteractive(key) {\n",
              "          const element = document.querySelector('#df-60c89b15-66f0-4132-b49c-4c1f74649b84');\n",
              "          const dataTable =\n",
              "            await google.colab.kernel.invokeFunction('convertToInteractive',\n",
              "                                                     [key], {});\n",
              "          if (!dataTable) return;\n",
              "\n",
              "          const docLinkHtml = 'Like what you see? Visit the ' +\n",
              "            '<a target=\"_blank\" href=https://colab.research.google.com/notebooks/data_table.ipynb>data table notebook</a>'\n",
              "            + ' to learn more about interactive tables.';\n",
              "          element.innerHTML = '';\n",
              "          dataTable['output_type'] = 'display_data';\n",
              "          await google.colab.output.renderOutput(dataTable, element);\n",
              "          const docLink = document.createElement('div');\n",
              "          docLink.innerHTML = docLinkHtml;\n",
              "          element.appendChild(docLink);\n",
              "        }\n",
              "      </script>\n",
              "    </div>\n",
              "  </div>\n",
              "  "
            ]
          },
          "metadata": {},
          "execution_count": 12
        }
      ]
    },
    {
      "cell_type": "markdown",
      "source": [
        "# Data Preparation"
      ],
      "metadata": {
        "id": "H_5F2JAtg-i4"
      }
    },
    {
      "cell_type": "code",
      "source": [
        "X = Features.iloc[: ,:-1].values\n",
        "Y = Features['labels'].values"
      ],
      "metadata": {
        "id": "Il1YhnHjm6Cq"
      },
      "execution_count": null,
      "outputs": []
    },
    {
      "cell_type": "code",
      "source": [
        "encoder = OneHotEncoder()\n",
        "Y = encoder.fit_transform(np.array(Y).reshape(-1,1)).toarray()"
      ],
      "metadata": {
        "id": "_cmdkw1qMP_X"
      },
      "execution_count": null,
      "outputs": []
    },
    {
      "cell_type": "code",
      "source": [
        "X"
      ],
      "metadata": {
        "colab": {
          "base_uri": "https://localhost:8080/"
        },
        "id": "icsWSVyU7RCp",
        "outputId": "922ff3fb-e105-4c6b-a516-0632f8581191"
      },
      "execution_count": null,
      "outputs": [
        {
          "output_type": "execute_result",
          "data": {
            "text/plain": [
              "array([[1.95666083e-01, 6.02666259e-01, 6.28763795e-01, ...,\n",
              "        1.15196774e-04, 1.45297536e-05, 5.65040921e-07],\n",
              "       [2.30628704e-01, 6.20246300e-01, 6.42993548e-01, ...,\n",
              "        1.65206216e-04, 6.43369007e-05, 5.00510522e-05],\n",
              "       [2.28769799e-01, 6.76448166e-01, 6.51463509e-01, ...,\n",
              "        6.09537492e-05, 2.83710551e-06, 3.96824674e-07],\n",
              "       ...,\n",
              "       [5.84746570e-02, 2.63623327e-01, 3.47343802e-01, ...,\n",
              "        3.13137352e-05, 3.86209967e-06, 2.49567904e-07],\n",
              "       [7.72198933e-02, 2.88357184e-01, 4.82345627e-01, ...,\n",
              "        6.34501228e-05, 4.05297310e-05, 3.70014678e-05],\n",
              "       [7.95428936e-02, 3.64073932e-01, 2.61102080e-01, ...,\n",
              "        5.58336797e-06, 6.28437476e-07, 3.03190546e-07]])"
            ]
          },
          "metadata": {},
          "execution_count": 17
        }
      ]
    },
    {
      "cell_type": "code",
      "source": [
        "Y"
      ],
      "metadata": {
        "colab": {
          "base_uri": "https://localhost:8080/"
        },
        "id": "RTZEvdqaMTun",
        "outputId": "e0a87a1f-f233-4c0c-824f-5912f355423b"
      },
      "execution_count": null,
      "outputs": [
        {
          "output_type": "execute_result",
          "data": {
            "text/plain": [
              "array([[0., 0., 0., ..., 0., 0., 1.],\n",
              "       [0., 0., 0., ..., 0., 0., 1.],\n",
              "       [0., 0., 0., ..., 0., 0., 1.],\n",
              "       ...,\n",
              "       [0., 0., 1., ..., 0., 0., 0.],\n",
              "       [0., 0., 1., ..., 0., 0., 0.],\n",
              "       [0., 0., 1., ..., 0., 0., 0.]])"
            ]
          },
          "metadata": {},
          "execution_count": 18
        }
      ]
    },
    {
      "cell_type": "code",
      "source": [
        "#### convert data and label to array\n",
        "X = np.asarray(X) # convert the input to an array\n",
        "Y = np.array(Y)\n",
        "Y.shape # get tuple of array dimensions"
      ],
      "metadata": {
        "colab": {
          "base_uri": "https://localhost:8080/"
        },
        "id": "N8RS4QfqzH6z",
        "outputId": "a4e64b50-08fe-4fbf-993c-9f12abdc9d54"
      },
      "execution_count": null,
      "outputs": [
        {
          "output_type": "execute_result",
          "data": {
            "text/plain": [
              "(8400, 7)"
            ]
          },
          "metadata": {},
          "execution_count": 29
        }
      ]
    },
    {
      "cell_type": "code",
      "source": [
        "Y.shape # get tuple of array dimensions"
      ],
      "metadata": {
        "colab": {
          "base_uri": "https://localhost:8080/"
        },
        "id": "eN7-Bpmet9eV",
        "outputId": "071d7f83-d25a-4004-c795-9058dd04b8c7"
      },
      "execution_count": null,
      "outputs": [
        {
          "output_type": "execute_result",
          "data": {
            "text/plain": [
              "(8400, 7)"
            ]
          },
          "metadata": {},
          "execution_count": 30
        }
      ]
    },
    {
      "cell_type": "code",
      "source": [
        "x_train,x_test,y_train,y_test= train_test_split(np.array(X),Y, test_size=0.25, random_state=69)"
      ],
      "metadata": {
        "id": "6LbJKdQPuYMG"
      },
      "execution_count": null,
      "outputs": []
    },
    {
      "cell_type": "code",
      "source": [
        "y_train"
      ],
      "metadata": {
        "colab": {
          "base_uri": "https://localhost:8080/"
        },
        "id": "zWsC3lTgnWoF",
        "outputId": "d0964d5b-25a5-47c2-8aa1-c5860c0ed0fb"
      },
      "execution_count": null,
      "outputs": [
        {
          "output_type": "execute_result",
          "data": {
            "text/plain": [
              "array([[0., 0., 0., ..., 0., 0., 0.],\n",
              "       [0., 0., 1., ..., 0., 0., 0.],\n",
              "       [1., 0., 0., ..., 0., 0., 0.],\n",
              "       ...,\n",
              "       [0., 1., 0., ..., 0., 0., 0.],\n",
              "       [1., 0., 0., ..., 0., 0., 0.],\n",
              "       [0., 1., 0., ..., 0., 0., 0.]])"
            ]
          },
          "metadata": {},
          "execution_count": 33
        }
      ]
    },
    {
      "cell_type": "code",
      "source": [
        "# scaling our data with sklearn's Standard scaler\n",
        "scaler = StandardScaler()\n",
        "x_train = scaler.fit_transform(x_train)\n",
        "x_test = scaler.transform(x_test)\n",
        "x_train.shape, y_train.shape, x_test.shape, y_test.shape"
      ],
      "metadata": {
        "colab": {
          "base_uri": "https://localhost:8080/"
        },
        "id": "SrPmtHm9hHjK",
        "outputId": "dbe8f8e7-2315-4c4e-a4bd-37b46dc1be28"
      },
      "execution_count": null,
      "outputs": [
        {
          "output_type": "execute_result",
          "data": {
            "text/plain": [
              "((6300, 162), (6300, 7), (2100, 162), (2100, 7))"
            ]
          },
          "metadata": {},
          "execution_count": 34
        }
      ]
    },
    {
      "cell_type": "code",
      "source": [
        "# making our data compatible to model.\n",
        "x_train = np.expand_dims(x_train, axis=2)\n",
        "x_test = np.expand_dims(x_test, axis=2)\n",
        "x_train.shape, y_train.shape, x_test.shape, y_test.shape"
      ],
      "metadata": {
        "id": "EN9SO4ZxhI2k",
        "colab": {
          "base_uri": "https://localhost:8080/"
        },
        "outputId": "bb776678-bfe3-4cd3-a7c0-e15ee1f15eb5"
      },
      "execution_count": null,
      "outputs": [
        {
          "output_type": "execute_result",
          "data": {
            "text/plain": [
              "((6300, 162, 1), (6300, 7), (2100, 162, 1), (2100, 7))"
            ]
          },
          "metadata": {},
          "execution_count": 35
        }
      ]
    },
    {
      "cell_type": "code",
      "source": [
        "from keras.models import Sequential\n",
        "from keras.layers import Dense, LSTM, Dropout\n",
        "\n",
        "\n",
        "model = Sequential([\n",
        "LSTM(256, return_sequences=False, input_shape=(162,1)),\n",
        "Dropout(0.2),\n",
        "Dense(128, activation='relu'),\n",
        "Dropout(0.1),\n",
        "Dense(128, activation='relu'),\n",
        "Dropout(0.2),\n",
        "Dense(64, activation='relu'),\n",
        "Dropout(0.1),\n",
        "Dense(7, activation='softmax')])\n",
        "\n",
        "model.compile(loss='categorical_crossentropy', optimizer='Adam', metrics=['accuracy'])\n",
        "model.summary()"
      ],
      "metadata": {
        "id": "0_NJAKaHhL9L",
        "colab": {
          "base_uri": "https://localhost:8080/"
        },
        "outputId": "2e671bd0-026e-4697-98d1-c37260b3324f"
      },
      "execution_count": null,
      "outputs": [
        {
          "output_type": "stream",
          "name": "stdout",
          "text": [
            "Model: \"sequential_1\"\n",
            "_________________________________________________________________\n",
            " Layer (type)                Output Shape              Param #   \n",
            "=================================================================\n",
            " lstm_1 (LSTM)               (None, 256)               264192    \n",
            "                                                                 \n",
            " dropout_4 (Dropout)         (None, 256)               0         \n",
            "                                                                 \n",
            " dense_4 (Dense)             (None, 128)               32896     \n",
            "                                                                 \n",
            " dropout_5 (Dropout)         (None, 128)               0         \n",
            "                                                                 \n",
            " dense_5 (Dense)             (None, 128)               16512     \n",
            "                                                                 \n",
            " dropout_6 (Dropout)         (None, 128)               0         \n",
            "                                                                 \n",
            " dense_6 (Dense)             (None, 64)                8256      \n",
            "                                                                 \n",
            " dropout_7 (Dropout)         (None, 64)                0         \n",
            "                                                                 \n",
            " dense_7 (Dense)             (None, 7)                 455       \n",
            "                                                                 \n",
            "=================================================================\n",
            "Total params: 322,311\n",
            "Trainable params: 322,311\n",
            "Non-trainable params: 0\n",
            "_________________________________________________________________\n"
          ]
        }
      ]
    },
    {
      "cell_type": "markdown",
      "source": [],
      "metadata": {
        "id": "2-I0MZ-FzJ4M"
      }
    },
    {
      "cell_type": "code",
      "source": [
        "# Train the model\n",
        "history = model.fit(x_train, y_train, \n",
        "                    validation_split=0.2, epochs=100, batch_size= 64)"
      ],
      "metadata": {
        "colab": {
          "base_uri": "https://localhost:8080/"
        },
        "id": "2YCTB9bJhM5C",
        "outputId": "65e0f8f0-1f71-47e6-8178-7f44c3896d24"
      },
      "execution_count": null,
      "outputs": [
        {
          "output_type": "stream",
          "name": "stdout",
          "text": [
            "Epoch 1/100\n",
            "79/79 [==============================] - 8s 24ms/step - loss: 1.8775 - accuracy: 0.1960 - val_loss: 1.8116 - val_accuracy: 0.2270\n",
            "Epoch 2/100\n",
            "79/79 [==============================] - 1s 15ms/step - loss: 1.8319 - accuracy: 0.2274 - val_loss: 1.7807 - val_accuracy: 0.2548\n",
            "Epoch 3/100\n",
            "79/79 [==============================] - 1s 15ms/step - loss: 1.8030 - accuracy: 0.2282 - val_loss: 1.7613 - val_accuracy: 0.2429\n",
            "Epoch 4/100\n",
            "79/79 [==============================] - 1s 15ms/step - loss: 1.7968 - accuracy: 0.2466 - val_loss: 1.7566 - val_accuracy: 0.2675\n",
            "Epoch 5/100\n",
            "79/79 [==============================] - 1s 15ms/step - loss: 1.7660 - accuracy: 0.2671 - val_loss: 1.7147 - val_accuracy: 0.2667\n",
            "Epoch 6/100\n",
            "79/79 [==============================] - 1s 15ms/step - loss: 1.7180 - accuracy: 0.2839 - val_loss: 1.7101 - val_accuracy: 0.2841\n",
            "Epoch 7/100\n",
            "79/79 [==============================] - 1s 15ms/step - loss: 1.7447 - accuracy: 0.2806 - val_loss: 1.7376 - val_accuracy: 0.2960\n",
            "Epoch 8/100\n",
            "79/79 [==============================] - 1s 15ms/step - loss: 1.7128 - accuracy: 0.2833 - val_loss: 1.6561 - val_accuracy: 0.3151\n",
            "Epoch 9/100\n",
            "79/79 [==============================] - 1s 15ms/step - loss: 1.7880 - accuracy: 0.2700 - val_loss: 1.8564 - val_accuracy: 0.2540\n",
            "Epoch 10/100\n",
            "79/79 [==============================] - 1s 14ms/step - loss: 1.7985 - accuracy: 0.2492 - val_loss: 1.6892 - val_accuracy: 0.2937\n",
            "Epoch 11/100\n",
            "79/79 [==============================] - 1s 15ms/step - loss: 1.7107 - accuracy: 0.2944 - val_loss: 1.6439 - val_accuracy: 0.3206\n",
            "Epoch 12/100\n",
            "79/79 [==============================] - 1s 15ms/step - loss: 1.6646 - accuracy: 0.3169 - val_loss: 1.6203 - val_accuracy: 0.3302\n",
            "Epoch 13/100\n",
            "79/79 [==============================] - 1s 16ms/step - loss: 1.7241 - accuracy: 0.2887 - val_loss: 1.6775 - val_accuracy: 0.2984\n",
            "Epoch 14/100\n",
            "79/79 [==============================] - 2s 21ms/step - loss: 1.6856 - accuracy: 0.2938 - val_loss: 1.6210 - val_accuracy: 0.3238\n",
            "Epoch 15/100\n",
            "79/79 [==============================] - 1s 15ms/step - loss: 1.6786 - accuracy: 0.3175 - val_loss: 1.5677 - val_accuracy: 0.3595\n",
            "Epoch 16/100\n",
            "79/79 [==============================] - 1s 15ms/step - loss: 1.6118 - accuracy: 0.3550 - val_loss: 1.4487 - val_accuracy: 0.4762\n",
            "Epoch 17/100\n",
            "79/79 [==============================] - 2s 19ms/step - loss: 1.5142 - accuracy: 0.4018 - val_loss: 1.3291 - val_accuracy: 0.4921\n",
            "Epoch 18/100\n",
            "79/79 [==============================] - 1s 15ms/step - loss: 1.3681 - accuracy: 0.4397 - val_loss: 1.2641 - val_accuracy: 0.5175\n",
            "Epoch 19/100\n",
            "79/79 [==============================] - 1s 15ms/step - loss: 1.2703 - accuracy: 0.4933 - val_loss: 1.1772 - val_accuracy: 0.5421\n",
            "Epoch 20/100\n",
            "79/79 [==============================] - 1s 15ms/step - loss: 1.1634 - accuracy: 0.5478 - val_loss: 1.0624 - val_accuracy: 0.5913\n",
            "Epoch 21/100\n",
            "79/79 [==============================] - 1s 15ms/step - loss: 1.4384 - accuracy: 0.4272 - val_loss: 1.5082 - val_accuracy: 0.4087\n",
            "Epoch 22/100\n",
            "79/79 [==============================] - 1s 15ms/step - loss: 1.4343 - accuracy: 0.4276 - val_loss: 1.1854 - val_accuracy: 0.5698\n",
            "Epoch 23/100\n",
            "79/79 [==============================] - 1s 15ms/step - loss: 1.2653 - accuracy: 0.5026 - val_loss: 1.0880 - val_accuracy: 0.5921\n",
            "Epoch 24/100\n",
            "79/79 [==============================] - 2s 20ms/step - loss: 1.0813 - accuracy: 0.5853 - val_loss: 1.0864 - val_accuracy: 0.5786\n",
            "Epoch 25/100\n",
            "79/79 [==============================] - 1s 16ms/step - loss: 0.8978 - accuracy: 0.6625 - val_loss: 0.7664 - val_accuracy: 0.7135\n",
            "Epoch 26/100\n",
            "79/79 [==============================] - 1s 18ms/step - loss: 0.7881 - accuracy: 0.6978 - val_loss: 0.7552 - val_accuracy: 0.7278\n",
            "Epoch 27/100\n",
            "79/79 [==============================] - 1s 17ms/step - loss: 0.7697 - accuracy: 0.7155 - val_loss: 0.9108 - val_accuracy: 0.6119\n",
            "Epoch 28/100\n",
            "79/79 [==============================] - 1s 17ms/step - loss: 0.7358 - accuracy: 0.7242 - val_loss: 0.6513 - val_accuracy: 0.7349\n",
            "Epoch 29/100\n",
            "79/79 [==============================] - 3s 33ms/step - loss: 0.6640 - accuracy: 0.7554 - val_loss: 0.5769 - val_accuracy: 0.7722\n",
            "Epoch 30/100\n",
            "79/79 [==============================] - 2s 20ms/step - loss: 0.6710 - accuracy: 0.7550 - val_loss: 0.4650 - val_accuracy: 0.8175\n",
            "Epoch 31/100\n",
            "79/79 [==============================] - 2s 22ms/step - loss: 0.5449 - accuracy: 0.7978 - val_loss: 0.4944 - val_accuracy: 0.8143\n",
            "Epoch 32/100\n",
            "79/79 [==============================] - 2s 21ms/step - loss: 0.5484 - accuracy: 0.7996 - val_loss: 0.4494 - val_accuracy: 0.8262\n",
            "Epoch 33/100\n",
            "79/79 [==============================] - 1s 16ms/step - loss: 0.5836 - accuracy: 0.7788 - val_loss: 0.4101 - val_accuracy: 0.8381\n",
            "Epoch 34/100\n",
            "79/79 [==============================] - 2s 19ms/step - loss: 0.4703 - accuracy: 0.8262 - val_loss: 0.7235 - val_accuracy: 0.7238\n",
            "Epoch 35/100\n",
            "79/79 [==============================] - 1s 16ms/step - loss: 0.5097 - accuracy: 0.8155 - val_loss: 0.3848 - val_accuracy: 0.8524\n",
            "Epoch 36/100\n",
            "79/79 [==============================] - 1s 17ms/step - loss: 0.4273 - accuracy: 0.8431 - val_loss: 0.3675 - val_accuracy: 0.8635\n",
            "Epoch 37/100\n",
            "79/79 [==============================] - 1s 17ms/step - loss: 0.5587 - accuracy: 0.8000 - val_loss: 0.5089 - val_accuracy: 0.7992\n",
            "Epoch 38/100\n",
            "79/79 [==============================] - 1s 15ms/step - loss: 0.4079 - accuracy: 0.8546 - val_loss: 0.3801 - val_accuracy: 0.8556\n",
            "Epoch 39/100\n",
            "79/79 [==============================] - 1s 17ms/step - loss: 0.4063 - accuracy: 0.8558 - val_loss: 0.3823 - val_accuracy: 0.8627\n",
            "Epoch 40/100\n",
            "79/79 [==============================] - 1s 15ms/step - loss: 0.3818 - accuracy: 0.8611 - val_loss: 0.3431 - val_accuracy: 0.8786\n",
            "Epoch 41/100\n",
            "79/79 [==============================] - 1s 15ms/step - loss: 0.3511 - accuracy: 0.8782 - val_loss: 0.2871 - val_accuracy: 0.9024\n",
            "Epoch 42/100\n",
            "79/79 [==============================] - 1s 15ms/step - loss: 0.3694 - accuracy: 0.8716 - val_loss: 0.3324 - val_accuracy: 0.8802\n",
            "Epoch 43/100\n",
            "79/79 [==============================] - 1s 15ms/step - loss: 0.3341 - accuracy: 0.8831 - val_loss: 0.2688 - val_accuracy: 0.9032\n",
            "Epoch 44/100\n",
            "79/79 [==============================] - 1s 15ms/step - loss: 0.3056 - accuracy: 0.8940 - val_loss: 0.4037 - val_accuracy: 0.8690\n",
            "Epoch 45/100\n",
            "79/79 [==============================] - 1s 15ms/step - loss: 0.3115 - accuracy: 0.8962 - val_loss: 0.2986 - val_accuracy: 0.8921\n",
            "Epoch 46/100\n",
            "79/79 [==============================] - 1s 15ms/step - loss: 0.3270 - accuracy: 0.8879 - val_loss: 0.3448 - val_accuracy: 0.8810\n",
            "Epoch 47/100\n",
            "79/79 [==============================] - 1s 15ms/step - loss: 0.3096 - accuracy: 0.8990 - val_loss: 0.2703 - val_accuracy: 0.9016\n",
            "Epoch 48/100\n",
            "79/79 [==============================] - 1s 15ms/step - loss: 0.3138 - accuracy: 0.9010 - val_loss: 0.5058 - val_accuracy: 0.8349\n",
            "Epoch 49/100\n",
            "79/79 [==============================] - 1s 15ms/step - loss: 0.2838 - accuracy: 0.9079 - val_loss: 0.2230 - val_accuracy: 0.9238\n",
            "Epoch 50/100\n",
            "79/79 [==============================] - 1s 15ms/step - loss: 0.2734 - accuracy: 0.9123 - val_loss: 0.2520 - val_accuracy: 0.9143\n",
            "Epoch 51/100\n",
            "79/79 [==============================] - 1s 15ms/step - loss: 0.2211 - accuracy: 0.9270 - val_loss: 0.2692 - val_accuracy: 0.9159\n",
            "Epoch 52/100\n",
            "79/79 [==============================] - 1s 15ms/step - loss: 0.3109 - accuracy: 0.8978 - val_loss: 0.2626 - val_accuracy: 0.9095\n",
            "Epoch 53/100\n",
            "79/79 [==============================] - 1s 15ms/step - loss: 0.2692 - accuracy: 0.9133 - val_loss: 0.2144 - val_accuracy: 0.9278\n",
            "Epoch 54/100\n",
            "79/79 [==============================] - 1s 15ms/step - loss: 0.2130 - accuracy: 0.9329 - val_loss: 0.2714 - val_accuracy: 0.9127\n",
            "Epoch 55/100\n",
            "79/79 [==============================] - 1s 15ms/step - loss: 0.2125 - accuracy: 0.9313 - val_loss: 0.2770 - val_accuracy: 0.9063\n",
            "Epoch 56/100\n",
            "79/79 [==============================] - 1s 15ms/step - loss: 0.2226 - accuracy: 0.9294 - val_loss: 0.2903 - val_accuracy: 0.9048\n",
            "Epoch 57/100\n",
            "79/79 [==============================] - 1s 15ms/step - loss: 0.2094 - accuracy: 0.9351 - val_loss: 0.2545 - val_accuracy: 0.9103\n",
            "Epoch 58/100\n",
            "79/79 [==============================] - 1s 15ms/step - loss: 0.2185 - accuracy: 0.9288 - val_loss: 0.2299 - val_accuracy: 0.9198\n",
            "Epoch 59/100\n",
            "79/79 [==============================] - 1s 15ms/step - loss: 0.1798 - accuracy: 0.9417 - val_loss: 0.2790 - val_accuracy: 0.9103\n",
            "Epoch 60/100\n",
            "79/79 [==============================] - 1s 15ms/step - loss: 0.1694 - accuracy: 0.9476 - val_loss: 0.2486 - val_accuracy: 0.9190\n",
            "Epoch 61/100\n",
            "79/79 [==============================] - 1s 15ms/step - loss: 0.1928 - accuracy: 0.9403 - val_loss: 0.2424 - val_accuracy: 0.9198\n",
            "Epoch 62/100\n",
            "79/79 [==============================] - 1s 15ms/step - loss: 0.1679 - accuracy: 0.9484 - val_loss: 0.1789 - val_accuracy: 0.9381\n",
            "Epoch 63/100\n",
            "79/79 [==============================] - 1s 15ms/step - loss: 0.1520 - accuracy: 0.9532 - val_loss: 0.1956 - val_accuracy: 0.9413\n",
            "Epoch 64/100\n",
            "79/79 [==============================] - 1s 15ms/step - loss: 0.1602 - accuracy: 0.9496 - val_loss: 0.1797 - val_accuracy: 0.9405\n",
            "Epoch 65/100\n",
            "79/79 [==============================] - 1s 15ms/step - loss: 0.1863 - accuracy: 0.9367 - val_loss: 0.2959 - val_accuracy: 0.8833\n",
            "Epoch 66/100\n",
            "79/79 [==============================] - 1s 15ms/step - loss: 0.1847 - accuracy: 0.9415 - val_loss: 0.2746 - val_accuracy: 0.9143\n",
            "Epoch 67/100\n",
            "79/79 [==============================] - 1s 15ms/step - loss: 0.1607 - accuracy: 0.9486 - val_loss: 0.2172 - val_accuracy: 0.9437\n",
            "Epoch 68/100\n",
            "79/79 [==============================] - 1s 15ms/step - loss: 0.1452 - accuracy: 0.9583 - val_loss: 0.2802 - val_accuracy: 0.9214\n",
            "Epoch 69/100\n",
            "79/79 [==============================] - 1s 15ms/step - loss: 0.2076 - accuracy: 0.9347 - val_loss: 0.2810 - val_accuracy: 0.9127\n",
            "Epoch 70/100\n",
            "79/79 [==============================] - 1s 15ms/step - loss: 0.1609 - accuracy: 0.9498 - val_loss: 0.1712 - val_accuracy: 0.9532\n",
            "Epoch 71/100\n",
            "79/79 [==============================] - 1s 16ms/step - loss: 0.1460 - accuracy: 0.9540 - val_loss: 0.1596 - val_accuracy: 0.9508\n",
            "Epoch 72/100\n",
            "79/79 [==============================] - 2s 19ms/step - loss: 0.1279 - accuracy: 0.9611 - val_loss: 0.1814 - val_accuracy: 0.9532\n",
            "Epoch 73/100\n",
            "79/79 [==============================] - 2s 23ms/step - loss: 0.1473 - accuracy: 0.9562 - val_loss: 0.2443 - val_accuracy: 0.9206\n",
            "Epoch 74/100\n",
            "79/79 [==============================] - 2s 23ms/step - loss: 0.1262 - accuracy: 0.9595 - val_loss: 0.1721 - val_accuracy: 0.9476\n",
            "Epoch 75/100\n",
            "79/79 [==============================] - 2s 29ms/step - loss: 0.1304 - accuracy: 0.9595 - val_loss: 0.1972 - val_accuracy: 0.9341\n",
            "Epoch 76/100\n",
            "79/79 [==============================] - 1s 19ms/step - loss: 0.1978 - accuracy: 0.9411 - val_loss: 0.2012 - val_accuracy: 0.9365\n",
            "Epoch 77/100\n",
            "79/79 [==============================] - 2s 23ms/step - loss: 0.1009 - accuracy: 0.9704 - val_loss: 0.2144 - val_accuracy: 0.9389\n",
            "Epoch 78/100\n",
            "79/79 [==============================] - 1s 18ms/step - loss: 0.1155 - accuracy: 0.9649 - val_loss: 0.1795 - val_accuracy: 0.9413\n",
            "Epoch 79/100\n",
            "79/79 [==============================] - 1s 18ms/step - loss: 0.1304 - accuracy: 0.9587 - val_loss: 0.2089 - val_accuracy: 0.9397\n",
            "Epoch 80/100\n",
            "79/79 [==============================] - 1s 15ms/step - loss: 0.1810 - accuracy: 0.9470 - val_loss: 0.1850 - val_accuracy: 0.9397\n",
            "Epoch 81/100\n",
            "79/79 [==============================] - 1s 15ms/step - loss: 0.1200 - accuracy: 0.9611 - val_loss: 0.2459 - val_accuracy: 0.9310\n",
            "Epoch 82/100\n",
            "79/79 [==============================] - 1s 15ms/step - loss: 0.1431 - accuracy: 0.9603 - val_loss: 0.1854 - val_accuracy: 0.9508\n",
            "Epoch 83/100\n",
            "79/79 [==============================] - 1s 15ms/step - loss: 0.1279 - accuracy: 0.9643 - val_loss: 0.1502 - val_accuracy: 0.9516\n",
            "Epoch 84/100\n",
            "79/79 [==============================] - 1s 15ms/step - loss: 0.0965 - accuracy: 0.9726 - val_loss: 0.1498 - val_accuracy: 0.9492\n",
            "Epoch 85/100\n",
            "79/79 [==============================] - 1s 15ms/step - loss: 0.1925 - accuracy: 0.9431 - val_loss: 0.2124 - val_accuracy: 0.9278\n",
            "Epoch 86/100\n",
            "79/79 [==============================] - 1s 15ms/step - loss: 0.1562 - accuracy: 0.9514 - val_loss: 0.1902 - val_accuracy: 0.9500\n",
            "Epoch 87/100\n",
            "79/79 [==============================] - 1s 15ms/step - loss: 0.1145 - accuracy: 0.9687 - val_loss: 0.2338 - val_accuracy: 0.9460\n",
            "Epoch 88/100\n",
            "79/79 [==============================] - 1s 15ms/step - loss: 0.0749 - accuracy: 0.9792 - val_loss: 0.1628 - val_accuracy: 0.9595\n",
            "Epoch 89/100\n",
            "79/79 [==============================] - 1s 15ms/step - loss: 0.0671 - accuracy: 0.9798 - val_loss: 0.1780 - val_accuracy: 0.9556\n",
            "Epoch 90/100\n",
            "79/79 [==============================] - 1s 15ms/step - loss: 0.0902 - accuracy: 0.9720 - val_loss: 0.2333 - val_accuracy: 0.9341\n",
            "Epoch 91/100\n",
            "79/79 [==============================] - 1s 15ms/step - loss: 0.1199 - accuracy: 0.9629 - val_loss: 0.1335 - val_accuracy: 0.9595\n",
            "Epoch 92/100\n",
            "79/79 [==============================] - 1s 15ms/step - loss: 0.0701 - accuracy: 0.9794 - val_loss: 0.2345 - val_accuracy: 0.9468\n",
            "Epoch 93/100\n",
            "79/79 [==============================] - 1s 15ms/step - loss: 0.0636 - accuracy: 0.9817 - val_loss: 0.1894 - val_accuracy: 0.9476\n",
            "Epoch 94/100\n",
            "79/79 [==============================] - 1s 15ms/step - loss: 0.1171 - accuracy: 0.9619 - val_loss: 0.2721 - val_accuracy: 0.9198\n",
            "Epoch 95/100\n",
            "79/79 [==============================] - 1s 15ms/step - loss: 0.0907 - accuracy: 0.9698 - val_loss: 0.2272 - val_accuracy: 0.9579\n",
            "Epoch 96/100\n",
            "79/79 [==============================] - 1s 15ms/step - loss: 0.0981 - accuracy: 0.9732 - val_loss: 0.1403 - val_accuracy: 0.9540\n",
            "Epoch 97/100\n",
            "79/79 [==============================] - 1s 15ms/step - loss: 0.0508 - accuracy: 0.9867 - val_loss: 0.1117 - val_accuracy: 0.9667\n",
            "Epoch 98/100\n",
            "79/79 [==============================] - 1s 15ms/step - loss: 0.0421 - accuracy: 0.9893 - val_loss: 0.1428 - val_accuracy: 0.9635\n",
            "Epoch 99/100\n",
            "79/79 [==============================] - 1s 15ms/step - loss: 0.0501 - accuracy: 0.9863 - val_loss: 0.2606 - val_accuracy: 0.9246\n",
            "Epoch 100/100\n",
            "79/79 [==============================] - 1s 16ms/step - loss: 0.1639 - accuracy: 0.9550 - val_loss: 0.2167 - val_accuracy: 0.9476\n"
          ]
        }
      ]
    },
    {
      "cell_type": "code",
      "source": [
        "model.save('model.h5')"
      ],
      "metadata": {
        "id": "U70oJ6ZmN8xO"
      },
      "execution_count": null,
      "outputs": []
    },
    {
      "cell_type": "code",
      "source": [
        "test_loss, test_acc = model.evaluate(x_test, y_test)\n",
        "print(\"Model Accuracy: \", test_acc, \"Model Loss: \", test_loss)"
      ],
      "metadata": {
        "colab": {
          "base_uri": "https://localhost:8080/"
        },
        "id": "nYnSSl5QOR_O",
        "outputId": "99bc8674-5508-4fad-f4a8-dfa7d08067d8"
      },
      "execution_count": null,
      "outputs": [
        {
          "output_type": "stream",
          "name": "stdout",
          "text": [
            "66/66 [==============================] - 1s 8ms/step - loss: 0.2039 - accuracy: 0.9495\n",
            "Model Accuracy:  0.9495238065719604 Model Loss:  0.20394746959209442\n"
          ]
        }
      ]
    },
    {
      "cell_type": "code",
      "source": [
        "model.compile(loss='categorical_crossentropy', optimizer='adam', metrics=['accuracy'])\n",
        "\n",
        "history = model.fit(x_train, y_train, batch_size=64, epochs=2, verbose=1)\n",
        "score = model.evaluate(x_test, y_test, verbose=0)\n",
        "print('Test loss:', score[0])\n",
        "print('Test accuracy:', score[1])"
      ],
      "metadata": {
        "colab": {
          "base_uri": "https://localhost:8080/"
        },
        "id": "Jhy7IjhO3tLY",
        "outputId": "f89096b7-f99b-4e8b-88cf-d89fd2de9522"
      },
      "execution_count": null,
      "outputs": [
        {
          "output_type": "stream",
          "name": "stdout",
          "text": [
            "Epoch 1/2\n",
            "99/99 [==============================] - 3s 15ms/step - loss: 0.1309 - accuracy: 0.9646\n",
            "Epoch 2/2\n",
            "99/99 [==============================] - 1s 13ms/step - loss: 0.0906 - accuracy: 0.9752\n",
            "Test loss: 0.17955069243907928\n",
            "Test accuracy: 0.9547619223594666\n"
          ]
        }
      ]
    },
    {
      "cell_type": "code",
      "source": [
        "### accuracy plots using LSTM model\n",
        "plt.clf()                                                \n",
        "\n",
        "acc = history.history['accuracy']\n",
        "val_acc = history.history['val_accuracy']\n",
        "\n",
        "plt.plot(epochs, acc, 'ro', label='Training acc')\n",
        "plt.plot(epochs, val_acc, 'b', label='Validation acc')\n",
        "plt.title('Training and validation accuracy')\n",
        "plt.xlabel('Epochs')\n",
        "plt.ylabel('Loss')\n",
        "plt.legend()\n",
        "\n",
        "plt.show()"
      ],
      "metadata": {
        "colab": {
          "base_uri": "https://localhost:8080/",
          "height": 295
        },
        "id": "Y4-WPiF72d-g",
        "outputId": "e2328502-a440-47ff-da7f-e411a87fd865"
      },
      "execution_count": null,
      "outputs": [
        {
          "output_type": "display_data",
          "data": {
            "text/plain": [
              "<Figure size 432x288 with 1 Axes>"
            ],
            "image/png": "[encoded data removed]"
          },
          "metadata": {
            "needs_background": "light"
          }
        }
      ]
    }
  ]
}