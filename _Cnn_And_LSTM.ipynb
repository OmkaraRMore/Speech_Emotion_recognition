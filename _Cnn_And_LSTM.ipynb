{
  "cells": [
    {
      "cell_type": "markdown",
      "source": [
        "\n",
        "# Importing Necessary Libraries"
      ],
      "metadata": {
        "id": "7F9g9oqjIfZb"
      }
    },
    {
      "cell_type": "code",
      "execution_count": null,
      "metadata": {
        "id": "_4B_L_KLKVAv"
      },
      "outputs": [],
      "source": [
        "import pandas as pd\n",
        "import numpy as np\n",
        "\n",
        "import os\n",
        "import sys\n",
        "\n",
        "# librosa is a Python library for analyzing audio and music. It can be used to extract the data from the audio files we will see it later.\n",
        "import librosa\n",
        "import librosa.display\n",
        "import seaborn as sns\n",
        "import matplotlib.pyplot as plt\n",
        "\n",
        "from sklearn.preprocessing import StandardScaler\n",
        "from sklearn.metrics import confusion_matrix, classification_report\n",
        "from sklearn.model_selection import train_test_split\n",
        "\n",
        "# to play the audio files\n",
        "from IPython.display import Audio\n",
        "import h5py\n",
        "from tensorflow import keras\n",
        "from keras.models import Sequential\n",
        "from keras.layers import *\n",
        "from tensorflow.keras.utils import to_categorical\n",
        "from keras.callbacks import ModelCheckpoint\n",
        "import soundfile \n",
        "\n",
        "import warnings\n",
        "if not sys.warnoptions:\n",
        "    warnings.simplefilter(\"ignore\")\n",
        "warnings.filterwarnings(\"ignore\", category=DeprecationWarning)"
      ]
    },
    {
      "cell_type": "code",
      "execution_count": null,
      "metadata": {
        "colab": {
          "base_uri": "https://localhost:8080/"
        },
        "id": "t9_nLMiGJ3yV",
        "outputId": "28de847a-2135-4510-8c5d-7231d6a17a15"
      },
      "outputs": [
        {
          "output_type": "stream",
          "name": "stdout",
          "text": [
            "Mounted at /content/drive/\n"
          ]
        }
      ],
      "source": [
        "from google.colab import drive\n",
        "drive.mount('/content/drive/')"
      ]
    },
    {
      "cell_type": "code",
      "execution_count": null,
      "metadata": {
        "id": "4KgEai8ILQRs"
      },
      "outputs": [],
      "source": [
        "# Paths for data.\n",
        "Ravdess = \"/content/drive/MyDrive/Dataset/Ravdess/audio_speech_actors_01-24/\"\n",
        "Tess = \"/content/drive/MyDrive/Dataset/Tess/\"\n",
        "Savee = \"/content/drive/MyDrive/Dataset/Ravdess/Savee/\""
      ]
    },
    {
      "cell_type": "code",
      "execution_count": null,
      "metadata": {
        "colab": {
          "base_uri": "https://localhost:8080/",
          "height": 206
        },
        "id": "PolVB7tdYhZB",
        "outputId": "330a750f-db5f-4139-9d47-5abd9708e199"
      },
      "outputs": [
        {
          "output_type": "execute_result",
          "data": {
            "text/plain": [
              "  Emotions                                               Path\n",
              "0  neutral  /content/drive/MyDrive/Dataset/Ravdess/audio_s...\n",
              "1      sad  /content/drive/MyDrive/Dataset/Ravdess/audio_s...\n",
              "2  neutral  /content/drive/MyDrive/Dataset/Ravdess/audio_s...\n",
              "3    happy  /content/drive/MyDrive/Dataset/Ravdess/audio_s...\n",
              "4     fear  /content/drive/MyDrive/Dataset/Ravdess/audio_s..."
            ],
            "text/html": [
              "\n",
              "  <div id=\"df-b04dc0e8-5c5d-4701-9ce5-efd474303bcc\">\n",
              "    <div class=\"colab-df-container\">\n",
              "      <div>\n",
              "<style scoped>\n",
              "    .dataframe tbody tr th:only-of-type {\n",
              "        vertical-align: middle;\n",
              "    }\n",
              "\n",
              "    .dataframe tbody tr th {\n",
              "        vertical-align: top;\n",
              "    }\n",
              "\n",
              "    .dataframe thead th {\n",
              "        text-align: right;\n",
              "    }\n",
              "</style>\n",
              "<table border=\"1\" class=\"dataframe\">\n",
              "  <thead>\n",
              "    <tr style=\"text-align: right;\">\n",
              "      <th></th>\n",
              "      <th>Emotions</th>\n",
              "      <th>Path</th>\n",
              "    </tr>\n",
              "  </thead>\n",
              "  <tbody>\n",
              "    <tr>\n",
              "      <th>0</th>\n",
              "      <td>neutral</td>\n",
              "      <td>/content/drive/MyDrive/Dataset/Ravdess/audio_s...</td>\n",
              "    </tr>\n",
              "    <tr>\n",
              "      <th>1</th>\n",
              "      <td>sad</td>\n",
              "      <td>/content/drive/MyDrive/Dataset/Ravdess/audio_s...</td>\n",
              "    </tr>\n",
              "    <tr>\n",
              "      <th>2</th>\n",
              "      <td>neutral</td>\n",
              "      <td>/content/drive/MyDrive/Dataset/Ravdess/audio_s...</td>\n",
              "    </tr>\n",
              "    <tr>\n",
              "      <th>3</th>\n",
              "      <td>happy</td>\n",
              "      <td>/content/drive/MyDrive/Dataset/Ravdess/audio_s...</td>\n",
              "    </tr>\n",
              "    <tr>\n",
              "      <th>4</th>\n",
              "      <td>fear</td>\n",
              "      <td>/content/drive/MyDrive/Dataset/Ravdess/audio_s...</td>\n",
              "    </tr>\n",
              "  </tbody>\n",
              "</table>\n",
              "</div>\n",
              "      <button class=\"colab-df-convert\" onclick=\"convertToInteractive('df-b04dc0e8-5c5d-4701-9ce5-efd474303bcc')\"\n",
              "              title=\"Convert this dataframe to an interactive table.\"\n",
              "              style=\"display:none;\">\n",
              "        \n",
              "  <svg xmlns=\"http://www.w3.org/2000/svg\" height=\"24px\"viewBox=\"0 0 24 24\"\n",
              "       width=\"24px\">\n",
              "    <path d=\"M0 0h24v24H0V0z\" fill=\"none\"/>\n",
              "    <path d=\"M18.56 5.44l.94 2.06.94-2.06 2.06-.94-2.06-.94-.94-2.06-.94 2.06-2.06.94zm-11 1L8.5 8.5l.94-2.06 2.06-.94-2.06-.94L8.5 2.5l-.94 2.06-2.06.94zm10 10l.94 2.06.94-2.06 2.06-.94-2.06-.94-.94-2.06-.94 2.06-2.06.94z\"/><path d=\"M17.41 7.96l-1.37-1.37c-.4-.4-.92-.59-1.43-.59-.52 0-1.04.2-1.43.59L10.3 9.45l-7.72 7.72c-.78.78-.78 2.05 0 2.83L4 21.41c.39.39.9.59 1.41.59.51 0 1.02-.2 1.41-.59l7.78-7.78 2.81-2.81c.8-.78.8-2.07 0-2.86zM5.41 20L4 18.59l7.72-7.72 1.47 1.35L5.41 20z\"/>\n",
              "  </svg>\n",
              "      </button>\n",
              "      \n",
              "  <style>\n",
              "    .colab-df-container {\n",
              "      display:flex;\n",
              "      flex-wrap:wrap;\n",
              "      gap: 12px;\n",
              "    }\n",
              "\n",
              "    .colab-df-convert {\n",
              "      background-color: #E8F0FE;\n",
              "      border: none;\n",
              "      border-radius: 50%;\n",
              "      cursor: pointer;\n",
              "      display: none;\n",
              "      fill: #1967D2;\n",
              "      height: 32px;\n",
              "      padding: 0 0 0 0;\n",
              "      width: 32px;\n",
              "    }\n",
              "\n",
              "    .colab-df-convert:hover {\n",
              "      background-color: #E2EBFA;\n",
              "      box-shadow: 0px 1px 2px rgba(60, 64, 67, 0.3), 0px 1px 3px 1px rgba(60, 64, 67, 0.15);\n",
              "      fill: #174EA6;\n",
              "    }\n",
              "\n",
              "    [theme=dark] .colab-df-convert {\n",
              "      background-color: #3B4455;\n",
              "      fill: #D2E3FC;\n",
              "    }\n",
              "\n",
              "    [theme=dark] .colab-df-convert:hover {\n",
              "      background-color: #434B5C;\n",
              "      box-shadow: 0px 1px 3px 1px rgba(0, 0, 0, 0.15);\n",
              "      filter: drop-shadow(0px 1px 2px rgba(0, 0, 0, 0.3));\n",
              "      fill: #FFFFFF;\n",
              "    }\n",
              "  </style>\n",
              "\n",
              "      <script>\n",
              "        const buttonEl =\n",
              "          document.querySelector('#df-b04dc0e8-5c5d-4701-9ce5-efd474303bcc button.colab-df-convert');\n",
              "        buttonEl.style.display =\n",
              "          google.colab.kernel.accessAllowed ? 'block' : 'none';\n",
              "\n",
              "        async function convertToInteractive(key) {\n",
              "          const element = document.querySelector('#df-b04dc0e8-5c5d-4701-9ce5-efd474303bcc');\n",
              "          const dataTable =\n",
              "            await google.colab.kernel.invokeFunction('convertToInteractive',\n",
              "                                                     [key], {});\n",
              "          if (!dataTable) return;\n",
              "\n",
              "          const docLinkHtml = 'Like what you see? Visit the ' +\n",
              "            '<a target=\"_blank\" href=https://colab.research.google.com/notebooks/data_table.ipynb>data table notebook</a>'\n",
              "            + ' to learn more about interactive tables.';\n",
              "          element.innerHTML = '';\n",
              "          dataTable['output_type'] = 'display_data';\n",
              "          await google.colab.output.renderOutput(dataTable, element);\n",
              "          const docLink = document.createElement('div');\n",
              "          docLink.innerHTML = docLinkHtml;\n",
              "          element.appendChild(docLink);\n",
              "        }\n",
              "      </script>\n",
              "    </div>\n",
              "  </div>\n",
              "  "
            ]
          },
          "metadata": {},
          "execution_count": 4
        }
      ],
      "source": [
        "ravdess_directory_list = os.listdir(Ravdess)\n",
        "\n",
        "file_emotion = []\n",
        "file_path = []\n",
        "for dir in ravdess_directory_list:\n",
        "    # as their are 20 different actors in our previous directory we need to extract files for each actor.\n",
        "    actor = os.listdir(Ravdess + dir)\n",
        "    for file in actor:\n",
        "        part = file.split('.')[0]\n",
        "        part = part.split('-')\n",
        "        # third part in each file represents the emotion associated to that file.\n",
        "        file_emotion.append(int(part[2]))\n",
        "        file_path.append(Ravdess + dir + '/' + file)\n",
        "        \n",
        "# dataframe for emotion of files\n",
        "emotion_df = pd.DataFrame(file_emotion, columns=['Emotions'])\n",
        "\n",
        "# dataframe for path of files.\n",
        "path_df = pd.DataFrame(file_path, columns=['Path'])\n",
        "Ravdess_df = pd.concat([emotion_df, path_df], axis=1)\n",
        "\n",
        "# changing integers to actual emotions.\n",
        "Ravdess_df.Emotions.replace({1:'neutral', 2:'calm', 3:'happy', 4:'sad', 5:'angry', 6:'fear', 7:'disgust', 8:'surprise'}, inplace=True)\n",
        "Ravdess_df.head()"
      ]
    },
    {
      "cell_type": "code",
      "execution_count": null,
      "metadata": {
        "colab": {
          "base_uri": "https://localhost:8080/",
          "height": 206
        },
        "id": "Tu8HJNqEL4Sr",
        "outputId": "421631ef-98a2-4a52-bf90-90597385e974"
      },
      "outputs": [
        {
          "output_type": "execute_result",
          "data": {
            "text/plain": [
              "   Emotions                                               Path\n",
              "0  surprise  /content/drive/MyDrive/Dataset/Tess/YAF_pleasa...\n",
              "1  surprise  /content/drive/MyDrive/Dataset/Tess/YAF_pleasa...\n",
              "2  surprise  /content/drive/MyDrive/Dataset/Tess/YAF_pleasa...\n",
              "3  surprise  /content/drive/MyDrive/Dataset/Tess/YAF_pleasa...\n",
              "4  surprise  /content/drive/MyDrive/Dataset/Tess/YAF_pleasa..."
            ],
            "text/html": [
              "\n",
              "  <div id=\"df-6e261bae-c912-4e38-941c-7ffec74f7c0f\">\n",
              "    <div class=\"colab-df-container\">\n",
              "      <div>\n",
              "<style scoped>\n",
              "    .dataframe tbody tr th:only-of-type {\n",
              "        vertical-align: middle;\n",
              "    }\n",
              "\n",
              "    .dataframe tbody tr th {\n",
              "        vertical-align: top;\n",
              "    }\n",
              "\n",
              "    .dataframe thead th {\n",
              "        text-align: right;\n",
              "    }\n",
              "</style>\n",
              "<table border=\"1\" class=\"dataframe\">\n",
              "  <thead>\n",
              "    <tr style=\"text-align: right;\">\n",
              "      <th></th>\n",
              "      <th>Emotions</th>\n",
              "      <th>Path</th>\n",
              "    </tr>\n",
              "  </thead>\n",
              "  <tbody>\n",
              "    <tr>\n",
              "      <th>0</th>\n",
              "      <td>surprise</td>\n",
              "      <td>/content/drive/MyDrive/Dataset/Tess/YAF_pleasa...</td>\n",
              "    </tr>\n",
              "    <tr>\n",
              "      <th>1</th>\n",
              "      <td>surprise</td>\n",
              "      <td>/content/drive/MyDrive/Dataset/Tess/YAF_pleasa...</td>\n",
              "    </tr>\n",
              "    <tr>\n",
              "      <th>2</th>\n",
              "      <td>surprise</td>\n",
              "      <td>/content/drive/MyDrive/Dataset/Tess/YAF_pleasa...</td>\n",
              "    </tr>\n",
              "    <tr>\n",
              "      <th>3</th>\n",
              "      <td>surprise</td>\n",
              "      <td>/content/drive/MyDrive/Dataset/Tess/YAF_pleasa...</td>\n",
              "    </tr>\n",
              "    <tr>\n",
              "      <th>4</th>\n",
              "      <td>surprise</td>\n",
              "      <td>/content/drive/MyDrive/Dataset/Tess/YAF_pleasa...</td>\n",
              "    </tr>\n",
              "  </tbody>\n",
              "</table>\n",
              "</div>\n",
              "      <button class=\"colab-df-convert\" onclick=\"convertToInteractive('df-6e261bae-c912-4e38-941c-7ffec74f7c0f')\"\n",
              "              title=\"Convert this dataframe to an interactive table.\"\n",
              "              style=\"display:none;\">\n",
              "        \n",
              "  <svg xmlns=\"http://www.w3.org/2000/svg\" height=\"24px\"viewBox=\"0 0 24 24\"\n",
              "       width=\"24px\">\n",
              "    <path d=\"M0 0h24v24H0V0z\" fill=\"none\"/>\n",
              "    <path d=\"M18.56 5.44l.94 2.06.94-2.06 2.06-.94-2.06-.94-.94-2.06-.94 2.06-2.06.94zm-11 1L8.5 8.5l.94-2.06 2.06-.94-2.06-.94L8.5 2.5l-.94 2.06-2.06.94zm10 10l.94 2.06.94-2.06 2.06-.94-2.06-.94-.94-2.06-.94 2.06-2.06.94z\"/><path d=\"M17.41 7.96l-1.37-1.37c-.4-.4-.92-.59-1.43-.59-.52 0-1.04.2-1.43.59L10.3 9.45l-7.72 7.72c-.78.78-.78 2.05 0 2.83L4 21.41c.39.39.9.59 1.41.59.51 0 1.02-.2 1.41-.59l7.78-7.78 2.81-2.81c.8-.78.8-2.07 0-2.86zM5.41 20L4 18.59l7.72-7.72 1.47 1.35L5.41 20z\"/>\n",
              "  </svg>\n",
              "      </button>\n",
              "      \n",
              "  <style>\n",
              "    .colab-df-container {\n",
              "      display:flex;\n",
              "      flex-wrap:wrap;\n",
              "      gap: 12px;\n",
              "    }\n",
              "\n",
              "    .colab-df-convert {\n",
              "      background-color: #E8F0FE;\n",
              "      border: none;\n",
              "      border-radius: 50%;\n",
              "      cursor: pointer;\n",
              "      display: none;\n",
              "      fill: #1967D2;\n",
              "      height: 32px;\n",
              "      padding: 0 0 0 0;\n",
              "      width: 32px;\n",
              "    }\n",
              "\n",
              "    .colab-df-convert:hover {\n",
              "      background-color: #E2EBFA;\n",
              "      box-shadow: 0px 1px 2px rgba(60, 64, 67, 0.3), 0px 1px 3px 1px rgba(60, 64, 67, 0.15);\n",
              "      fill: #174EA6;\n",
              "    }\n",
              "\n",
              "    [theme=dark] .colab-df-convert {\n",
              "      background-color: #3B4455;\n",
              "      fill: #D2E3FC;\n",
              "    }\n",
              "\n",
              "    [theme=dark] .colab-df-convert:hover {\n",
              "      background-color: #434B5C;\n",
              "      box-shadow: 0px 1px 3px 1px rgba(0, 0, 0, 0.15);\n",
              "      filter: drop-shadow(0px 1px 2px rgba(0, 0, 0, 0.3));\n",
              "      fill: #FFFFFF;\n",
              "    }\n",
              "  </style>\n",
              "\n",
              "      <script>\n",
              "        const buttonEl =\n",
              "          document.querySelector('#df-6e261bae-c912-4e38-941c-7ffec74f7c0f button.colab-df-convert');\n",
              "        buttonEl.style.display =\n",
              "          google.colab.kernel.accessAllowed ? 'block' : 'none';\n",
              "\n",
              "        async function convertToInteractive(key) {\n",
              "          const element = document.querySelector('#df-6e261bae-c912-4e38-941c-7ffec74f7c0f');\n",
              "          const dataTable =\n",
              "            await google.colab.kernel.invokeFunction('convertToInteractive',\n",
              "                                                     [key], {});\n",
              "          if (!dataTable) return;\n",
              "\n",
              "          const docLinkHtml = 'Like what you see? Visit the ' +\n",
              "            '<a target=\"_blank\" href=https://colab.research.google.com/notebooks/data_table.ipynb>data table notebook</a>'\n",
              "            + ' to learn more about interactive tables.';\n",
              "          element.innerHTML = '';\n",
              "          dataTable['output_type'] = 'display_data';\n",
              "          await google.colab.output.renderOutput(dataTable, element);\n",
              "          const docLink = document.createElement('div');\n",
              "          docLink.innerHTML = docLinkHtml;\n",
              "          element.appendChild(docLink);\n",
              "        }\n",
              "      </script>\n",
              "    </div>\n",
              "  </div>\n",
              "  "
            ]
          },
          "metadata": {},
          "execution_count": 5
        }
      ],
      "source": [
        "paths = []\n",
        "labels = []\n",
        "for dirname, _, filenames in os.walk('/content/drive/MyDrive/Dataset/Tess'):\n",
        "    for filename in filenames:\n",
        "        paths.append(os.path.join(dirname, filename))\n",
        "        label = filename.split('_')[-1]\n",
        "        label = label.split('.')[0]\n",
        "        labels.append(label.lower())\n",
        "    if len(paths) == 2800:\n",
        "        break\n",
        "## Create a dataframe\n",
        "Tess_df = pd.DataFrame()\n",
        "Tess_df['Emotions'] = labels\n",
        "Tess_df['Path'] = paths\n",
        "Tess_df['Emotions'].replace({'ps':'surprise'},inplace = True)\n",
        "Tess_df.head()\n"
      ]
    },
    {
      "cell_type": "code",
      "execution_count": null,
      "metadata": {
        "colab": {
          "base_uri": "https://localhost:8080/",
          "height": 206
        },
        "id": "-A_TY9nMYmMh",
        "outputId": "185b7d09-0d4d-499b-b90d-541022f7dc08"
      },
      "outputs": [
        {
          "output_type": "execute_result",
          "data": {
            "text/plain": [
              "  Emotions                                               Path\n",
              "0    angry  /content/drive/MyDrive/Dataset/Ravdess/Savee/D...\n",
              "1    angry  /content/drive/MyDrive/Dataset/Ravdess/Savee/D...\n",
              "2    angry  /content/drive/MyDrive/Dataset/Ravdess/Savee/D...\n",
              "3    angry  /content/drive/MyDrive/Dataset/Ravdess/Savee/D...\n",
              "4    angry  /content/drive/MyDrive/Dataset/Ravdess/Savee/D..."
            ],
            "text/html": [
              "\n",
              "  <div id=\"df-691dd2a5-3f39-4b9f-9475-dacdff0a2705\">\n",
              "    <div class=\"colab-df-container\">\n",
              "      <div>\n",
              "<style scoped>\n",
              "    .dataframe tbody tr th:only-of-type {\n",
              "        vertical-align: middle;\n",
              "    }\n",
              "\n",
              "    .dataframe tbody tr th {\n",
              "        vertical-align: top;\n",
              "    }\n",
              "\n",
              "    .dataframe thead th {\n",
              "        text-align: right;\n",
              "    }\n",
              "</style>\n",
              "<table border=\"1\" class=\"dataframe\">\n",
              "  <thead>\n",
              "    <tr style=\"text-align: right;\">\n",
              "      <th></th>\n",
              "      <th>Emotions</th>\n",
              "      <th>Path</th>\n",
              "    </tr>\n",
              "  </thead>\n",
              "  <tbody>\n",
              "    <tr>\n",
              "      <th>0</th>\n",
              "      <td>angry</td>\n",
              "      <td>/content/drive/MyDrive/Dataset/Ravdess/Savee/D...</td>\n",
              "    </tr>\n",
              "    <tr>\n",
              "      <th>1</th>\n",
              "      <td>angry</td>\n",
              "      <td>/content/drive/MyDrive/Dataset/Ravdess/Savee/D...</td>\n",
              "    </tr>\n",
              "    <tr>\n",
              "      <th>2</th>\n",
              "      <td>angry</td>\n",
              "      <td>/content/drive/MyDrive/Dataset/Ravdess/Savee/D...</td>\n",
              "    </tr>\n",
              "    <tr>\n",
              "      <th>3</th>\n",
              "      <td>angry</td>\n",
              "      <td>/content/drive/MyDrive/Dataset/Ravdess/Savee/D...</td>\n",
              "    </tr>\n",
              "    <tr>\n",
              "      <th>4</th>\n",
              "      <td>angry</td>\n",
              "      <td>/content/drive/MyDrive/Dataset/Ravdess/Savee/D...</td>\n",
              "    </tr>\n",
              "  </tbody>\n",
              "</table>\n",
              "</div>\n",
              "      <button class=\"colab-df-convert\" onclick=\"convertToInteractive('df-691dd2a5-3f39-4b9f-9475-dacdff0a2705')\"\n",
              "              title=\"Convert this dataframe to an interactive table.\"\n",
              "              style=\"display:none;\">\n",
              "        \n",
              "  <svg xmlns=\"http://www.w3.org/2000/svg\" height=\"24px\"viewBox=\"0 0 24 24\"\n",
              "       width=\"24px\">\n",
              "    <path d=\"M0 0h24v24H0V0z\" fill=\"none\"/>\n",
              "    <path d=\"M18.56 5.44l.94 2.06.94-2.06 2.06-.94-2.06-.94-.94-2.06-.94 2.06-2.06.94zm-11 1L8.5 8.5l.94-2.06 2.06-.94-2.06-.94L8.5 2.5l-.94 2.06-2.06.94zm10 10l.94 2.06.94-2.06 2.06-.94-2.06-.94-.94-2.06-.94 2.06-2.06.94z\"/><path d=\"M17.41 7.96l-1.37-1.37c-.4-.4-.92-.59-1.43-.59-.52 0-1.04.2-1.43.59L10.3 9.45l-7.72 7.72c-.78.78-.78 2.05 0 2.83L4 21.41c.39.39.9.59 1.41.59.51 0 1.02-.2 1.41-.59l7.78-7.78 2.81-2.81c.8-.78.8-2.07 0-2.86zM5.41 20L4 18.59l7.72-7.72 1.47 1.35L5.41 20z\"/>\n",
              "  </svg>\n",
              "      </button>\n",
              "      \n",
              "  <style>\n",
              "    .colab-df-container {\n",
              "      display:flex;\n",
              "      flex-wrap:wrap;\n",
              "      gap: 12px;\n",
              "    }\n",
              "\n",
              "    .colab-df-convert {\n",
              "      background-color: #E8F0FE;\n",
              "      border: none;\n",
              "      border-radius: 50%;\n",
              "      cursor: pointer;\n",
              "      display: none;\n",
              "      fill: #1967D2;\n",
              "      height: 32px;\n",
              "      padding: 0 0 0 0;\n",
              "      width: 32px;\n",
              "    }\n",
              "\n",
              "    .colab-df-convert:hover {\n",
              "      background-color: #E2EBFA;\n",
              "      box-shadow: 0px 1px 2px rgba(60, 64, 67, 0.3), 0px 1px 3px 1px rgba(60, 64, 67, 0.15);\n",
              "      fill: #174EA6;\n",
              "    }\n",
              "\n",
              "    [theme=dark] .colab-df-convert {\n",
              "      background-color: #3B4455;\n",
              "      fill: #D2E3FC;\n",
              "    }\n",
              "\n",
              "    [theme=dark] .colab-df-convert:hover {\n",
              "      background-color: #434B5C;\n",
              "      box-shadow: 0px 1px 3px 1px rgba(0, 0, 0, 0.15);\n",
              "      filter: drop-shadow(0px 1px 2px rgba(0, 0, 0, 0.3));\n",
              "      fill: #FFFFFF;\n",
              "    }\n",
              "  </style>\n",
              "\n",
              "      <script>\n",
              "        const buttonEl =\n",
              "          document.querySelector('#df-691dd2a5-3f39-4b9f-9475-dacdff0a2705 button.colab-df-convert');\n",
              "        buttonEl.style.display =\n",
              "          google.colab.kernel.accessAllowed ? 'block' : 'none';\n",
              "\n",
              "        async function convertToInteractive(key) {\n",
              "          const element = document.querySelector('#df-691dd2a5-3f39-4b9f-9475-dacdff0a2705');\n",
              "          const dataTable =\n",
              "            await google.colab.kernel.invokeFunction('convertToInteractive',\n",
              "                                                     [key], {});\n",
              "          if (!dataTable) return;\n",
              "\n",
              "          const docLinkHtml = 'Like what you see? Visit the ' +\n",
              "            '<a target=\"_blank\" href=https://colab.research.google.com/notebooks/data_table.ipynb>data table notebook</a>'\n",
              "            + ' to learn more about interactive tables.';\n",
              "          element.innerHTML = '';\n",
              "          dataTable['output_type'] = 'display_data';\n",
              "          await google.colab.output.renderOutput(dataTable, element);\n",
              "          const docLink = document.createElement('div');\n",
              "          docLink.innerHTML = docLinkHtml;\n",
              "          element.appendChild(docLink);\n",
              "        }\n",
              "      </script>\n",
              "    </div>\n",
              "  </div>\n",
              "  "
            ]
          },
          "metadata": {},
          "execution_count": 6
        }
      ],
      "source": [
        "savee_directory_list = os.listdir(Savee)\n",
        "\n",
        "file_emotion = []\n",
        "file_path = []\n",
        "\n",
        "for file in savee_directory_list:\n",
        "    file_path.append(Savee + file)\n",
        "    part = file.split('_')[1]\n",
        "    ele = part[:-6]\n",
        "    if ele=='a':\n",
        "        file_emotion.append('angry')\n",
        "    elif ele=='d':\n",
        "        file_emotion.append('disgust')\n",
        "    elif ele=='f':\n",
        "        file_emotion.append('fear')\n",
        "    elif ele=='h':\n",
        "        file_emotion.append('happy')\n",
        "    elif ele=='n':\n",
        "        file_emotion.append('neutral')\n",
        "    elif ele=='sa':\n",
        "        file_emotion.append('sad')\n",
        "    else:\n",
        "        file_emotion.append('surprise')\n",
        "        \n",
        "# dataframe for emotion of files\n",
        "emotion_df = pd.DataFrame(file_emotion, columns=['Emotions'])\n",
        "\n",
        "# dataframe for path of files.\n",
        "path_df = pd.DataFrame(file_path, columns=['Path'])\n",
        "Savee_df = pd.concat([emotion_df, path_df], axis=1)\n",
        "Savee_df.head()"
      ]
    },
    {
      "cell_type": "code",
      "execution_count": null,
      "metadata": {
        "colab": {
          "base_uri": "https://localhost:8080/",
          "height": 206
        },
        "id": "1DNgy-CEMICX",
        "outputId": "63823f49-39d3-419e-ada7-766490d83f9c"
      },
      "outputs": [
        {
          "output_type": "execute_result",
          "data": {
            "text/plain": [
              "  Emotions                                               Path\n",
              "0  neutral  /content/drive/MyDrive/Dataset/Ravdess/audio_s...\n",
              "1      sad  /content/drive/MyDrive/Dataset/Ravdess/audio_s...\n",
              "2  neutral  /content/drive/MyDrive/Dataset/Ravdess/audio_s...\n",
              "3    happy  /content/drive/MyDrive/Dataset/Ravdess/audio_s...\n",
              "4     fear  /content/drive/MyDrive/Dataset/Ravdess/audio_s..."
            ],
            "text/html": [
              "\n",
              "  <div id=\"df-a61bfbae-ad65-4b72-9d26-19562c458744\">\n",
              "    <div class=\"colab-df-container\">\n",
              "      <div>\n",
              "<style scoped>\n",
              "    .dataframe tbody tr th:only-of-type {\n",
              "        vertical-align: middle;\n",
              "    }\n",
              "\n",
              "    .dataframe tbody tr th {\n",
              "        vertical-align: top;\n",
              "    }\n",
              "\n",
              "    .dataframe thead th {\n",
              "        text-align: right;\n",
              "    }\n",
              "</style>\n",
              "<table border=\"1\" class=\"dataframe\">\n",
              "  <thead>\n",
              "    <tr style=\"text-align: right;\">\n",
              "      <th></th>\n",
              "      <th>Emotions</th>\n",
              "      <th>Path</th>\n",
              "    </tr>\n",
              "  </thead>\n",
              "  <tbody>\n",
              "    <tr>\n",
              "      <th>0</th>\n",
              "      <td>neutral</td>\n",
              "      <td>/content/drive/MyDrive/Dataset/Ravdess/audio_s...</td>\n",
              "    </tr>\n",
              "    <tr>\n",
              "      <th>1</th>\n",
              "      <td>sad</td>\n",
              "      <td>/content/drive/MyDrive/Dataset/Ravdess/audio_s...</td>\n",
              "    </tr>\n",
              "    <tr>\n",
              "      <th>2</th>\n",
              "      <td>neutral</td>\n",
              "      <td>/content/drive/MyDrive/Dataset/Ravdess/audio_s...</td>\n",
              "    </tr>\n",
              "    <tr>\n",
              "      <th>3</th>\n",
              "      <td>happy</td>\n",
              "      <td>/content/drive/MyDrive/Dataset/Ravdess/audio_s...</td>\n",
              "    </tr>\n",
              "    <tr>\n",
              "      <th>4</th>\n",
              "      <td>fear</td>\n",
              "      <td>/content/drive/MyDrive/Dataset/Ravdess/audio_s...</td>\n",
              "    </tr>\n",
              "  </tbody>\n",
              "</table>\n",
              "</div>\n",
              "      <button class=\"colab-df-convert\" onclick=\"convertToInteractive('df-a61bfbae-ad65-4b72-9d26-19562c458744')\"\n",
              "              title=\"Convert this dataframe to an interactive table.\"\n",
              "              style=\"display:none;\">\n",
              "        \n",
              "  <svg xmlns=\"http://www.w3.org/2000/svg\" height=\"24px\"viewBox=\"0 0 24 24\"\n",
              "       width=\"24px\">\n",
              "    <path d=\"M0 0h24v24H0V0z\" fill=\"none\"/>\n",
              "    <path d=\"M18.56 5.44l.94 2.06.94-2.06 2.06-.94-2.06-.94-.94-2.06-.94 2.06-2.06.94zm-11 1L8.5 8.5l.94-2.06 2.06-.94-2.06-.94L8.5 2.5l-.94 2.06-2.06.94zm10 10l.94 2.06.94-2.06 2.06-.94-2.06-.94-.94-2.06-.94 2.06-2.06.94z\"/><path d=\"M17.41 7.96l-1.37-1.37c-.4-.4-.92-.59-1.43-.59-.52 0-1.04.2-1.43.59L10.3 9.45l-7.72 7.72c-.78.78-.78 2.05 0 2.83L4 21.41c.39.39.9.59 1.41.59.51 0 1.02-.2 1.41-.59l7.78-7.78 2.81-2.81c.8-.78.8-2.07 0-2.86zM5.41 20L4 18.59l7.72-7.72 1.47 1.35L5.41 20z\"/>\n",
              "  </svg>\n",
              "      </button>\n",
              "      \n",
              "  <style>\n",
              "    .colab-df-container {\n",
              "      display:flex;\n",
              "      flex-wrap:wrap;\n",
              "      gap: 12px;\n",
              "    }\n",
              "\n",
              "    .colab-df-convert {\n",
              "      background-color: #E8F0FE;\n",
              "      border: none;\n",
              "      border-radius: 50%;\n",
              "      cursor: pointer;\n",
              "      display: none;\n",
              "      fill: #1967D2;\n",
              "      height: 32px;\n",
              "      padding: 0 0 0 0;\n",
              "      width: 32px;\n",
              "    }\n",
              "\n",
              "    .colab-df-convert:hover {\n",
              "      background-color: #E2EBFA;\n",
              "      box-shadow: 0px 1px 2px rgba(60, 64, 67, 0.3), 0px 1px 3px 1px rgba(60, 64, 67, 0.15);\n",
              "      fill: #174EA6;\n",
              "    }\n",
              "\n",
              "    [theme=dark] .colab-df-convert {\n",
              "      background-color: #3B4455;\n",
              "      fill: #D2E3FC;\n",
              "    }\n",
              "\n",
              "    [theme=dark] .colab-df-convert:hover {\n",
              "      background-color: #434B5C;\n",
              "      box-shadow: 0px 1px 3px 1px rgba(0, 0, 0, 0.15);\n",
              "      filter: drop-shadow(0px 1px 2px rgba(0, 0, 0, 0.3));\n",
              "      fill: #FFFFFF;\n",
              "    }\n",
              "  </style>\n",
              "\n",
              "      <script>\n",
              "        const buttonEl =\n",
              "          document.querySelector('#df-a61bfbae-ad65-4b72-9d26-19562c458744 button.colab-df-convert');\n",
              "        buttonEl.style.display =\n",
              "          google.colab.kernel.accessAllowed ? 'block' : 'none';\n",
              "\n",
              "        async function convertToInteractive(key) {\n",
              "          const element = document.querySelector('#df-a61bfbae-ad65-4b72-9d26-19562c458744');\n",
              "          const dataTable =\n",
              "            await google.colab.kernel.invokeFunction('convertToInteractive',\n",
              "                                                     [key], {});\n",
              "          if (!dataTable) return;\n",
              "\n",
              "          const docLinkHtml = 'Like what you see? Visit the ' +\n",
              "            '<a target=\"_blank\" href=https://colab.research.google.com/notebooks/data_table.ipynb>data table notebook</a>'\n",
              "            + ' to learn more about interactive tables.';\n",
              "          element.innerHTML = '';\n",
              "          dataTable['output_type'] = 'display_data';\n",
              "          await google.colab.output.renderOutput(dataTable, element);\n",
              "          const docLink = document.createElement('div');\n",
              "          docLink.innerHTML = docLinkHtml;\n",
              "          element.appendChild(docLink);\n",
              "        }\n",
              "      </script>\n",
              "    </div>\n",
              "  </div>\n",
              "  "
            ]
          },
          "metadata": {},
          "execution_count": 7
        }
      ],
      "source": [
        "# creating Dataframe using all the 4 dataframes we created so far.\n",
        "data_path = pd.concat([Ravdess_df,Tess_df, Savee_df], axis = 0)\n",
        "data_path.to_csv(\"data_path.csv\",index=False)\n",
        "data_path.head()"
      ]
    },
    {
      "cell_type": "markdown",
      "source": [
        "# Data Exploration and Visualisation"
      ],
      "metadata": {
        "id": "SrMTQvKhIzIq"
      }
    },
    {
      "cell_type": "code",
      "source": [
        "plt.title('Count of Emotions', size=16)\n",
        "sns.countplot(data_path.Emotions)\n",
        "plt.ylabel('Count', size=12)\n",
        "plt.xlabel('Emotions', size=12)\n",
        "sns.despine(top=True, right=True, left=False, bottom=False)\n",
        "plt.show()"
      ],
      "metadata": {
        "colab": {
          "base_uri": "https://localhost:8080/",
          "height": 355
        },
        "id": "7E5zwkq9Rz4q",
        "outputId": "2b07bd86-b821-4cd0-ad7a-b58ba3157f8a"
      },
      "execution_count": null,
      "outputs": [
        {
          "output_type": "stream",
          "name": "stderr",
          "text": [
            "/usr/local/lib/python3.7/dist-packages/seaborn/_decorators.py:43: FutureWarning: Pass the following variable as a keyword arg: x. From version 0.12, the only valid positional argument will be `data`, and passing other arguments without an explicit keyword will result in an error or misinterpretation.\n",
            "  FutureWarning\n"
          ]
        },
        {
          "output_type": "display_data",
          "data": {
            "text/plain": [
              "<Figure size 432x288 with 1 Axes>"
            ],
            "image/png": "[encoded data removed]"
          },
          "metadata": {
            "needs_background": "light"
          }
        }
      ]
    },
    {
      "cell_type": "code",
      "source": [
        "data_path.Emotions.value_counts()"
      ],
      "metadata": {
        "colab": {
          "base_uri": "https://localhost:8080/"
        },
        "id": "ym52QXz0FDTa",
        "outputId": "8723fac6-28f0-4527-fdbd-b2b3f855409b"
      },
      "execution_count": null,
      "outputs": [
        {
          "output_type": "execute_result",
          "data": {
            "text/plain": [
              "sad         652\n",
              "happy       652\n",
              "fear        652\n",
              "surprise    652\n",
              "disgust     652\n",
              "angry       652\n",
              "neutral     616\n",
              "calm        192\n",
              "Name: Emotions, dtype: int64"
            ]
          },
          "metadata": {},
          "execution_count": 8
        }
      ]
    },
    {
      "cell_type": "code",
      "execution_count": null,
      "metadata": {
        "colab": {
          "base_uri": "https://localhost:8080/"
        },
        "id": "NJAPe-3gOFdK",
        "outputId": "7dca3128-94cf-4b04-e1b0-e7f01e8ac958"
      },
      "outputs": [
        {
          "output_type": "execute_result",
          "data": {
            "text/plain": [
              "(4720, 2)"
            ]
          },
          "metadata": {},
          "execution_count": 7
        }
      ],
      "source": [
        "data_path.shape"
      ]
    },
    {
      "cell_type": "markdown",
      "source": [
        "# Exploratory Data Analysis"
      ],
      "metadata": {
        "id": "xzzdBDMfI3ZR"
      }
    },
    {
      "cell_type": "markdown",
      "source": [
        "Data Augmentation"
      ],
      "metadata": {
        "id": "tSXdyApeI6ZZ"
      }
    },
    {
      "cell_type": "code",
      "source": [
        "def noise(data):\n",
        "    noise_amp = 0.035*np.random.uniform()*np.amax(data)\n",
        "    data = data + noise_amp*np.random.normal(size=data.shape[0])\n",
        "    return data\n",
        "\n",
        "def stretch(data, rate=0.8):\n",
        "    return librosa.effects.time_stretch(data, rate)\n",
        "\n",
        "def shift(data):\n",
        "    shift_range = int(np.random.uniform(low=-5, high = 5)*1000)\n",
        "    return np.roll(data, shift_range)\n",
        "\n",
        "def pitch(data, sampling_rate, pitch_factor=0.7):\n",
        "    return librosa.effects.pitch_shift(data, sampling_rate, pitch_factor)"
      ],
      "metadata": {
        "id": "Eyg9FWGHI8sr"
      },
      "execution_count": null,
      "outputs": []
    },
    {
      "cell_type": "markdown",
      "source": [
        "# Feature Extraction"
      ],
      "metadata": {
        "id": "E44cHbKSJAMJ"
      }
    },
    {
      "cell_type": "code",
      "source": [
        "def extract_features(data):\n",
        "     with soundfile.SoundFile(file) as sound_file:\n",
        "        data = sound_file.read(dtype=\"float32\")\n",
        "        sample_rate = sound_file.samplerate\n",
        "        # ZCR\n",
        "        result = np.array([])\n",
        "        zcr = np.mean(librosa.feature.zero_crossing_rate(y=data).T, axis=0)\n",
        "        result=np.hstack((result, zcr)) # stacking horizontally\n",
        "\n",
        "        # Chroma_stft\n",
        "        stft = np.abs(librosa.stft(data))\n",
        "        chroma_stft = np.mean(librosa.feature.chroma_stft(S=stft, sr=sample_rate).T, axis=0)\n",
        "        result = np.hstack((result, chroma_stft)) # stacking horizontally\n",
        "\n",
        "        # MFCC\n",
        "        mfcc = np.mean(librosa.feature.mfcc(y=data, sr=sample_rate).T, axis=0)\n",
        "        result = np.hstack((result, mfcc)) # stacking horizontally\n",
        "\n",
        "        # Root Mean Square Value\n",
        "        rms = np.mean(librosa.feature.rms(y=data).T, axis=0)\n",
        "        result = np.hstack((result, rms)) # stacking horizontally\n",
        "\n",
        "        # MelSpectogram\n",
        "        mel = np.mean(librosa.feature.melspectrogram(y=data, sr=sample_rate).T, axis=0)\n",
        "        result = np.hstack((result, mel)) # stacking horizontally\n",
        "        \n",
        "        return result\n",
        "\n",
        "def get_features(path):\n",
        "    # duration and offset are used to take care of the no audio in start and the ending of each audio files as seen above.\n",
        "    data, sample_rate = librosa.load(path, duration=2.5, offset=0.6)\n",
        "    \n",
        "    # without augmentation\n",
        "    res1 = extract_features(data)\n",
        "    result = np.array(res1)\n",
        "    \n",
        "    # data with noise\n",
        "    noise_data = noise(data)\n",
        "    res2 = extract_features(noise_data)\n",
        "    result = np.vstack((result, res2)) # stacking vertically\n",
        "    \n",
        "    # data with stretching and pitching\n",
        "    new_data = stretch(data)\n",
        "    data_stretch_pitch = pitch(new_data, sample_rate)\n",
        "    res3 = extract_features(data_stretch_pitch)\n",
        "    result = np.vstack((result, res3)) # stacking vertically\n",
        "    \n",
        "    return result"
      ],
      "metadata": {
        "id": "5A4tjCaGTT5H"
      },
      "execution_count": null,
      "outputs": []
    },
    {
      "cell_type": "code",
      "execution_count": null,
      "metadata": {
        "id": "wdIl9rBZZA6I"
      },
      "outputs": [],
      "source": [
        "X, Y = [], []\n",
        "for path, emotion in zip(data_path.Path, data_path.Emotions):\n",
        "    feature = get_features(path)\n",
        "    for ele in feature:\n",
        "        X.append(ele)\n",
        "        # appending emotion 3 times as we have made 3 augmentation techniques on each audio file.\n",
        "        Y.append(emotion)"
      ]
    },
    {
      "cell_type": "code",
      "execution_count": null,
      "metadata": {
        "id": "evL2bcXlZI-I"
      },
      "outputs": [],
      "source": [
        "len(X), len(Y), data_path.Path.shape"
      ]
    },
    {
      "cell_type": "markdown",
      "source": [
        "## Saving the features into csv format so that we dont have to extract features again and again."
      ],
      "metadata": {
        "id": "-zPcsLle4s4b"
      }
    },
    {
      "cell_type": "code",
      "source": [
        "Features = pd.DataFrame(X)\n",
        "Features['labels'] = Y\n",
        "Features.to_csv('features.csv', index=False)\n",
        "Features.head()"
      ],
      "metadata": {
        "id": "qnF3ZYFh4Utn"
      },
      "execution_count": null,
      "outputs": []
    },
    {
      "cell_type": "markdown",
      "source": [
        "# Data Preparation"
      ],
      "metadata": {
        "id": "zrUunQyCJKBn"
      }
    },
    {
      "cell_type": "code",
      "execution_count": null,
      "metadata": {
        "colab": {
          "base_uri": "https://localhost:8080/"
        },
        "id": "hMGCCVX-ZJy4",
        "outputId": "b6e5df98-d457-41ed-934a-29f8428912bb"
      },
      "outputs": [
        {
          "output_type": "execute_result",
          "data": {
            "text/plain": [
              "(14160, 163)"
            ]
          },
          "metadata": {},
          "execution_count": 9
        }
      ],
      "source": [
        "# Features = pd.read_csv('/content/drive/MyDrive/features.csv')\n",
        "# Features.shape"
      ]
    },
    {
      "cell_type": "code",
      "execution_count": null,
      "metadata": {
        "id": "VUmeHwb0ZM9o"
      },
      "outputs": [],
      "source": [
        "X = Features.iloc[: ,:-1].values\n",
        "Y = Features['labels'].values"
      ]
    },
    {
      "cell_type": "code",
      "source": [
        "x_train,x_test,y_train,y_test= train_test_split(np.array(X),Y, test_size=0.25, random_state=69)"
      ],
      "metadata": {
        "id": "0pDI6zcNie7i"
      },
      "execution_count": null,
      "outputs": []
    },
    {
      "cell_type": "code",
      "execution_count": null,
      "metadata": {
        "colab": {
          "base_uri": "https://localhost:8080/"
        },
        "id": "VKa1F5q5ZVqH",
        "outputId": "189da8d6-f296-4742-a59b-a401e2c80357"
      },
      "outputs": [
        {
          "output_type": "execute_result",
          "data": {
            "text/plain": [
              "((10620, 162), (10620,), (3540, 162), (3540,))"
            ]
          },
          "metadata": {},
          "execution_count": 12
        }
      ],
      "source": [
        "# scaling our data with sklearn's Standard scaler\n",
        "scaler = StandardScaler()\n",
        "x_train = scaler.fit_transform(x_train)\n",
        "x_test = scaler.transform(x_test)\n",
        "x_train.shape, y_train.shape, x_test.shape, y_test.shape"
      ]
    },
    {
      "cell_type": "code",
      "source": [
        "y_test"
      ],
      "metadata": {
        "colab": {
          "base_uri": "https://localhost:8080/"
        },
        "id": "88bc-CdGi4pA",
        "outputId": "35ae345a-0a8b-4871-a560-429c7e000d0e"
      },
      "execution_count": null,
      "outputs": [
        {
          "output_type": "execute_result",
          "data": {
            "text/plain": [
              "array(['sad', 'neutral', 'happy', ..., 'fear', 'disgust', 'angry'],\n",
              "      dtype=object)"
            ]
          },
          "metadata": {},
          "execution_count": 13
        }
      ]
    },
    {
      "cell_type": "code",
      "source": [
        "from keras.utils import np_utils\n",
        "from sklearn.preprocessing import LabelEncoder\n",
        "\n",
        "x_train = np.array(x_train)\n",
        "y_train = np.array(y_train)\n",
        "x_test = np.array(x_test)\n",
        "y_test = np.array(y_test)\n",
        "\n",
        "lb = LabelEncoder()\n",
        "\n",
        "y_train = np_utils.to_categorical(lb.fit_transform(y_train))\n",
        "y_test = np_utils.to_categorical(lb.fit_transform(y_test))"
      ],
      "metadata": {
        "id": "yUzRPXQ_i2Jf"
      },
      "execution_count": null,
      "outputs": []
    },
    {
      "cell_type": "code",
      "source": [
        "y_test"
      ],
      "metadata": {
        "colab": {
          "base_uri": "https://localhost:8080/"
        },
        "id": "2bZ_rP3yi72G",
        "outputId": "bb5fed07-4d13-439f-f523-27cfd4659c7e"
      },
      "execution_count": null,
      "outputs": [
        {
          "output_type": "execute_result",
          "data": {
            "text/plain": [
              "array([[0., 0., 0., ..., 0., 1., 0.],\n",
              "       [0., 0., 0., ..., 1., 0., 0.],\n",
              "       [0., 0., 0., ..., 0., 0., 0.],\n",
              "       ...,\n",
              "       [0., 0., 0., ..., 0., 0., 0.],\n",
              "       [0., 0., 1., ..., 0., 0., 0.],\n",
              "       [1., 0., 0., ..., 0., 0., 0.]], dtype=float32)"
            ]
          },
          "metadata": {},
          "execution_count": 15
        }
      ]
    },
    {
      "cell_type": "markdown",
      "source": [
        "making our data compatible to model."
      ],
      "metadata": {
        "id": "6Su8U1UOJR2Z"
      }
    },
    {
      "cell_type": "code",
      "source": [
        "x_traincnn =np.expand_dims(x_train, axis=2)\n",
        "x_testcnn= np.expand_dims(x_test, axis=2)"
      ],
      "metadata": {
        "id": "Tzc5z1VOlqU0"
      },
      "execution_count": null,
      "outputs": []
    },
    {
      "cell_type": "code",
      "execution_count": null,
      "metadata": {
        "colab": {
          "base_uri": "https://localhost:8080/"
        },
        "id": "FxLVEAp_GEO7",
        "outputId": "dba6e985-391f-40a4-804e-67b792ef49ac"
      },
      "outputs": [
        {
          "output_type": "execute_result",
          "data": {
            "text/plain": [
              "(10620, 162, 1)"
            ]
          },
          "metadata": {},
          "execution_count": 17
        }
      ],
      "source": [
        "x_train.shape"
      ]
    },
    {
      "cell_type": "markdown",
      "source": [
        "# CNN model"
      ],
      "metadata": {
        "id": "mGAvobGaJW0L"
      }
    },
    {
      "cell_type": "code",
      "execution_count": null,
      "metadata": {
        "colab": {
          "base_uri": "https://localhost:8080/"
        },
        "id": "vTokdn6sZZAm",
        "outputId": "99034393-86e4-42ea-e738-f257b1075ed4"
      },
      "outputs": [
        {
          "output_type": "stream",
          "name": "stdout",
          "text": [
            "Model: \"sequential\"\n",
            "_________________________________________________________________\n",
            " Layer (type)                Output Shape              Param #   \n",
            "=================================================================\n",
            " conv1d (Conv1D)             (None, 162, 256)          1536      \n",
            "                                                                 \n",
            " max_pooling1d (MaxPooling1D  (None, 81, 256)          0         \n",
            " )                                                               \n",
            "                                                                 \n",
            " conv1d_1 (Conv1D)           (None, 81, 256)           327936    \n",
            "                                                                 \n",
            " max_pooling1d_1 (MaxPooling  (None, 41, 256)          0         \n",
            " 1D)                                                             \n",
            "                                                                 \n",
            " conv1d_2 (Conv1D)           (None, 41, 128)           163968    \n",
            "                                                                 \n",
            " max_pooling1d_2 (MaxPooling  (None, 21, 128)          0         \n",
            " 1D)                                                             \n",
            "                                                                 \n",
            " dropout (Dropout)           (None, 21, 128)           0         \n",
            "                                                                 \n",
            " conv1d_3 (Conv1D)           (None, 21, 64)            41024     \n",
            "                                                                 \n",
            " max_pooling1d_3 (MaxPooling  (None, 11, 64)           0         \n",
            " 1D)                                                             \n",
            "                                                                 \n",
            " flatten (Flatten)           (None, 704)               0         \n",
            "                                                                 \n",
            " dense (Dense)               (None, 32)                22560     \n",
            "                                                                 \n",
            " dropout_1 (Dropout)         (None, 32)                0         \n",
            "                                                                 \n",
            " dense_1 (Dense)             (None, 8)                 264       \n",
            "                                                                 \n",
            "=================================================================\n",
            "Total params: 557,288\n",
            "Trainable params: 557,288\n",
            "Non-trainable params: 0\n",
            "_________________________________________________________________\n"
          ]
        }
      ],
      "source": [
        "model_cnn= Sequential()\n",
        "model_cnn.add(Conv1D(256, kernel_size=5, strides=1, padding='same', activation='elu', input_shape=(x_train.shape[1], 1)))\n",
        "model_cnn.add(MaxPooling1D(pool_size=5, strides = 2, padding = 'same'))\n",
        "\n",
        "model_cnn.add(Conv1D(256, kernel_size=5, strides=1, padding='same', activation='elu'))\n",
        "model_cnn.add(MaxPooling1D(pool_size=5, strides = 2, padding = 'same'))\n",
        "\n",
        "model_cnn.add(Conv1D(128, kernel_size=5, strides=1, padding='same', activation='elu'))\n",
        "model_cnn.add(MaxPooling1D(pool_size=5, strides = 2, padding = 'same'))\n",
        "model_cnn.add(Dropout(0.2))\n",
        "\n",
        "model_cnn.add(Conv1D(64, kernel_size=5, strides=1, padding='same', activation='elu'))\n",
        "model_cnn.add(MaxPooling1D(pool_size=5, strides = 2, padding = 'same'))\n",
        "\n",
        "model_cnn.add(Flatten())\n",
        "model_cnn.add(Dense(units=32, activation='elu'))\n",
        "model_cnn.add(Dropout(0.2))\n",
        "\n",
        "model_cnn.add(Dense(units=8, activation='softmax'))\n",
        "model_cnn.compile(optimizer = 'adam' , loss = 'categorical_crossentropy' , metrics = ['accuracy'])\n",
        "\n",
        "model_cnn.summary()"
      ]
    },
    {
      "cell_type": "markdown",
      "source": [
        "# Training the model"
      ],
      "metadata": {
        "id": "n-iKDsCLJtEV"
      }
    },
    {
      "cell_type": "code",
      "execution_count": null,
      "metadata": {
        "colab": {
          "base_uri": "https://localhost:8080/"
        },
        "id": "zUIjf2erZdrW",
        "outputId": "d335c0c5-8793-460f-bdb1-9dcf7ddba6bc"
      },
      "outputs": [
        {
          "output_type": "stream",
          "name": "stdout",
          "text": [
            "Epoch 1/150\n",
            "332/332 [==============================] - 7s 10ms/step - loss: 1.2490 - accuracy: 0.5521 - val_loss: 0.9263 - val_accuracy: 0.6619\n",
            "Epoch 2/150\n",
            "332/332 [==============================] - 3s 8ms/step - loss: 0.8987 - accuracy: 0.6787 - val_loss: 0.7511 - val_accuracy: 0.7333\n",
            "Epoch 3/150\n",
            "332/332 [==============================] - 3s 8ms/step - loss: 0.7821 - accuracy: 0.7167 - val_loss: 0.7193 - val_accuracy: 0.7328\n",
            "Epoch 4/150\n",
            "332/332 [==============================] - 2s 7ms/step - loss: 0.7107 - accuracy: 0.7422 - val_loss: 0.6968 - val_accuracy: 0.7427\n",
            "Epoch 5/150\n",
            "332/332 [==============================] - 2s 7ms/step - loss: 0.6516 - accuracy: 0.7630 - val_loss: 0.6036 - val_accuracy: 0.7831\n",
            "Epoch 6/150\n",
            "332/332 [==============================] - 3s 8ms/step - loss: 0.6057 - accuracy: 0.7776 - val_loss: 0.5988 - val_accuracy: 0.7771\n",
            "Epoch 7/150\n",
            "332/332 [==============================] - 2s 7ms/step - loss: 0.5690 - accuracy: 0.7905 - val_loss: 0.5793 - val_accuracy: 0.7839\n",
            "Epoch 8/150\n",
            "332/332 [==============================] - 2s 7ms/step - loss: 0.5320 - accuracy: 0.8096 - val_loss: 0.5987 - val_accuracy: 0.7864\n",
            "Epoch 9/150\n",
            "332/332 [==============================] - 2s 7ms/step - loss: 0.4890 - accuracy: 0.8220 - val_loss: 0.5500 - val_accuracy: 0.8037\n",
            "Epoch 10/150\n",
            "332/332 [==============================] - 2s 7ms/step - loss: 0.4631 - accuracy: 0.8305 - val_loss: 0.5551 - val_accuracy: 0.8040\n",
            "Epoch 11/150\n",
            "332/332 [==============================] - 2s 7ms/step - loss: 0.4634 - accuracy: 0.8331 - val_loss: 0.5530 - val_accuracy: 0.8138\n",
            "Epoch 12/150\n",
            "332/332 [==============================] - 3s 8ms/step - loss: 0.4254 - accuracy: 0.8456 - val_loss: 0.5590 - val_accuracy: 0.7992\n",
            "Epoch 13/150\n",
            "332/332 [==============================] - 3s 8ms/step - loss: 0.4044 - accuracy: 0.8525 - val_loss: 0.5192 - val_accuracy: 0.8138\n",
            "Epoch 14/150\n",
            "332/332 [==============================] - 3s 10ms/step - loss: 0.3952 - accuracy: 0.8578 - val_loss: 0.5072 - val_accuracy: 0.8209\n",
            "Epoch 15/150\n",
            "332/332 [==============================] - 3s 9ms/step - loss: 0.3530 - accuracy: 0.8741 - val_loss: 0.5586 - val_accuracy: 0.8299\n",
            "Epoch 16/150\n",
            "332/332 [==============================] - 2s 7ms/step - loss: 0.3533 - accuracy: 0.8720 - val_loss: 0.4910 - val_accuracy: 0.8342\n",
            "Epoch 17/150\n",
            "332/332 [==============================] - 2s 7ms/step - loss: 0.3173 - accuracy: 0.8846 - val_loss: 0.4810 - val_accuracy: 0.8390\n",
            "Epoch 18/150\n",
            "332/332 [==============================] - 2s 7ms/step - loss: 0.3199 - accuracy: 0.8854 - val_loss: 0.4883 - val_accuracy: 0.8342\n",
            "Epoch 19/150\n",
            "332/332 [==============================] - 3s 8ms/step - loss: 0.2983 - accuracy: 0.8926 - val_loss: 0.5084 - val_accuracy: 0.8401\n",
            "Epoch 20/150\n",
            "332/332 [==============================] - 2s 7ms/step - loss: 0.2872 - accuracy: 0.8950 - val_loss: 0.4756 - val_accuracy: 0.8472\n",
            "Epoch 21/150\n",
            "332/332 [==============================] - 3s 8ms/step - loss: 0.2639 - accuracy: 0.9074 - val_loss: 0.4898 - val_accuracy: 0.8446\n",
            "Epoch 22/150\n",
            "332/332 [==============================] - 2s 7ms/step - loss: 0.2706 - accuracy: 0.9053 - val_loss: 0.5380 - val_accuracy: 0.8353\n",
            "Epoch 23/150\n",
            "332/332 [==============================] - 2s 7ms/step - loss: 0.2468 - accuracy: 0.9139 - val_loss: 0.4793 - val_accuracy: 0.8455\n",
            "Epoch 24/150\n",
            "332/332 [==============================] - 2s 7ms/step - loss: 0.2361 - accuracy: 0.9174 - val_loss: 0.4987 - val_accuracy: 0.8494\n",
            "Epoch 25/150\n",
            "332/332 [==============================] - 3s 8ms/step - loss: 0.2391 - accuracy: 0.9190 - val_loss: 0.4568 - val_accuracy: 0.8542\n",
            "Epoch 26/150\n",
            "332/332 [==============================] - 2s 7ms/step - loss: 0.2234 - accuracy: 0.9206 - val_loss: 0.4460 - val_accuracy: 0.8627\n",
            "Epoch 27/150\n",
            "332/332 [==============================] - 3s 8ms/step - loss: 0.1982 - accuracy: 0.9300 - val_loss: 0.5625 - val_accuracy: 0.8511\n",
            "Epoch 28/150\n",
            "332/332 [==============================] - 2s 7ms/step - loss: 0.2140 - accuracy: 0.9260 - val_loss: 0.5169 - val_accuracy: 0.8503\n",
            "Epoch 29/150\n",
            "332/332 [==============================] - 3s 8ms/step - loss: 0.2220 - accuracy: 0.9232 - val_loss: 0.5181 - val_accuracy: 0.8489\n",
            "Epoch 30/150\n",
            "332/332 [==============================] - 2s 7ms/step - loss: 0.2253 - accuracy: 0.9215 - val_loss: 0.5771 - val_accuracy: 0.8520\n",
            "Epoch 31/150\n",
            "332/332 [==============================] - 2s 7ms/step - loss: 0.1821 - accuracy: 0.9367 - val_loss: 0.5237 - val_accuracy: 0.8542\n",
            "Epoch 32/150\n",
            "332/332 [==============================] - 3s 8ms/step - loss: 0.1679 - accuracy: 0.9414 - val_loss: 0.4811 - val_accuracy: 0.8613\n",
            "Epoch 33/150\n",
            "332/332 [==============================] - 2s 7ms/step - loss: 0.1758 - accuracy: 0.9383 - val_loss: 0.5599 - val_accuracy: 0.8528\n",
            "Epoch 34/150\n",
            "332/332 [==============================] - 3s 8ms/step - loss: 0.1635 - accuracy: 0.9406 - val_loss: 0.6105 - val_accuracy: 0.8466\n",
            "Epoch 35/150\n",
            "332/332 [==============================] - 2s 7ms/step - loss: 0.1822 - accuracy: 0.9400 - val_loss: 0.5287 - val_accuracy: 0.8624\n",
            "Epoch 36/150\n",
            "332/332 [==============================] - 2s 7ms/step - loss: 0.1713 - accuracy: 0.9418 - val_loss: 0.6578 - val_accuracy: 0.8345\n",
            "Epoch 37/150\n",
            "332/332 [==============================] - 2s 7ms/step - loss: 0.1836 - accuracy: 0.9370 - val_loss: 0.4827 - val_accuracy: 0.8616\n",
            "Epoch 38/150\n",
            "332/332 [==============================] - 3s 8ms/step - loss: 0.1474 - accuracy: 0.9496 - val_loss: 0.5490 - val_accuracy: 0.8588\n",
            "Epoch 39/150\n",
            "332/332 [==============================] - 2s 7ms/step - loss: 0.1660 - accuracy: 0.9444 - val_loss: 0.5601 - val_accuracy: 0.8534\n",
            "Epoch 40/150\n",
            "332/332 [==============================] - 2s 7ms/step - loss: 0.1771 - accuracy: 0.9417 - val_loss: 0.5034 - val_accuracy: 0.8576\n",
            "Epoch 41/150\n",
            "332/332 [==============================] - 3s 8ms/step - loss: 0.1414 - accuracy: 0.9500 - val_loss: 0.5618 - val_accuracy: 0.8579\n",
            "Epoch 42/150\n",
            "332/332 [==============================] - 3s 8ms/step - loss: 0.1806 - accuracy: 0.9379 - val_loss: 0.5122 - val_accuracy: 0.8692\n",
            "Epoch 43/150\n",
            "332/332 [==============================] - 2s 7ms/step - loss: 0.1225 - accuracy: 0.9566 - val_loss: 0.5210 - val_accuracy: 0.8667\n",
            "Epoch 44/150\n",
            "332/332 [==============================] - 3s 8ms/step - loss: 0.1353 - accuracy: 0.9538 - val_loss: 0.5695 - val_accuracy: 0.8630\n",
            "Epoch 45/150\n",
            "332/332 [==============================] - 2s 7ms/step - loss: 0.1282 - accuracy: 0.9563 - val_loss: 0.5597 - val_accuracy: 0.8621\n",
            "Epoch 46/150\n",
            "332/332 [==============================] - 2s 7ms/step - loss: 0.1345 - accuracy: 0.9559 - val_loss: 0.5124 - val_accuracy: 0.8692\n",
            "Epoch 47/150\n",
            "332/332 [==============================] - 2s 7ms/step - loss: 0.1331 - accuracy: 0.9540 - val_loss: 0.5950 - val_accuracy: 0.8582\n",
            "Epoch 48/150\n",
            "332/332 [==============================] - 3s 8ms/step - loss: 0.1310 - accuracy: 0.9555 - val_loss: 0.5355 - val_accuracy: 0.8636\n",
            "Epoch 49/150\n",
            "332/332 [==============================] - 3s 8ms/step - loss: 0.1253 - accuracy: 0.9556 - val_loss: 0.6139 - val_accuracy: 0.8599\n",
            "Epoch 50/150\n",
            "332/332 [==============================] - 3s 8ms/step - loss: 0.1444 - accuracy: 0.9532 - val_loss: 0.5553 - val_accuracy: 0.8610\n",
            "Epoch 51/150\n",
            "332/332 [==============================] - 3s 8ms/step - loss: 0.1243 - accuracy: 0.9590 - val_loss: 0.5373 - val_accuracy: 0.8678\n",
            "Epoch 52/150\n",
            "332/332 [==============================] - 2s 7ms/step - loss: 0.1307 - accuracy: 0.9579 - val_loss: 0.5577 - val_accuracy: 0.8684\n",
            "Epoch 53/150\n",
            "332/332 [==============================] - 3s 8ms/step - loss: 0.1238 - accuracy: 0.9577 - val_loss: 0.5519 - val_accuracy: 0.8678\n",
            "Epoch 54/150\n",
            "332/332 [==============================] - 2s 7ms/step - loss: 0.0969 - accuracy: 0.9668 - val_loss: 0.5723 - val_accuracy: 0.8678\n",
            "Epoch 55/150\n",
            "332/332 [==============================] - 2s 7ms/step - loss: 0.1577 - accuracy: 0.9508 - val_loss: 0.5728 - val_accuracy: 0.8633\n",
            "Epoch 56/150\n",
            "332/332 [==============================] - 2s 7ms/step - loss: 0.1196 - accuracy: 0.9606 - val_loss: 0.5835 - val_accuracy: 0.8701\n",
            "Epoch 57/150\n",
            "332/332 [==============================] - 2s 7ms/step - loss: 0.1092 - accuracy: 0.9643 - val_loss: 0.6034 - val_accuracy: 0.8737\n",
            "Epoch 58/150\n",
            "332/332 [==============================] - 2s 7ms/step - loss: 0.1208 - accuracy: 0.9608 - val_loss: 0.5894 - val_accuracy: 0.8664\n",
            "Epoch 59/150\n",
            "332/332 [==============================] - 2s 7ms/step - loss: 0.1175 - accuracy: 0.9600 - val_loss: 0.5337 - val_accuracy: 0.8751\n",
            "Epoch 60/150\n",
            "332/332 [==============================] - 2s 7ms/step - loss: 0.0950 - accuracy: 0.9670 - val_loss: 0.5544 - val_accuracy: 0.8760\n",
            "Epoch 61/150\n",
            "332/332 [==============================] - 2s 7ms/step - loss: 0.0999 - accuracy: 0.9680 - val_loss: 0.6162 - val_accuracy: 0.8737\n",
            "Epoch 62/150\n",
            "332/332 [==============================] - 2s 7ms/step - loss: 0.1456 - accuracy: 0.9534 - val_loss: 0.5726 - val_accuracy: 0.8698\n",
            "Epoch 63/150\n",
            "332/332 [==============================] - 2s 7ms/step - loss: 0.1349 - accuracy: 0.9575 - val_loss: 0.5587 - val_accuracy: 0.8695\n",
            "Epoch 64/150\n",
            "332/332 [==============================] - 2s 7ms/step - loss: 0.1235 - accuracy: 0.9609 - val_loss: 0.5918 - val_accuracy: 0.8636\n",
            "Epoch 65/150\n",
            "332/332 [==============================] - 2s 7ms/step - loss: 0.1067 - accuracy: 0.9639 - val_loss: 0.5878 - val_accuracy: 0.8672\n",
            "Epoch 66/150\n",
            "332/332 [==============================] - 2s 7ms/step - loss: 0.1081 - accuracy: 0.9638 - val_loss: 0.5917 - val_accuracy: 0.8794\n",
            "Epoch 67/150\n",
            "332/332 [==============================] - 3s 8ms/step - loss: 0.1044 - accuracy: 0.9673 - val_loss: 0.6130 - val_accuracy: 0.8749\n",
            "Epoch 68/150\n",
            "332/332 [==============================] - 2s 7ms/step - loss: 0.0858 - accuracy: 0.9722 - val_loss: 0.6496 - val_accuracy: 0.8732\n",
            "Epoch 69/150\n",
            "332/332 [==============================] - 3s 8ms/step - loss: 0.0984 - accuracy: 0.9671 - val_loss: 0.5902 - val_accuracy: 0.8768\n",
            "Epoch 70/150\n",
            "332/332 [==============================] - 2s 7ms/step - loss: 0.0951 - accuracy: 0.9706 - val_loss: 0.6206 - val_accuracy: 0.8672\n",
            "Epoch 71/150\n",
            "332/332 [==============================] - 3s 8ms/step - loss: 0.1107 - accuracy: 0.9642 - val_loss: 0.6383 - val_accuracy: 0.8746\n",
            "Epoch 72/150\n",
            "332/332 [==============================] - 2s 7ms/step - loss: 0.1291 - accuracy: 0.9613 - val_loss: 0.6878 - val_accuracy: 0.8540\n",
            "Epoch 73/150\n",
            "332/332 [==============================] - 3s 8ms/step - loss: 0.0987 - accuracy: 0.9669 - val_loss: 0.5730 - val_accuracy: 0.8763\n",
            "Epoch 74/150\n",
            "332/332 [==============================] - 2s 7ms/step - loss: 0.1003 - accuracy: 0.9685 - val_loss: 0.5548 - val_accuracy: 0.8814\n",
            "Epoch 75/150\n",
            "332/332 [==============================] - 3s 8ms/step - loss: 0.0866 - accuracy: 0.9717 - val_loss: 0.6453 - val_accuracy: 0.8757\n",
            "Epoch 76/150\n",
            "332/332 [==============================] - 3s 8ms/step - loss: 0.1128 - accuracy: 0.9678 - val_loss: 0.6178 - val_accuracy: 0.8703\n",
            "Epoch 77/150\n",
            "332/332 [==============================] - 3s 8ms/step - loss: 0.1378 - accuracy: 0.9570 - val_loss: 0.5570 - val_accuracy: 0.8785\n",
            "Epoch 78/150\n",
            "332/332 [==============================] - 2s 7ms/step - loss: 0.0910 - accuracy: 0.9715 - val_loss: 0.5831 - val_accuracy: 0.8718\n",
            "Epoch 79/150\n",
            "332/332 [==============================] - 2s 7ms/step - loss: 0.1012 - accuracy: 0.9667 - val_loss: 0.6358 - val_accuracy: 0.8723\n",
            "Epoch 80/150\n",
            "332/332 [==============================] - 2s 7ms/step - loss: 0.0765 - accuracy: 0.9750 - val_loss: 0.5973 - val_accuracy: 0.8771\n",
            "Epoch 81/150\n",
            "332/332 [==============================] - 3s 8ms/step - loss: 0.1020 - accuracy: 0.9662 - val_loss: 0.5339 - val_accuracy: 0.8816\n",
            "Epoch 82/150\n",
            "332/332 [==============================] - 3s 8ms/step - loss: 0.0820 - accuracy: 0.9741 - val_loss: 0.7328 - val_accuracy: 0.8675\n",
            "Epoch 83/150\n",
            "332/332 [==============================] - 2s 7ms/step - loss: 0.1069 - accuracy: 0.9659 - val_loss: 0.5421 - val_accuracy: 0.8661\n",
            "Epoch 84/150\n",
            "332/332 [==============================] - 2s 7ms/step - loss: 0.0930 - accuracy: 0.9713 - val_loss: 0.5646 - val_accuracy: 0.8811\n",
            "Epoch 85/150\n",
            "332/332 [==============================] - 2s 7ms/step - loss: 0.0844 - accuracy: 0.9724 - val_loss: 0.5899 - val_accuracy: 0.8743\n",
            "Epoch 86/150\n",
            "332/332 [==============================] - 2s 7ms/step - loss: 0.1093 - accuracy: 0.9704 - val_loss: 0.5617 - val_accuracy: 0.8709\n",
            "Epoch 87/150\n",
            "332/332 [==============================] - 2s 7ms/step - loss: 0.0998 - accuracy: 0.9673 - val_loss: 0.6136 - val_accuracy: 0.8782\n",
            "Epoch 88/150\n",
            "332/332 [==============================] - 2s 7ms/step - loss: 0.1012 - accuracy: 0.9686 - val_loss: 0.6926 - val_accuracy: 0.8644\n",
            "Epoch 89/150\n",
            "332/332 [==============================] - 3s 8ms/step - loss: 0.0931 - accuracy: 0.9708 - val_loss: 0.6245 - val_accuracy: 0.8799\n",
            "Epoch 90/150\n",
            "332/332 [==============================] - 2s 7ms/step - loss: 0.0898 - accuracy: 0.9745 - val_loss: 0.5652 - val_accuracy: 0.8740\n",
            "Epoch 91/150\n",
            "332/332 [==============================] - 3s 8ms/step - loss: 0.0818 - accuracy: 0.9749 - val_loss: 0.6151 - val_accuracy: 0.8746\n",
            "Epoch 92/150\n",
            "332/332 [==============================] - 2s 7ms/step - loss: 0.0954 - accuracy: 0.9687 - val_loss: 0.6174 - val_accuracy: 0.8732\n",
            "Epoch 93/150\n",
            "332/332 [==============================] - 2s 7ms/step - loss: 0.0944 - accuracy: 0.9707 - val_loss: 0.5869 - val_accuracy: 0.8814\n",
            "Epoch 94/150\n",
            "332/332 [==============================] - 2s 7ms/step - loss: 0.0727 - accuracy: 0.9783 - val_loss: 0.6670 - val_accuracy: 0.8870\n",
            "Epoch 95/150\n",
            "332/332 [==============================] - 2s 7ms/step - loss: 0.0728 - accuracy: 0.9782 - val_loss: 0.5844 - val_accuracy: 0.8797\n",
            "Epoch 96/150\n",
            "332/332 [==============================] - 2s 7ms/step - loss: 0.0887 - accuracy: 0.9744 - val_loss: 0.6608 - val_accuracy: 0.8712\n",
            "Epoch 97/150\n",
            "332/332 [==============================] - 2s 7ms/step - loss: 0.1072 - accuracy: 0.9664 - val_loss: 0.6202 - val_accuracy: 0.8715\n",
            "Epoch 98/150\n",
            "332/332 [==============================] - 3s 8ms/step - loss: 0.0943 - accuracy: 0.9714 - val_loss: 0.6018 - val_accuracy: 0.8766\n",
            "Epoch 99/150\n",
            "332/332 [==============================] - 2s 7ms/step - loss: 0.0653 - accuracy: 0.9773 - val_loss: 0.7085 - val_accuracy: 0.8799\n",
            "Epoch 100/150\n",
            "332/332 [==============================] - 3s 8ms/step - loss: 0.1082 - accuracy: 0.9705 - val_loss: 0.5976 - val_accuracy: 0.8743\n",
            "Epoch 101/150\n",
            "332/332 [==============================] - 2s 7ms/step - loss: 0.0857 - accuracy: 0.9734 - val_loss: 0.6142 - val_accuracy: 0.8845\n",
            "Epoch 102/150\n",
            "332/332 [==============================] - 3s 8ms/step - loss: 0.0535 - accuracy: 0.9840 - val_loss: 0.7428 - val_accuracy: 0.8740\n",
            "Epoch 103/150\n",
            "332/332 [==============================] - 3s 8ms/step - loss: 0.0880 - accuracy: 0.9748 - val_loss: 0.7147 - val_accuracy: 0.8686\n",
            "Epoch 104/150\n",
            "332/332 [==============================] - 3s 8ms/step - loss: 0.0866 - accuracy: 0.9746 - val_loss: 0.6976 - val_accuracy: 0.8780\n",
            "Epoch 105/150\n",
            "332/332 [==============================] - 2s 7ms/step - loss: 0.0646 - accuracy: 0.9783 - val_loss: 0.7138 - val_accuracy: 0.8610\n",
            "Epoch 106/150\n",
            "332/332 [==============================] - 2s 7ms/step - loss: 0.1378 - accuracy: 0.9624 - val_loss: 0.6792 - val_accuracy: 0.8596\n",
            "Epoch 107/150\n",
            "332/332 [==============================] - 3s 8ms/step - loss: 0.1111 - accuracy: 0.9688 - val_loss: 0.5755 - val_accuracy: 0.8825\n",
            "Epoch 108/150\n",
            "332/332 [==============================] - 2s 7ms/step - loss: 0.0689 - accuracy: 0.9783 - val_loss: 0.6705 - val_accuracy: 0.8726\n",
            "Epoch 109/150\n",
            "332/332 [==============================] - 3s 8ms/step - loss: 0.0701 - accuracy: 0.9789 - val_loss: 0.6803 - val_accuracy: 0.8811\n",
            "Epoch 110/150\n",
            "332/332 [==============================] - 2s 7ms/step - loss: 0.0809 - accuracy: 0.9750 - val_loss: 0.6980 - val_accuracy: 0.8754\n",
            "Epoch 111/150\n",
            "332/332 [==============================] - 2s 7ms/step - loss: 0.0975 - accuracy: 0.9718 - val_loss: 0.5865 - val_accuracy: 0.8802\n",
            "Epoch 112/150\n",
            "332/332 [==============================] - 2s 7ms/step - loss: 0.0744 - accuracy: 0.9792 - val_loss: 0.6394 - val_accuracy: 0.8780\n",
            "Epoch 113/150\n",
            "332/332 [==============================] - 2s 7ms/step - loss: 0.0668 - accuracy: 0.9794 - val_loss: 0.6209 - val_accuracy: 0.8845\n",
            "Epoch 114/150\n",
            "332/332 [==============================] - 3s 8ms/step - loss: 0.0848 - accuracy: 0.9759 - val_loss: 0.6042 - val_accuracy: 0.8887\n",
            "Epoch 115/150\n",
            "332/332 [==============================] - 3s 8ms/step - loss: 0.0997 - accuracy: 0.9714 - val_loss: 0.5773 - val_accuracy: 0.8774\n",
            "Epoch 116/150\n",
            "332/332 [==============================] - 2s 7ms/step - loss: 0.0879 - accuracy: 0.9735 - val_loss: 0.6470 - val_accuracy: 0.8771\n",
            "Epoch 117/150\n",
            "332/332 [==============================] - 2s 7ms/step - loss: 0.0818 - accuracy: 0.9785 - val_loss: 0.7505 - val_accuracy: 0.8777\n",
            "Epoch 118/150\n",
            "332/332 [==============================] - 2s 7ms/step - loss: 0.1277 - accuracy: 0.9655 - val_loss: 0.6147 - val_accuracy: 0.8805\n",
            "Epoch 119/150\n",
            "332/332 [==============================] - 2s 7ms/step - loss: 0.0790 - accuracy: 0.9784 - val_loss: 0.6316 - val_accuracy: 0.8864\n",
            "Epoch 120/150\n",
            "332/332 [==============================] - 2s 7ms/step - loss: 0.0665 - accuracy: 0.9801 - val_loss: 0.7975 - val_accuracy: 0.8720\n",
            "Epoch 121/150\n",
            "332/332 [==============================] - 2s 7ms/step - loss: 0.0535 - accuracy: 0.9842 - val_loss: 0.7673 - val_accuracy: 0.8766\n",
            "Epoch 122/150\n",
            "332/332 [==============================] - 2s 7ms/step - loss: 0.0869 - accuracy: 0.9735 - val_loss: 0.7111 - val_accuracy: 0.8734\n",
            "Epoch 123/150\n",
            "332/332 [==============================] - 2s 7ms/step - loss: 0.0672 - accuracy: 0.9813 - val_loss: 0.8409 - val_accuracy: 0.8684\n",
            "Epoch 124/150\n",
            "332/332 [==============================] - 2s 7ms/step - loss: 0.0991 - accuracy: 0.9727 - val_loss: 0.6473 - val_accuracy: 0.8780\n",
            "Epoch 125/150\n",
            "332/332 [==============================] - 2s 7ms/step - loss: 0.0868 - accuracy: 0.9748 - val_loss: 0.6425 - val_accuracy: 0.8856\n",
            "Epoch 126/150\n",
            "332/332 [==============================] - 2s 7ms/step - loss: 0.0970 - accuracy: 0.9764 - val_loss: 0.7702 - val_accuracy: 0.8531\n",
            "Epoch 127/150\n",
            "332/332 [==============================] - 2s 7ms/step - loss: 0.1027 - accuracy: 0.9709 - val_loss: 0.6428 - val_accuracy: 0.8811\n",
            "Epoch 128/150\n",
            "332/332 [==============================] - 2s 7ms/step - loss: 0.0724 - accuracy: 0.9800 - val_loss: 0.6651 - val_accuracy: 0.8842\n",
            "Epoch 129/150\n",
            "332/332 [==============================] - 2s 7ms/step - loss: 0.0673 - accuracy: 0.9821 - val_loss: 0.6838 - val_accuracy: 0.8794\n",
            "Epoch 130/150\n",
            "332/332 [==============================] - 2s 7ms/step - loss: 0.0643 - accuracy: 0.9818 - val_loss: 0.8470 - val_accuracy: 0.8664\n",
            "Epoch 131/150\n",
            "332/332 [==============================] - 2s 7ms/step - loss: 0.0744 - accuracy: 0.9777 - val_loss: 0.6474 - val_accuracy: 0.8766\n",
            "Epoch 132/150\n",
            "332/332 [==============================] - 3s 8ms/step - loss: 0.0645 - accuracy: 0.9797 - val_loss: 0.7864 - val_accuracy: 0.8794\n",
            "Epoch 133/150\n",
            "332/332 [==============================] - 2s 7ms/step - loss: 0.0876 - accuracy: 0.9745 - val_loss: 0.7212 - val_accuracy: 0.8698\n",
            "Epoch 134/150\n",
            "332/332 [==============================] - 2s 7ms/step - loss: 0.0596 - accuracy: 0.9815 - val_loss: 0.6714 - val_accuracy: 0.8828\n",
            "Epoch 135/150\n",
            "332/332 [==============================] - 3s 8ms/step - loss: 0.0903 - accuracy: 0.9750 - val_loss: 0.6944 - val_accuracy: 0.8794\n",
            "Epoch 136/150\n",
            "332/332 [==============================] - 3s 8ms/step - loss: 0.1153 - accuracy: 0.9705 - val_loss: 0.6827 - val_accuracy: 0.8771\n",
            "Epoch 137/150\n",
            "332/332 [==============================] - 2s 7ms/step - loss: 0.0649 - accuracy: 0.9813 - val_loss: 0.7381 - val_accuracy: 0.8766\n",
            "Epoch 138/150\n",
            "332/332 [==============================] - 3s 8ms/step - loss: 0.0608 - accuracy: 0.9812 - val_loss: 0.7264 - val_accuracy: 0.8777\n",
            "Epoch 139/150\n",
            "332/332 [==============================] - 3s 8ms/step - loss: 0.1119 - accuracy: 0.9698 - val_loss: 0.7808 - val_accuracy: 0.8715\n",
            "Epoch 140/150\n",
            "332/332 [==============================] - 2s 7ms/step - loss: 0.0878 - accuracy: 0.9756 - val_loss: 0.6994 - val_accuracy: 0.8743\n",
            "Epoch 141/150\n",
            "332/332 [==============================] - 2s 7ms/step - loss: 0.0699 - accuracy: 0.9815 - val_loss: 0.8434 - val_accuracy: 0.8678\n",
            "Epoch 142/150\n",
            "332/332 [==============================] - 2s 7ms/step - loss: 0.0812 - accuracy: 0.9773 - val_loss: 0.7284 - val_accuracy: 0.8734\n",
            "Epoch 143/150\n",
            "332/332 [==============================] - 2s 7ms/step - loss: 0.0725 - accuracy: 0.9786 - val_loss: 0.8451 - val_accuracy: 0.8678\n",
            "Epoch 144/150\n",
            "332/332 [==============================] - 2s 7ms/step - loss: 0.0835 - accuracy: 0.9764 - val_loss: 0.7855 - val_accuracy: 0.8777\n",
            "Epoch 145/150\n",
            "332/332 [==============================] - 3s 8ms/step - loss: 0.0786 - accuracy: 0.9778 - val_loss: 0.6809 - val_accuracy: 0.8797\n",
            "Epoch 146/150\n",
            "332/332 [==============================] - 2s 7ms/step - loss: 0.0797 - accuracy: 0.9778 - val_loss: 0.7875 - val_accuracy: 0.8709\n",
            "Epoch 147/150\n",
            "332/332 [==============================] - 3s 8ms/step - loss: 0.0956 - accuracy: 0.9763 - val_loss: 0.7774 - val_accuracy: 0.8644\n",
            "Epoch 148/150\n",
            "332/332 [==============================] - 3s 8ms/step - loss: 0.0888 - accuracy: 0.9753 - val_loss: 0.6921 - val_accuracy: 0.8831\n",
            "Epoch 149/150\n",
            "332/332 [==============================] - 2s 7ms/step - loss: 0.0554 - accuracy: 0.9853 - val_loss: 0.7874 - val_accuracy: 0.8836\n",
            "Epoch 150/150\n",
            "332/332 [==============================] - 2s 7ms/step - loss: 0.0707 - accuracy: 0.9799 - val_loss: 0.7504 - val_accuracy: 0.8799\n"
          ]
        }
      ],
      "source": [
        "history=model_cnn.fit(x_train, y_train, batch_size=32, epochs=150, validation_data=(x_testcnn, y_test))"
      ]
    },
    {
      "cell_type": "code",
      "source": [
        "import matplotlib.pyplot as plt\n",
        "from matplotlib.pyplot import specgram\n",
        "### loss plots using LSTM model\n",
        "loss = history.history['loss']\n",
        "val_loss = history.history['val_loss']\n",
        "\n",
        "epochs = range(1, len(loss) + 1)\n",
        "\n",
        "plt.plot(epochs, loss, 'ro', label='Training loss')\n",
        "plt.plot(epochs, val_loss, 'b', label='Validation loss')\n",
        "plt.title('Training and validation loss')\n",
        "plt.xlabel('Epochs')\n",
        "plt.ylabel('Loss')\n",
        "plt.legend()\n",
        "\n",
        "plt.show()"
      ],
      "metadata": {
        "colab": {
          "base_uri": "https://localhost:8080/",
          "height": 295
        },
        "id": "yg2Ey9BykA2Y",
        "outputId": "1434cd7d-9506-439a-cc76-9bd943d1cad8"
      },
      "execution_count": null,
      "outputs": [
        {
          "output_type": "display_data",
          "data": {
            "text/plain": [
              "<Figure size 432x288 with 1 Axes>"
            ],
            "image/png": "[encoded data removed]"
          },
          "metadata": {
            "needs_background": "light"
          }
        }
      ]
    },
    {
      "cell_type": "code",
      "source": [
        "### accuracy plots using LSTM model\n",
        "plt.clf()                                                \n",
        "\n",
        "acc = history.history['accuracy']\n",
        "val_acc = history.history['val_accuracy']\n",
        "\n",
        "plt.plot(epochs, acc, 'ro', label='Training acc')\n",
        "plt.plot(epochs, val_acc, 'b', label='Validation acc')\n",
        "plt.title('Training and validation accuracy')\n",
        "plt.xlabel('Epochs')\n",
        "plt.ylabel('Loss')\n",
        "plt.legend()\n",
        "\n",
        "plt.show()"
      ],
      "metadata": {
        "colab": {
          "base_uri": "https://localhost:8080/",
          "height": 295
        },
        "id": "PtUXFpKlj_Vr",
        "outputId": "f3bb059e-f33f-4ce1-eacc-f659b5d14ce2"
      },
      "execution_count": null,
      "outputs": [
        {
          "output_type": "display_data",
          "data": {
            "text/plain": [
              "<Figure size 432x288 with 1 Axes>"
            ],
            "image/png": "[encoded data removed]"
          },
          "metadata": {
            "needs_background": "light"
          }
        }
      ]
    },
    {
      "cell_type": "code",
      "execution_count": null,
      "metadata": {
        "id": "rHI24nlsNLWB"
      },
      "outputs": [],
      "source": [
        "model_cnn.save('model_cnn.h5')\n",
        "loaded_model= tf.keras.models.load_model('model_cnn.h5')"
      ]
    },
    {
      "cell_type": "code",
      "source": [
        "# evaluate loaded model on test data\n",
        "loaded_model.compile(loss='categorical_crossentropy', optimizer = 'adam', metrics=['accuracy'])\n",
        "score = loaded_model.evaluate(x_testcnn, y_test, verbose=0)\n",
        "print(\"%s: %.2f%%\" % (loaded_model.metrics_names[1], score[1]*100))"
      ],
      "metadata": {
        "colab": {
          "base_uri": "https://localhost:8080/"
        },
        "id": "1KL4GtAxn6UN",
        "outputId": "0c58dce2-4e77-444d-bd46-d99e931f6fe1"
      },
      "execution_count": null,
      "outputs": [
        {
          "output_type": "stream",
          "name": "stdout",
          "text": [
            "accuracy: 87.99%\n"
          ]
        }
      ]
    },
    {
      "cell_type": "code",
      "source": [
        "preds = loaded_model.predict(x_testcnn, \n",
        "                         batch_size=32, \n",
        "                         verbose=1)"
      ],
      "metadata": {
        "colab": {
          "base_uri": "https://localhost:8080/"
        },
        "id": "KIubIx0VoXvO",
        "outputId": "1a35c4df-128f-432b-a9c6-a935a8382fbe"
      },
      "execution_count": null,
      "outputs": [
        {
          "output_type": "stream",
          "name": "stdout",
          "text": [
            "111/111 [==============================] - 0s 2ms/step\n"
          ]
        }
      ]
    },
    {
      "cell_type": "code",
      "source": [
        "preds"
      ],
      "metadata": {
        "colab": {
          "base_uri": "https://localhost:8080/"
        },
        "id": "5O8e-Op1oeBQ",
        "outputId": "9b2b41b2-8acd-4901-cb8a-8455bf33ecb7"
      },
      "execution_count": null,
      "outputs": [
        {
          "output_type": "execute_result",
          "data": {
            "text/plain": [
              "array([[1.0650574e-33, 6.3277954e-22, 1.1802608e-26, ..., 6.4665487e-29,\n",
              "        1.0000000e+00, 1.1463957e-31],\n",
              "       [2.0721650e-26, 1.7158771e-23, 4.3776640e-18, ..., 1.0000000e+00,\n",
              "        5.4157422e-19, 1.2777766e-29],\n",
              "       [8.6610287e-13, 7.6973788e-27, 7.3148616e-19, ..., 2.2029985e-27,\n",
              "        3.9860733e-19, 8.3298406e-19],\n",
              "       ...,\n",
              "       [1.4579634e-03, 6.9662323e-04, 2.4870121e-01, ..., 1.3170534e-05,\n",
              "        3.6646376e-04, 3.9545172e-03],\n",
              "       [1.1308591e-16, 4.5288167e-21, 1.0000000e+00, ..., 4.0162663e-18,\n",
              "        3.5969115e-14, 5.3201363e-12],\n",
              "       [1.0000000e+00, 0.0000000e+00, 2.1369831e-31, ..., 0.0000000e+00,\n",
              "        2.3954869e-34, 8.1381674e-23]], dtype=float32)"
            ]
          },
          "metadata": {},
          "execution_count": 28
        }
      ]
    },
    {
      "cell_type": "code",
      "source": [
        "preds1=preds.argmax(axis=1)"
      ],
      "metadata": {
        "id": "Ffdpjwg-oiLc"
      },
      "execution_count": null,
      "outputs": []
    },
    {
      "cell_type": "code",
      "source": [
        "abc = preds1.astype(int).flatten()"
      ],
      "metadata": {
        "id": "KQOT2-ZDok0j"
      },
      "execution_count": null,
      "outputs": []
    },
    {
      "cell_type": "code",
      "source": [
        "predictions = (lb.inverse_transform((abc)))"
      ],
      "metadata": {
        "id": "AmGtMUzUonOD"
      },
      "execution_count": null,
      "outputs": []
    },
    {
      "cell_type": "code",
      "source": [
        "preddf = pd.DataFrame({'predictedvalues': predictions})\n",
        "preddf[:10]"
      ],
      "metadata": {
        "colab": {
          "base_uri": "https://localhost:8080/",
          "height": 363
        },
        "id": "Ipq-3KM7opIU",
        "outputId": "74b0fe4f-be28-4519-d0b0-ccf9023df973"
      },
      "execution_count": null,
      "outputs": [
        {
          "output_type": "execute_result",
          "data": {
            "text/plain": [
              "  predictedvalues\n",
              "0             sad\n",
              "1         neutral\n",
              "2           happy\n",
              "3            fear\n",
              "4             sad\n",
              "5        surprise\n",
              "6             sad\n",
              "7            fear\n",
              "8         disgust\n",
              "9         neutral"
            ],
            "text/html": [
              "\n",
              "  <div id=\"df-6975477a-a85f-4203-8b16-41e383345091\">\n",
              "    <div class=\"colab-df-container\">\n",
              "      <div>\n",
              "<style scoped>\n",
              "    .dataframe tbody tr th:only-of-type {\n",
              "        vertical-align: middle;\n",
              "    }\n",
              "\n",
              "    .dataframe tbody tr th {\n",
              "        vertical-align: top;\n",
              "    }\n",
              "\n",
              "    .dataframe thead th {\n",
              "        text-align: right;\n",
              "    }\n",
              "</style>\n",
              "<table border=\"1\" class=\"dataframe\">\n",
              "  <thead>\n",
              "    <tr style=\"text-align: right;\">\n",
              "      <th></th>\n",
              "      <th>predictedvalues</th>\n",
              "    </tr>\n",
              "  </thead>\n",
              "  <tbody>\n",
              "    <tr>\n",
              "      <th>0</th>\n",
              "      <td>sad</td>\n",
              "    </tr>\n",
              "    <tr>\n",
              "      <th>1</th>\n",
              "      <td>neutral</td>\n",
              "    </tr>\n",
              "    <tr>\n",
              "      <th>2</th>\n",
              "      <td>happy</td>\n",
              "    </tr>\n",
              "    <tr>\n",
              "      <th>3</th>\n",
              "      <td>fear</td>\n",
              "    </tr>\n",
              "    <tr>\n",
              "      <th>4</th>\n",
              "      <td>sad</td>\n",
              "    </tr>\n",
              "    <tr>\n",
              "      <th>5</th>\n",
              "      <td>surprise</td>\n",
              "    </tr>\n",
              "    <tr>\n",
              "      <th>6</th>\n",
              "      <td>sad</td>\n",
              "    </tr>\n",
              "    <tr>\n",
              "      <th>7</th>\n",
              "      <td>fear</td>\n",
              "    </tr>\n",
              "    <tr>\n",
              "      <th>8</th>\n",
              "      <td>disgust</td>\n",
              "    </tr>\n",
              "    <tr>\n",
              "      <th>9</th>\n",
              "      <td>neutral</td>\n",
              "    </tr>\n",
              "  </tbody>\n",
              "</table>\n",
              "</div>\n",
              "      <button class=\"colab-df-convert\" onclick=\"convertToInteractive('df-6975477a-a85f-4203-8b16-41e383345091')\"\n",
              "              title=\"Convert this dataframe to an interactive table.\"\n",
              "              style=\"display:none;\">\n",
              "        \n",
              "  <svg xmlns=\"http://www.w3.org/2000/svg\" height=\"24px\"viewBox=\"0 0 24 24\"\n",
              "       width=\"24px\">\n",
              "    <path d=\"M0 0h24v24H0V0z\" fill=\"none\"/>\n",
              "    <path d=\"M18.56 5.44l.94 2.06.94-2.06 2.06-.94-2.06-.94-.94-2.06-.94 2.06-2.06.94zm-11 1L8.5 8.5l.94-2.06 2.06-.94-2.06-.94L8.5 2.5l-.94 2.06-2.06.94zm10 10l.94 2.06.94-2.06 2.06-.94-2.06-.94-.94-2.06-.94 2.06-2.06.94z\"/><path d=\"M17.41 7.96l-1.37-1.37c-.4-.4-.92-.59-1.43-.59-.52 0-1.04.2-1.43.59L10.3 9.45l-7.72 7.72c-.78.78-.78 2.05 0 2.83L4 21.41c.39.39.9.59 1.41.59.51 0 1.02-.2 1.41-.59l7.78-7.78 2.81-2.81c.8-.78.8-2.07 0-2.86zM5.41 20L4 18.59l7.72-7.72 1.47 1.35L5.41 20z\"/>\n",
              "  </svg>\n",
              "      </button>\n",
              "      \n",
              "  <style>\n",
              "    .colab-df-container {\n",
              "      display:flex;\n",
              "      flex-wrap:wrap;\n",
              "      gap: 12px;\n",
              "    }\n",
              "\n",
              "    .colab-df-convert {\n",
              "      background-color: #E8F0FE;\n",
              "      border: none;\n",
              "      border-radius: 50%;\n",
              "      cursor: pointer;\n",
              "      display: none;\n",
              "      fill: #1967D2;\n",
              "      height: 32px;\n",
              "      padding: 0 0 0 0;\n",
              "      width: 32px;\n",
              "    }\n",
              "\n",
              "    .colab-df-convert:hover {\n",
              "      background-color: #E2EBFA;\n",
              "      box-shadow: 0px 1px 2px rgba(60, 64, 67, 0.3), 0px 1px 3px 1px rgba(60, 64, 67, 0.15);\n",
              "      fill: #174EA6;\n",
              "    }\n",
              "\n",
              "    [theme=dark] .colab-df-convert {\n",
              "      background-color: #3B4455;\n",
              "      fill: #D2E3FC;\n",
              "    }\n",
              "\n",
              "    [theme=dark] .colab-df-convert:hover {\n",
              "      background-color: #434B5C;\n",
              "      box-shadow: 0px 1px 3px 1px rgba(0, 0, 0, 0.15);\n",
              "      filter: drop-shadow(0px 1px 2px rgba(0, 0, 0, 0.3));\n",
              "      fill: #FFFFFF;\n",
              "    }\n",
              "  </style>\n",
              "\n",
              "      <script>\n",
              "        const buttonEl =\n",
              "          document.querySelector('#df-6975477a-a85f-4203-8b16-41e383345091 button.colab-df-convert');\n",
              "        buttonEl.style.display =\n",
              "          google.colab.kernel.accessAllowed ? 'block' : 'none';\n",
              "\n",
              "        async function convertToInteractive(key) {\n",
              "          const element = document.querySelector('#df-6975477a-a85f-4203-8b16-41e383345091');\n",
              "          const dataTable =\n",
              "            await google.colab.kernel.invokeFunction('convertToInteractive',\n",
              "                                                     [key], {});\n",
              "          if (!dataTable) return;\n",
              "\n",
              "          const docLinkHtml = 'Like what you see? Visit the ' +\n",
              "            '<a target=\"_blank\" href=https://colab.research.google.com/notebooks/data_table.ipynb>data table notebook</a>'\n",
              "            + ' to learn more about interactive tables.';\n",
              "          element.innerHTML = '';\n",
              "          dataTable['output_type'] = 'display_data';\n",
              "          await google.colab.output.renderOutput(dataTable, element);\n",
              "          const docLink = document.createElement('div');\n",
              "          docLink.innerHTML = docLinkHtml;\n",
              "          element.appendChild(docLink);\n",
              "        }\n",
              "      </script>\n",
              "    </div>\n",
              "  </div>\n",
              "  "
            ]
          },
          "metadata": {},
          "execution_count": 32
        }
      ]
    },
    {
      "cell_type": "code",
      "source": [
        "actual=y_test.argmax(axis=1)\n",
        "abc123 = actual.astype(int).flatten()\n",
        "actualvalues = (lb.inverse_transform((abc123)))"
      ],
      "metadata": {
        "id": "5joKvkMEpEmJ"
      },
      "execution_count": null,
      "outputs": []
    },
    {
      "cell_type": "code",
      "source": [
        "actualdf = pd.DataFrame({'actualvalues': actualvalues})\n",
        "actualdf[:10]"
      ],
      "metadata": {
        "colab": {
          "base_uri": "https://localhost:8080/",
          "height": 363
        },
        "id": "XTkqRaICpKEo",
        "outputId": "dab2af1f-41d5-475c-989e-79ba579d493a"
      },
      "execution_count": null,
      "outputs": [
        {
          "output_type": "execute_result",
          "data": {
            "text/plain": [
              "  actualvalues\n",
              "0          sad\n",
              "1      neutral\n",
              "2        happy\n",
              "3        happy\n",
              "4          sad\n",
              "5     surprise\n",
              "6          sad\n",
              "7         fear\n",
              "8      disgust\n",
              "9      neutral"
            ],
            "text/html": [
              "\n",
              "  <div id=\"df-6e31595e-5c55-4c76-a556-1c7916625b6c\">\n",
              "    <div class=\"colab-df-container\">\n",
              "      <div>\n",
              "<style scoped>\n",
              "    .dataframe tbody tr th:only-of-type {\n",
              "        vertical-align: middle;\n",
              "    }\n",
              "\n",
              "    .dataframe tbody tr th {\n",
              "        vertical-align: top;\n",
              "    }\n",
              "\n",
              "    .dataframe thead th {\n",
              "        text-align: right;\n",
              "    }\n",
              "</style>\n",
              "<table border=\"1\" class=\"dataframe\">\n",
              "  <thead>\n",
              "    <tr style=\"text-align: right;\">\n",
              "      <th></th>\n",
              "      <th>actualvalues</th>\n",
              "    </tr>\n",
              "  </thead>\n",
              "  <tbody>\n",
              "    <tr>\n",
              "      <th>0</th>\n",
              "      <td>sad</td>\n",
              "    </tr>\n",
              "    <tr>\n",
              "      <th>1</th>\n",
              "      <td>neutral</td>\n",
              "    </tr>\n",
              "    <tr>\n",
              "      <th>2</th>\n",
              "      <td>happy</td>\n",
              "    </tr>\n",
              "    <tr>\n",
              "      <th>3</th>\n",
              "      <td>happy</td>\n",
              "    </tr>\n",
              "    <tr>\n",
              "      <th>4</th>\n",
              "      <td>sad</td>\n",
              "    </tr>\n",
              "    <tr>\n",
              "      <th>5</th>\n",
              "      <td>surprise</td>\n",
              "    </tr>\n",
              "    <tr>\n",
              "      <th>6</th>\n",
              "      <td>sad</td>\n",
              "    </tr>\n",
              "    <tr>\n",
              "      <th>7</th>\n",
              "      <td>fear</td>\n",
              "    </tr>\n",
              "    <tr>\n",
              "      <th>8</th>\n",
              "      <td>disgust</td>\n",
              "    </tr>\n",
              "    <tr>\n",
              "      <th>9</th>\n",
              "      <td>neutral</td>\n",
              "    </tr>\n",
              "  </tbody>\n",
              "</table>\n",
              "</div>\n",
              "      <button class=\"colab-df-convert\" onclick=\"convertToInteractive('df-6e31595e-5c55-4c76-a556-1c7916625b6c')\"\n",
              "              title=\"Convert this dataframe to an interactive table.\"\n",
              "              style=\"display:none;\">\n",
              "        \n",
              "  <svg xmlns=\"http://www.w3.org/2000/svg\" height=\"24px\"viewBox=\"0 0 24 24\"\n",
              "       width=\"24px\">\n",
              "    <path d=\"M0 0h24v24H0V0z\" fill=\"none\"/>\n",
              "    <path d=\"M18.56 5.44l.94 2.06.94-2.06 2.06-.94-2.06-.94-.94-2.06-.94 2.06-2.06.94zm-11 1L8.5 8.5l.94-2.06 2.06-.94-2.06-.94L8.5 2.5l-.94 2.06-2.06.94zm10 10l.94 2.06.94-2.06 2.06-.94-2.06-.94-.94-2.06-.94 2.06-2.06.94z\"/><path d=\"M17.41 7.96l-1.37-1.37c-.4-.4-.92-.59-1.43-.59-.52 0-1.04.2-1.43.59L10.3 9.45l-7.72 7.72c-.78.78-.78 2.05 0 2.83L4 21.41c.39.39.9.59 1.41.59.51 0 1.02-.2 1.41-.59l7.78-7.78 2.81-2.81c.8-.78.8-2.07 0-2.86zM5.41 20L4 18.59l7.72-7.72 1.47 1.35L5.41 20z\"/>\n",
              "  </svg>\n",
              "      </button>\n",
              "      \n",
              "  <style>\n",
              "    .colab-df-container {\n",
              "      display:flex;\n",
              "      flex-wrap:wrap;\n",
              "      gap: 12px;\n",
              "    }\n",
              "\n",
              "    .colab-df-convert {\n",
              "      background-color: #E8F0FE;\n",
              "      border: none;\n",
              "      border-radius: 50%;\n",
              "      cursor: pointer;\n",
              "      display: none;\n",
              "      fill: #1967D2;\n",
              "      height: 32px;\n",
              "      padding: 0 0 0 0;\n",
              "      width: 32px;\n",
              "    }\n",
              "\n",
              "    .colab-df-convert:hover {\n",
              "      background-color: #E2EBFA;\n",
              "      box-shadow: 0px 1px 2px rgba(60, 64, 67, 0.3), 0px 1px 3px 1px rgba(60, 64, 67, 0.15);\n",
              "      fill: #174EA6;\n",
              "    }\n",
              "\n",
              "    [theme=dark] .colab-df-convert {\n",
              "      background-color: #3B4455;\n",
              "      fill: #D2E3FC;\n",
              "    }\n",
              "\n",
              "    [theme=dark] .colab-df-convert:hover {\n",
              "      background-color: #434B5C;\n",
              "      box-shadow: 0px 1px 3px 1px rgba(0, 0, 0, 0.15);\n",
              "      filter: drop-shadow(0px 1px 2px rgba(0, 0, 0, 0.3));\n",
              "      fill: #FFFFFF;\n",
              "    }\n",
              "  </style>\n",
              "\n",
              "      <script>\n",
              "        const buttonEl =\n",
              "          document.querySelector('#df-6e31595e-5c55-4c76-a556-1c7916625b6c button.colab-df-convert');\n",
              "        buttonEl.style.display =\n",
              "          google.colab.kernel.accessAllowed ? 'block' : 'none';\n",
              "\n",
              "        async function convertToInteractive(key) {\n",
              "          const element = document.querySelector('#df-6e31595e-5c55-4c76-a556-1c7916625b6c');\n",
              "          const dataTable =\n",
              "            await google.colab.kernel.invokeFunction('convertToInteractive',\n",
              "                                                     [key], {});\n",
              "          if (!dataTable) return;\n",
              "\n",
              "          const docLinkHtml = 'Like what you see? Visit the ' +\n",
              "            '<a target=\"_blank\" href=https://colab.research.google.com/notebooks/data_table.ipynb>data table notebook</a>'\n",
              "            + ' to learn more about interactive tables.';\n",
              "          element.innerHTML = '';\n",
              "          dataTable['output_type'] = 'display_data';\n",
              "          await google.colab.output.renderOutput(dataTable, element);\n",
              "          const docLink = document.createElement('div');\n",
              "          docLink.innerHTML = docLinkHtml;\n",
              "          element.appendChild(docLink);\n",
              "        }\n",
              "      </script>\n",
              "    </div>\n",
              "  </div>\n",
              "  "
            ]
          },
          "metadata": {},
          "execution_count": 37
        }
      ]
    },
    {
      "cell_type": "code",
      "source": [
        "finaldf = actualdf.join(preddf)"
      ],
      "metadata": {
        "id": "XHNhZea4pVgh"
      },
      "execution_count": null,
      "outputs": []
    },
    {
      "cell_type": "code",
      "source": [
        "finaldf[170:180]"
      ],
      "metadata": {
        "colab": {
          "base_uri": "https://localhost:8080/",
          "height": 363
        },
        "id": "noOq8tE1pYeJ",
        "outputId": "7b8e4a4b-9a9c-466b-a931-34a6b1ee24a6"
      },
      "execution_count": null,
      "outputs": [
        {
          "output_type": "execute_result",
          "data": {
            "text/plain": [
              "    actualvalues predictedvalues\n",
              "170      neutral         neutral\n",
              "171        happy           happy\n",
              "172      neutral         neutral\n",
              "173         calm            calm\n",
              "174          sad             sad\n",
              "175     surprise        surprise\n",
              "176         fear            fear\n",
              "177         calm            calm\n",
              "178      disgust         disgust\n",
              "179        angry           angry"
            ],
            "text/html": [
              "\n",
              "  <div id=\"df-01710ba2-e3ab-4fa9-a04d-1504fa0bcde6\">\n",
              "    <div class=\"colab-df-container\">\n",
              "      <div>\n",
              "<style scoped>\n",
              "    .dataframe tbody tr th:only-of-type {\n",
              "        vertical-align: middle;\n",
              "    }\n",
              "\n",
              "    .dataframe tbody tr th {\n",
              "        vertical-align: top;\n",
              "    }\n",
              "\n",
              "    .dataframe thead th {\n",
              "        text-align: right;\n",
              "    }\n",
              "</style>\n",
              "<table border=\"1\" class=\"dataframe\">\n",
              "  <thead>\n",
              "    <tr style=\"text-align: right;\">\n",
              "      <th></th>\n",
              "      <th>actualvalues</th>\n",
              "      <th>predictedvalues</th>\n",
              "    </tr>\n",
              "  </thead>\n",
              "  <tbody>\n",
              "    <tr>\n",
              "      <th>170</th>\n",
              "      <td>neutral</td>\n",
              "      <td>neutral</td>\n",
              "    </tr>\n",
              "    <tr>\n",
              "      <th>171</th>\n",
              "      <td>happy</td>\n",
              "      <td>happy</td>\n",
              "    </tr>\n",
              "    <tr>\n",
              "      <th>172</th>\n",
              "      <td>neutral</td>\n",
              "      <td>neutral</td>\n",
              "    </tr>\n",
              "    <tr>\n",
              "      <th>173</th>\n",
              "      <td>calm</td>\n",
              "      <td>calm</td>\n",
              "    </tr>\n",
              "    <tr>\n",
              "      <th>174</th>\n",
              "      <td>sad</td>\n",
              "      <td>sad</td>\n",
              "    </tr>\n",
              "    <tr>\n",
              "      <th>175</th>\n",
              "      <td>surprise</td>\n",
              "      <td>surprise</td>\n",
              "    </tr>\n",
              "    <tr>\n",
              "      <th>176</th>\n",
              "      <td>fear</td>\n",
              "      <td>fear</td>\n",
              "    </tr>\n",
              "    <tr>\n",
              "      <th>177</th>\n",
              "      <td>calm</td>\n",
              "      <td>calm</td>\n",
              "    </tr>\n",
              "    <tr>\n",
              "      <th>178</th>\n",
              "      <td>disgust</td>\n",
              "      <td>disgust</td>\n",
              "    </tr>\n",
              "    <tr>\n",
              "      <th>179</th>\n",
              "      <td>angry</td>\n",
              "      <td>angry</td>\n",
              "    </tr>\n",
              "  </tbody>\n",
              "</table>\n",
              "</div>\n",
              "      <button class=\"colab-df-convert\" onclick=\"convertToInteractive('df-01710ba2-e3ab-4fa9-a04d-1504fa0bcde6')\"\n",
              "              title=\"Convert this dataframe to an interactive table.\"\n",
              "              style=\"display:none;\">\n",
              "        \n",
              "  <svg xmlns=\"http://www.w3.org/2000/svg\" height=\"24px\"viewBox=\"0 0 24 24\"\n",
              "       width=\"24px\">\n",
              "    <path d=\"M0 0h24v24H0V0z\" fill=\"none\"/>\n",
              "    <path d=\"M18.56 5.44l.94 2.06.94-2.06 2.06-.94-2.06-.94-.94-2.06-.94 2.06-2.06.94zm-11 1L8.5 8.5l.94-2.06 2.06-.94-2.06-.94L8.5 2.5l-.94 2.06-2.06.94zm10 10l.94 2.06.94-2.06 2.06-.94-2.06-.94-.94-2.06-.94 2.06-2.06.94z\"/><path d=\"M17.41 7.96l-1.37-1.37c-.4-.4-.92-.59-1.43-.59-.52 0-1.04.2-1.43.59L10.3 9.45l-7.72 7.72c-.78.78-.78 2.05 0 2.83L4 21.41c.39.39.9.59 1.41.59.51 0 1.02-.2 1.41-.59l7.78-7.78 2.81-2.81c.8-.78.8-2.07 0-2.86zM5.41 20L4 18.59l7.72-7.72 1.47 1.35L5.41 20z\"/>\n",
              "  </svg>\n",
              "      </button>\n",
              "      \n",
              "  <style>\n",
              "    .colab-df-container {\n",
              "      display:flex;\n",
              "      flex-wrap:wrap;\n",
              "      gap: 12px;\n",
              "    }\n",
              "\n",
              "    .colab-df-convert {\n",
              "      background-color: #E8F0FE;\n",
              "      border: none;\n",
              "      border-radius: 50%;\n",
              "      cursor: pointer;\n",
              "      display: none;\n",
              "      fill: #1967D2;\n",
              "      height: 32px;\n",
              "      padding: 0 0 0 0;\n",
              "      width: 32px;\n",
              "    }\n",
              "\n",
              "    .colab-df-convert:hover {\n",
              "      background-color: #E2EBFA;\n",
              "      box-shadow: 0px 1px 2px rgba(60, 64, 67, 0.3), 0px 1px 3px 1px rgba(60, 64, 67, 0.15);\n",
              "      fill: #174EA6;\n",
              "    }\n",
              "\n",
              "    [theme=dark] .colab-df-convert {\n",
              "      background-color: #3B4455;\n",
              "      fill: #D2E3FC;\n",
              "    }\n",
              "\n",
              "    [theme=dark] .colab-df-convert:hover {\n",
              "      background-color: #434B5C;\n",
              "      box-shadow: 0px 1px 3px 1px rgba(0, 0, 0, 0.15);\n",
              "      filter: drop-shadow(0px 1px 2px rgba(0, 0, 0, 0.3));\n",
              "      fill: #FFFFFF;\n",
              "    }\n",
              "  </style>\n",
              "\n",
              "      <script>\n",
              "        const buttonEl =\n",
              "          document.querySelector('#df-01710ba2-e3ab-4fa9-a04d-1504fa0bcde6 button.colab-df-convert');\n",
              "        buttonEl.style.display =\n",
              "          google.colab.kernel.accessAllowed ? 'block' : 'none';\n",
              "\n",
              "        async function convertToInteractive(key) {\n",
              "          const element = document.querySelector('#df-01710ba2-e3ab-4fa9-a04d-1504fa0bcde6');\n",
              "          const dataTable =\n",
              "            await google.colab.kernel.invokeFunction('convertToInteractive',\n",
              "                                                     [key], {});\n",
              "          if (!dataTable) return;\n",
              "\n",
              "          const docLinkHtml = 'Like what you see? Visit the ' +\n",
              "            '<a target=\"_blank\" href=https://colab.research.google.com/notebooks/data_table.ipynb>data table notebook</a>'\n",
              "            + ' to learn more about interactive tables.';\n",
              "          element.innerHTML = '';\n",
              "          dataTable['output_type'] = 'display_data';\n",
              "          await google.colab.output.renderOutput(dataTable, element);\n",
              "          const docLink = document.createElement('div');\n",
              "          docLink.innerHTML = docLinkHtml;\n",
              "          element.appendChild(docLink);\n",
              "        }\n",
              "      </script>\n",
              "    </div>\n",
              "  </div>\n",
              "  "
            ]
          },
          "metadata": {},
          "execution_count": 39
        }
      ]
    },
    {
      "cell_type": "code",
      "execution_count": null,
      "metadata": {
        "id": "uyXCXkifWHmD"
      },
      "outputs": [],
      "source": [
        "finaldf.to_csv('Predictions.csv', index=False)"
      ]
    },
    {
      "cell_type": "code",
      "source": [
        "file = ('/content/drive/MyDrive/Dataset/Tess/OAF_disgust/OAF_back_disgust.wav')\n",
        "data, sampling_rate = librosa.load(file)"
      ],
      "metadata": {
        "id": "eoD0LPStpyMo"
      },
      "execution_count": null,
      "outputs": []
    },
    {
      "cell_type": "code",
      "source": [
        "# test_point = extract_features(file,ZCR=True,stft=True,mfcc=True,rms=True,mel=True)"
      ],
      "metadata": {
        "id": "eycDTFRErAKx"
      },
      "execution_count": null,
      "outputs": []
    },
    {
      "cell_type": "code",
      "source": [
        "# test_point.shape"
      ],
      "metadata": {
        "colab": {
          "base_uri": "https://localhost:8080/"
        },
        "id": "TQDLstGhrFGn",
        "outputId": "59758233-beb4-4710-82de-f8e46a666306"
      },
      "execution_count": null,
      "outputs": [
        {
          "output_type": "execute_result",
          "data": {
            "text/plain": [
              "(162,)"
            ]
          },
          "metadata": {},
          "execution_count": 46
        }
      ]
    },
    {
      "cell_type": "code",
      "source": [
        "import numpy as np\n",
        "import pandas as pd\n",
        "y_pred1 = pd.DataFrame(predictions, columns=['predictions'])\n",
        "# y_pred1['file_names'] = test_filename\n",
        "print(y_pred1)"
      ],
      "metadata": {
        "colab": {
          "base_uri": "https://localhost:8080/"
        },
        "id": "xPdRbPj7w1M_",
        "outputId": "236b2150-1ffa-48fc-ab30-7e7838297125"
      },
      "execution_count": null,
      "outputs": [
        {
          "output_type": "stream",
          "name": "stdout",
          "text": [
            "     predictions\n",
            "0            sad\n",
            "1        neutral\n",
            "2          happy\n",
            "3           fear\n",
            "4            sad\n",
            "...          ...\n",
            "3535       angry\n",
            "3536     disgust\n",
            "3537        fear\n",
            "3538     disgust\n",
            "3539       angry\n",
            "\n",
            "[3540 rows x 1 columns]\n"
          ]
        }
      ]
    },
    {
      "cell_type": "code",
      "source": [
        "emotions={\n",
        "  1:'neutral',\n",
        "  2:'calm',\n",
        "  3:'happy',\n",
        "  4:'sad',\n",
        "  5:'angry',\n",
        "  6:'fearful',\n",
        "  7:'disgust',\n",
        "  8:'surprised'\n",
        "}\n",
        "## Appying extract_feature function on random file and then loading model to predict the result \n",
        "file = '/content/drive/MyDrive/Dataset/Tess/OAF_angry/OAF_back_angry.wav'\n",
        "data , sr = librosa.load(file)\n",
        "data = np.array(data)\n",
        "ans =[]\n",
        "new_feature  = extract_features(file,ZCR=True,stft=True,mfcc=True,rms=True,mel=True)\n",
        "# np.reshape(new_feature,newshape=(1,180,1))\n",
        "ans.append(new_feature)\n",
        "ans = np.array(ans)\n",
        "data.shape\n",
        "prediction = loaded_model.predict([ans])\n",
        "print(emotions[np.argmax(prediction[0])+1])\n",
        "\n",
        "# loaded_model.predict([ans])\n"
      ],
      "metadata": {
        "colab": {
          "base_uri": "https://localhost:8080/"
        },
        "id": "Jn76JhHepyJ7",
        "outputId": "f751085b-2dc7-4cc1-ad06-318d1a01ffab"
      },
      "execution_count": null,
      "outputs": [
        {
          "output_type": "stream",
          "name": "stdout",
          "text": [
            "surprised\n"
          ]
        }
      ]
    },
    {
      "cell_type": "markdown",
      "metadata": {
        "id": "hXr0hW9FZyJ2"
      },
      "source": [
        "# LSTM Classifier"
      ]
    },
    {
      "cell_type": "code",
      "execution_count": null,
      "metadata": {
        "id": "3TIVVaKNaJlf"
      },
      "outputs": [],
      "source": [
        "#### convert data and label to array\n",
        "X = Features.iloc[: ,:-1].values\n",
        "Y = Features['labels'].values\n"
      ]
    },
    {
      "cell_type": "code",
      "execution_count": null,
      "metadata": {
        "id": "Q73fAK4xajoM"
      },
      "outputs": [],
      "source": [
        "X = np.asarray(X) # convert the input to an array\n",
        "Y = np.array(Y)\n",
        "Y.shape # get tuple of array dimensions\n",
        "\n",
        "encoder = OneHotEncoder()\n",
        "Y = encoder.fit_transform(np.array(Y).reshape(-1,1)).toarray()"
      ]
    },
    {
      "cell_type": "code",
      "execution_count": null,
      "metadata": {
        "colab": {
          "base_uri": "https://localhost:8080/"
        },
        "id": "9zoAWvFLqzMc",
        "outputId": "f23e5a89-8fe5-4159-ad5e-a6743fd787c2"
      },
      "outputs": [
        {
          "data": {
            "text/plain": [
              "(14160, 162)"
            ]
          },
          "execution_count": 76,
          "metadata": {},
          "output_type": "execute_result"
        }
      ],
      "source": [
        "X.shape"
      ]
    },
    {
      "cell_type": "code",
      "execution_count": null,
      "metadata": {
        "colab": {
          "base_uri": "https://localhost:8080/"
        },
        "id": "ciRperKabkm0",
        "outputId": "8e25b504-6a37-438b-e762-fe5843c123e9"
      },
      "outputs": [
        {
          "data": {
            "text/plain": [
              "(14160, 8)"
            ]
          },
          "execution_count": 77,
          "metadata": {},
          "output_type": "execute_result"
        }
      ],
      "source": [
        "Y.shape"
      ]
    },
    {
      "cell_type": "code",
      "execution_count": null,
      "metadata": {
        "id": "jTkxjCGjaT-K"
      },
      "outputs": [],
      "source": [
        "x_train_lstm,x_test_lstm,y_train_lstm,y_test_lstm= train_test_split(np.array(X),Y, test_size=0.20, random_state=9)"
      ]
    },
    {
      "cell_type": "code",
      "execution_count": null,
      "metadata": {
        "colab": {
          "base_uri": "https://localhost:8080/"
        },
        "id": "Zz8OLxwqbolB",
        "outputId": "a12bb7ee-7ea9-437f-da24-0e16b5ad2db7"
      },
      "outputs": [
        {
          "data": {
            "text/plain": [
              "(11328, 8)"
            ]
          },
          "execution_count": 79,
          "metadata": {},
          "output_type": "execute_result"
        }
      ],
      "source": [
        "y_train_lstm.shape"
      ]
    },
    {
      "cell_type": "code",
      "execution_count": null,
      "metadata": {
        "id": "Vhex126-ZxJP"
      },
      "outputs": [],
      "source": [
        "# Split the training, validating, and testing sets\n",
        "# number_of_samples = X.shape[0]\n",
        "# training_samples = int(number_of_samples * 0.8)\n",
        "# validation_samples = int(number_of_samples * 0.1)\n",
        "# test_samples = int(number_of_samples * 0.1)"
      ]
    },
    {
      "cell_type": "code",
      "execution_count": null,
      "metadata": {
        "colab": {
          "base_uri": "https://localhost:8080/"
        },
        "id": "ztpy3Nx_rZOg",
        "outputId": "fd8dd2ea-f417-407c-907c-6679a3000b79"
      },
      "outputs": [
        {
          "data": {
            "text/plain": [
              "((10620, 162, 1), (11328, 8), (3540, 162, 1), (2832, 8))"
            ]
          },
          "execution_count": 80,
          "metadata": {},
          "output_type": "execute_result"
        }
      ],
      "source": [
        "# making our data compatible to model.\n",
        "x_train_lstm = np.expand_dims(x_train, axis=2)\n",
        "x_test_lstm = np.expand_dims(x_test, axis=2)\n",
        "x_train_lstm.shape, y_train_lstm.shape, x_test_lstm.shape, y_test_lstm.shape"
      ]
    },
    {
      "cell_type": "code",
      "execution_count": null,
      "metadata": {
        "colab": {
          "base_uri": "https://localhost:8080/"
        },
        "id": "Mucmi6hKh4FI",
        "outputId": "f172d99d-888e-4d61-82f5-3c607fc3c1a2"
      },
      "outputs": [
        {
          "data": {
            "text/plain": [
              "(3540, 162, 1)"
            ]
          },
          "execution_count": 101,
          "metadata": {},
          "output_type": "execute_result"
        }
      ],
      "source": [
        "x_test_lstm.shape"
      ]
    },
    {
      "cell_type": "code",
      "execution_count": null,
      "metadata": {
        "colab": {
          "base_uri": "https://localhost:8080/"
        },
        "id": "4oC7ZzAHh0UO",
        "outputId": "b3a2421c-e2c9-45f9-8361-5048aed211da"
      },
      "outputs": [
        {
          "data": {
            "text/plain": [
              "(2832, 8)"
            ]
          },
          "execution_count": 100,
          "metadata": {},
          "output_type": "execute_result"
        }
      ],
      "source": [
        "y_test_lstm.shape"
      ]
    },
    {
      "cell_type": "code",
      "execution_count": null,
      "metadata": {
        "colab": {
          "base_uri": "https://localhost:8080/"
        },
        "id": "5gVSv3UMaa-v",
        "outputId": "f9d90b8e-db14-44fd-f21a-1458f7946b34"
      },
      "outputs": [
        {
          "name": "stdout",
          "output_type": "stream",
          "text": [
            "Model: \"sequential_5\"\n",
            "_________________________________________________________________\n",
            " Layer (type)                Output Shape              Param #   \n",
            "=================================================================\n",
            " lstm_4 (LSTM)               (None, 256)               264192    \n",
            "                                                                 \n",
            " dropout_18 (Dropout)        (None, 256)               0         \n",
            "                                                                 \n",
            " dense_18 (Dense)            (None, 128)               32896     \n",
            "                                                                 \n",
            " dropout_19 (Dropout)        (None, 128)               0         \n",
            "                                                                 \n",
            " dense_19 (Dense)            (None, 128)               16512     \n",
            "                                                                 \n",
            " dropout_20 (Dropout)        (None, 128)               0         \n",
            "                                                                 \n",
            " dense_20 (Dense)            (None, 64)                8256      \n",
            "                                                                 \n",
            " dropout_21 (Dropout)        (None, 64)                0         \n",
            "                                                                 \n",
            " dense_21 (Dense)            (None, 8)                 520       \n",
            "                                                                 \n",
            "=================================================================\n",
            "Total params: 322,376\n",
            "Trainable params: 322,376\n",
            "Non-trainable params: 0\n",
            "_________________________________________________________________\n"
          ]
        }
      ],
      "source": [
        "# Define the LSTM model\n",
        "from keras.models import Sequential\n",
        "from keras.layers import Dense, LSTM, Dropout\n",
        "\n",
        "\n",
        "model_lstm = Sequential([\n",
        "LSTM(256, return_sequences=False, input_shape=(162,1)),\n",
        "Dropout(0.2),\n",
        "Dense(128, activation='relu'),\n",
        "Dropout(0.2),\n",
        "Dense(128, activation='relu'),\n",
        "Dropout(0.2),\n",
        "Dense(64, activation='relu'),\n",
        "Dropout(0.2),\n",
        "Dense(8, activation='softmax')])\n",
        "\n",
        "model_lstm.compile(loss='categorical_crossentropy', optimizer='Adam', metrics=['accuracy'])\n",
        "model_lstm.summary()"
      ]
    },
    {
      "cell_type": "markdown",
      "metadata": {
        "id": "0eDhWqaxb5xZ"
      },
      "source": []
    },
    {
      "cell_type": "code",
      "execution_count": null,
      "metadata": {
        "colab": {
          "base_uri": "https://localhost:8080/"
        },
        "id": "Ds57IsU1rRyp",
        "outputId": "da7dda53-8b8d-49e0-f6ea-0cabccdbe2d2"
      },
      "outputs": [
        {
          "name": "stdout",
          "output_type": "stream",
          "text": [
            "Epoch 1/100\n",
            "133/133 [==============================] - 5s 18ms/step - loss: 2.0515 - accuracy: 0.1379 - val_loss: 2.0401 - val_accuracy: 0.1365\n",
            "Epoch 2/100\n",
            "133/133 [==============================] - 2s 14ms/step - loss: 2.0423 - accuracy: 0.1342 - val_loss: 2.0358 - val_accuracy: 0.1408\n",
            "Epoch 3/100\n",
            "133/133 [==============================] - 2s 14ms/step - loss: 2.0418 - accuracy: 0.1336 - val_loss: 2.0340 - val_accuracy: 0.1450\n",
            "Epoch 4/100\n",
            "133/133 [==============================] - 2s 14ms/step - loss: 2.0397 - accuracy: 0.1396 - val_loss: 2.0375 - val_accuracy: 0.1502\n",
            "Epoch 5/100\n",
            "133/133 [==============================] - 2s 14ms/step - loss: 2.0405 - accuracy: 0.1365 - val_loss: 2.0346 - val_accuracy: 0.1295\n",
            "Epoch 6/100\n",
            "133/133 [==============================] - 2s 14ms/step - loss: 2.0398 - accuracy: 0.1375 - val_loss: 2.0368 - val_accuracy: 0.1455\n",
            "Epoch 7/100\n",
            "133/133 [==============================] - 2s 14ms/step - loss: 2.0392 - accuracy: 0.1402 - val_loss: 2.0349 - val_accuracy: 0.1455\n",
            "Epoch 8/100\n",
            "133/133 [==============================] - 2s 14ms/step - loss: 2.0396 - accuracy: 0.1387 - val_loss: 2.0354 - val_accuracy: 0.1276\n",
            "Epoch 9/100\n",
            "133/133 [==============================] - 2s 14ms/step - loss: 2.0393 - accuracy: 0.1398 - val_loss: 2.0350 - val_accuracy: 0.1469\n",
            "Epoch 10/100\n",
            "133/133 [==============================] - 2s 14ms/step - loss: 2.0387 - accuracy: 0.1389 - val_loss: 2.0347 - val_accuracy: 0.1436\n",
            "Epoch 11/100\n",
            "133/133 [==============================] - 2s 14ms/step - loss: 2.0378 - accuracy: 0.1414 - val_loss: 2.0371 - val_accuracy: 0.1389\n",
            "Epoch 12/100\n",
            "133/133 [==============================] - 2s 14ms/step - loss: 2.0379 - accuracy: 0.1403 - val_loss: 2.0360 - val_accuracy: 0.1436\n",
            "Epoch 13/100\n",
            "133/133 [==============================] - 2s 14ms/step - loss: 2.0371 - accuracy: 0.1395 - val_loss: 2.0362 - val_accuracy: 0.1445\n",
            "Epoch 14/100\n",
            "133/133 [==============================] - 2s 14ms/step - loss: 2.0382 - accuracy: 0.1362 - val_loss: 2.0357 - val_accuracy: 0.1469\n",
            "Epoch 15/100\n",
            "133/133 [==============================] - 2s 15ms/step - loss: 2.0384 - accuracy: 0.1430 - val_loss: 2.0368 - val_accuracy: 0.1285\n",
            "Epoch 16/100\n",
            "133/133 [==============================] - 2s 15ms/step - loss: 2.0366 - accuracy: 0.1361 - val_loss: 2.0369 - val_accuracy: 0.1281\n",
            "Epoch 17/100\n",
            "133/133 [==============================] - 2s 14ms/step - loss: 2.0370 - accuracy: 0.1457 - val_loss: 2.0355 - val_accuracy: 0.1460\n",
            "Epoch 18/100\n",
            "133/133 [==============================] - 2s 15ms/step - loss: 2.0366 - accuracy: 0.1525 - val_loss: 2.0379 - val_accuracy: 0.1295\n",
            "Epoch 19/100\n",
            "133/133 [==============================] - 2s 15ms/step - loss: 2.0369 - accuracy: 0.1392 - val_loss: 2.0366 - val_accuracy: 0.1276\n",
            "Epoch 20/100\n",
            "133/133 [==============================] - 2s 15ms/step - loss: 2.0368 - accuracy: 0.1378 - val_loss: 2.0364 - val_accuracy: 0.1271\n",
            "Epoch 21/100\n",
            "133/133 [==============================] - 2s 15ms/step - loss: 2.0361 - accuracy: 0.1495 - val_loss: 2.0378 - val_accuracy: 0.1450\n",
            "Epoch 22/100\n",
            "133/133 [==============================] - 2s 15ms/step - loss: 2.0355 - accuracy: 0.1485 - val_loss: 2.0384 - val_accuracy: 0.1384\n",
            "Epoch 23/100\n",
            "133/133 [==============================] - 2s 15ms/step - loss: 2.0386 - accuracy: 0.1410 - val_loss: 2.0363 - val_accuracy: 0.1427\n",
            "Epoch 24/100\n",
            "133/133 [==============================] - 2s 15ms/step - loss: 2.0367 - accuracy: 0.1460 - val_loss: 2.0365 - val_accuracy: 0.1248\n",
            "Epoch 25/100\n",
            "133/133 [==============================] - 2s 15ms/step - loss: 2.0370 - accuracy: 0.1376 - val_loss: 2.0361 - val_accuracy: 0.1290\n",
            "Epoch 26/100\n",
            "133/133 [==============================] - 2s 15ms/step - loss: 2.0372 - accuracy: 0.1424 - val_loss: 2.0358 - val_accuracy: 0.1412\n",
            "Epoch 27/100\n",
            "133/133 [==============================] - 2s 16ms/step - loss: 2.0369 - accuracy: 0.1408 - val_loss: 2.0370 - val_accuracy: 0.1295\n",
            "Epoch 28/100\n",
            "133/133 [==============================] - 2s 15ms/step - loss: 2.0362 - accuracy: 0.1442 - val_loss: 2.0370 - val_accuracy: 0.1417\n",
            "Epoch 29/100\n",
            "133/133 [==============================] - 2s 15ms/step - loss: 2.0364 - accuracy: 0.1503 - val_loss: 2.0372 - val_accuracy: 0.1455\n",
            "Epoch 30/100\n",
            "133/133 [==============================] - 2s 15ms/step - loss: 2.0369 - accuracy: 0.1397 - val_loss: 2.0372 - val_accuracy: 0.1427\n",
            "Epoch 31/100\n",
            "133/133 [==============================] - 2s 15ms/step - loss: 2.0356 - accuracy: 0.1457 - val_loss: 2.0391 - val_accuracy: 0.1281\n",
            "Epoch 32/100\n",
            "133/133 [==============================] - 2s 15ms/step - loss: 2.0358 - accuracy: 0.1468 - val_loss: 2.0387 - val_accuracy: 0.1299\n",
            "Epoch 33/100\n",
            "133/133 [==============================] - 2s 15ms/step - loss: 2.0358 - accuracy: 0.1443 - val_loss: 2.0379 - val_accuracy: 0.1412\n",
            "Epoch 34/100\n",
            "133/133 [==============================] - 2s 15ms/step - loss: 2.0352 - accuracy: 0.1422 - val_loss: 2.0394 - val_accuracy: 0.1441\n",
            "Epoch 35/100\n",
            "133/133 [==============================] - 2s 15ms/step - loss: 2.0352 - accuracy: 0.1389 - val_loss: 2.0428 - val_accuracy: 0.1271\n",
            "Epoch 36/100\n",
            "133/133 [==============================] - 2s 15ms/step - loss: 2.0355 - accuracy: 0.1424 - val_loss: 2.0398 - val_accuracy: 0.1389\n",
            "Epoch 37/100\n",
            "133/133 [==============================] - 2s 15ms/step - loss: 2.0350 - accuracy: 0.1440 - val_loss: 2.0412 - val_accuracy: 0.1370\n",
            "Epoch 38/100\n",
            "133/133 [==============================] - 2s 15ms/step - loss: 2.0349 - accuracy: 0.1471 - val_loss: 2.0387 - val_accuracy: 0.1375\n",
            "Epoch 39/100\n",
            "133/133 [==============================] - 2s 15ms/step - loss: 2.0346 - accuracy: 0.1349 - val_loss: 2.0398 - val_accuracy: 0.1422\n",
            "Epoch 40/100\n",
            "133/133 [==============================] - 2s 15ms/step - loss: 2.0337 - accuracy: 0.1464 - val_loss: 2.0406 - val_accuracy: 0.1379\n",
            "Epoch 41/100\n",
            "133/133 [==============================] - 2s 15ms/step - loss: 2.0336 - accuracy: 0.1431 - val_loss: 2.0405 - val_accuracy: 0.1408\n",
            "Epoch 42/100\n",
            "133/133 [==============================] - 2s 15ms/step - loss: 2.0344 - accuracy: 0.1336 - val_loss: 2.0388 - val_accuracy: 0.1394\n",
            "Epoch 43/100\n",
            "133/133 [==============================] - 2s 15ms/step - loss: 2.0341 - accuracy: 0.1435 - val_loss: 2.0407 - val_accuracy: 0.1408\n",
            "Epoch 44/100\n",
            "133/133 [==============================] - 2s 15ms/step - loss: 2.0335 - accuracy: 0.1438 - val_loss: 2.0422 - val_accuracy: 0.1384\n",
            "Epoch 45/100\n",
            "133/133 [==============================] - 2s 15ms/step - loss: 2.0328 - accuracy: 0.1447 - val_loss: 2.0407 - val_accuracy: 0.1248\n",
            "Epoch 46/100\n",
            "133/133 [==============================] - 2s 15ms/step - loss: 2.0358 - accuracy: 0.1477 - val_loss: 2.0394 - val_accuracy: 0.1436\n",
            "Epoch 47/100\n",
            "133/133 [==============================] - 2s 15ms/step - loss: 2.0339 - accuracy: 0.1492 - val_loss: 2.0414 - val_accuracy: 0.1441\n",
            "Epoch 48/100\n",
            "133/133 [==============================] - 2s 14ms/step - loss: 2.0328 - accuracy: 0.1451 - val_loss: 2.0394 - val_accuracy: 0.1412\n",
            "Epoch 49/100\n",
            "133/133 [==============================] - 2s 15ms/step - loss: 2.0318 - accuracy: 0.1497 - val_loss: 2.0452 - val_accuracy: 0.1276\n",
            "Epoch 50/100\n",
            "133/133 [==============================] - 2s 15ms/step - loss: 2.0317 - accuracy: 0.1502 - val_loss: 2.0467 - val_accuracy: 0.1375\n",
            "Epoch 51/100\n",
            "133/133 [==============================] - 2s 15ms/step - loss: 2.0318 - accuracy: 0.1503 - val_loss: 2.0438 - val_accuracy: 0.1403\n",
            "Epoch 52/100\n",
            "133/133 [==============================] - 2s 15ms/step - loss: 2.0331 - accuracy: 0.1463 - val_loss: 2.0418 - val_accuracy: 0.1455\n",
            "Epoch 53/100\n",
            "133/133 [==============================] - 2s 15ms/step - loss: 2.0310 - accuracy: 0.1407 - val_loss: 2.0424 - val_accuracy: 0.1445\n",
            "Epoch 54/100\n",
            "133/133 [==============================] - 2s 15ms/step - loss: 2.0312 - accuracy: 0.1444 - val_loss: 2.0446 - val_accuracy: 0.1389\n",
            "Epoch 55/100\n",
            "133/133 [==============================] - 2s 14ms/step - loss: 2.0311 - accuracy: 0.1465 - val_loss: 2.0459 - val_accuracy: 0.1417\n",
            "Epoch 56/100\n",
            "133/133 [==============================] - 2s 15ms/step - loss: 2.0300 - accuracy: 0.1455 - val_loss: 2.0466 - val_accuracy: 0.1431\n",
            "Epoch 57/100\n",
            "133/133 [==============================] - 2s 15ms/step - loss: 2.0302 - accuracy: 0.1491 - val_loss: 2.0434 - val_accuracy: 0.1427\n",
            "Epoch 58/100\n",
            "133/133 [==============================] - 2s 15ms/step - loss: 2.0290 - accuracy: 0.1457 - val_loss: 2.0465 - val_accuracy: 0.1403\n",
            "Epoch 59/100\n",
            "133/133 [==============================] - 2s 15ms/step - loss: 2.0305 - accuracy: 0.1418 - val_loss: 2.0421 - val_accuracy: 0.1389\n",
            "Epoch 60/100\n",
            "133/133 [==============================] - 2s 15ms/step - loss: 2.0292 - accuracy: 0.1465 - val_loss: 2.0455 - val_accuracy: 0.1441\n",
            "Epoch 61/100\n",
            "133/133 [==============================] - 2s 15ms/step - loss: 2.0291 - accuracy: 0.1494 - val_loss: 2.0466 - val_accuracy: 0.1342\n",
            "Epoch 62/100\n",
            "133/133 [==============================] - 2s 15ms/step - loss: 2.0287 - accuracy: 0.1487 - val_loss: 2.0497 - val_accuracy: 0.1417\n",
            "Epoch 63/100\n",
            "133/133 [==============================] - 2s 15ms/step - loss: 2.0295 - accuracy: 0.1489 - val_loss: 2.0448 - val_accuracy: 0.1356\n",
            "Epoch 64/100\n",
            "133/133 [==============================] - 2s 15ms/step - loss: 2.0514 - accuracy: 0.1463 - val_loss: 2.0380 - val_accuracy: 0.1389\n",
            "Epoch 65/100\n",
            "133/133 [==============================] - 2s 15ms/step - loss: 2.0410 - accuracy: 0.1325 - val_loss: 2.0377 - val_accuracy: 0.1347\n",
            "Epoch 66/100\n",
            "133/133 [==============================] - 2s 15ms/step - loss: 2.0395 - accuracy: 0.1367 - val_loss: 2.0359 - val_accuracy: 0.1365\n",
            "Epoch 67/100\n",
            "133/133 [==============================] - 2s 15ms/step - loss: 2.0405 - accuracy: 0.1423 - val_loss: 2.0375 - val_accuracy: 0.1290\n",
            "Epoch 68/100\n",
            "133/133 [==============================] - 2s 15ms/step - loss: 2.0395 - accuracy: 0.1361 - val_loss: 2.0366 - val_accuracy: 0.1417\n",
            "Epoch 69/100\n",
            "133/133 [==============================] - 2s 15ms/step - loss: 2.0386 - accuracy: 0.1403 - val_loss: 2.0343 - val_accuracy: 0.1450\n",
            "Epoch 70/100\n",
            "133/133 [==============================] - 2s 15ms/step - loss: 2.0385 - accuracy: 0.1361 - val_loss: 2.0360 - val_accuracy: 0.1445\n",
            "Epoch 71/100\n",
            "133/133 [==============================] - 2s 15ms/step - loss: 2.0378 - accuracy: 0.1369 - val_loss: 2.0362 - val_accuracy: 0.1295\n",
            "Epoch 72/100\n",
            "133/133 [==============================] - 2s 15ms/step - loss: 2.0378 - accuracy: 0.1402 - val_loss: 2.0348 - val_accuracy: 0.1290\n",
            "Epoch 73/100\n",
            "133/133 [==============================] - 2s 15ms/step - loss: 2.0373 - accuracy: 0.1335 - val_loss: 2.0348 - val_accuracy: 0.1394\n",
            "Epoch 74/100\n",
            "133/133 [==============================] - 2s 15ms/step - loss: 2.0375 - accuracy: 0.1428 - val_loss: 2.0351 - val_accuracy: 0.1290\n",
            "Epoch 75/100\n",
            "133/133 [==============================] - 2s 15ms/step - loss: 2.0370 - accuracy: 0.1425 - val_loss: 2.0360 - val_accuracy: 0.1290\n",
            "Epoch 76/100\n",
            "133/133 [==============================] - 2s 15ms/step - loss: 2.0373 - accuracy: 0.1408 - val_loss: 2.0354 - val_accuracy: 0.1290\n",
            "Epoch 77/100\n",
            "133/133 [==============================] - 2s 15ms/step - loss: 2.0372 - accuracy: 0.1385 - val_loss: 2.0349 - val_accuracy: 0.1290\n",
            "Epoch 78/100\n",
            "133/133 [==============================] - 2s 15ms/step - loss: 2.0365 - accuracy: 0.1385 - val_loss: 2.0356 - val_accuracy: 0.1290\n",
            "Epoch 79/100\n",
            "133/133 [==============================] - 2s 15ms/step - loss: 2.0370 - accuracy: 0.1391 - val_loss: 2.0357 - val_accuracy: 0.1290\n",
            "Epoch 80/100\n",
            "133/133 [==============================] - 2s 15ms/step - loss: 2.0365 - accuracy: 0.1391 - val_loss: 2.0359 - val_accuracy: 0.1290\n",
            "Epoch 81/100\n",
            "133/133 [==============================] - 2s 15ms/step - loss: 2.0370 - accuracy: 0.1390 - val_loss: 2.0374 - val_accuracy: 0.1281\n",
            "Epoch 82/100\n",
            "133/133 [==============================] - 2s 15ms/step - loss: 2.0363 - accuracy: 0.1437 - val_loss: 2.0372 - val_accuracy: 0.1285\n",
            "Epoch 83/100\n",
            "133/133 [==============================] - 2s 15ms/step - loss: 2.0363 - accuracy: 0.1455 - val_loss: 2.0366 - val_accuracy: 0.1290\n",
            "Epoch 84/100\n",
            "133/133 [==============================] - 2s 15ms/step - loss: 2.0370 - accuracy: 0.1397 - val_loss: 2.0364 - val_accuracy: 0.1290\n",
            "Epoch 85/100\n",
            "133/133 [==============================] - 2s 15ms/step - loss: 2.0368 - accuracy: 0.1398 - val_loss: 2.0358 - val_accuracy: 0.1281\n",
            "Epoch 86/100\n",
            "133/133 [==============================] - 2s 15ms/step - loss: 2.0367 - accuracy: 0.1385 - val_loss: 2.0370 - val_accuracy: 0.1285\n",
            "Epoch 87/100\n",
            "133/133 [==============================] - 2s 15ms/step - loss: 2.0365 - accuracy: 0.1378 - val_loss: 2.0349 - val_accuracy: 0.1295\n",
            "Epoch 88/100\n",
            "133/133 [==============================] - 2s 15ms/step - loss: 2.0363 - accuracy: 0.1349 - val_loss: 2.0390 - val_accuracy: 0.1290\n",
            "Epoch 89/100\n",
            "133/133 [==============================] - 2s 15ms/step - loss: 2.0359 - accuracy: 0.1385 - val_loss: 2.0389 - val_accuracy: 0.1281\n",
            "Epoch 90/100\n",
            "133/133 [==============================] - 2s 15ms/step - loss: 2.0366 - accuracy: 0.1425 - val_loss: 2.0399 - val_accuracy: 0.1281\n",
            "Epoch 91/100\n",
            "133/133 [==============================] - 2s 15ms/step - loss: 2.0361 - accuracy: 0.1445 - val_loss: 2.0364 - val_accuracy: 0.1431\n",
            "Epoch 92/100\n",
            "133/133 [==============================] - 2s 15ms/step - loss: 2.0369 - accuracy: 0.1405 - val_loss: 2.0375 - val_accuracy: 0.1436\n",
            "Epoch 93/100\n",
            "133/133 [==============================] - 2s 15ms/step - loss: 2.0370 - accuracy: 0.1434 - val_loss: 2.0354 - val_accuracy: 0.1295\n",
            "Epoch 94/100\n",
            "133/133 [==============================] - 2s 15ms/step - loss: 2.0369 - accuracy: 0.1435 - val_loss: 2.0349 - val_accuracy: 0.1290\n",
            "Epoch 95/100\n",
            "133/133 [==============================] - 2s 15ms/step - loss: 2.0373 - accuracy: 0.1392 - val_loss: 2.0379 - val_accuracy: 0.1417\n",
            "Epoch 96/100\n",
            "133/133 [==============================] - 2s 15ms/step - loss: 2.0367 - accuracy: 0.1347 - val_loss: 2.0364 - val_accuracy: 0.1417\n",
            "Epoch 97/100\n",
            "133/133 [==============================] - 2s 15ms/step - loss: 2.0360 - accuracy: 0.1349 - val_loss: 2.0394 - val_accuracy: 0.1295\n",
            "Epoch 98/100\n",
            "133/133 [==============================] - 2s 15ms/step - loss: 2.0366 - accuracy: 0.1411 - val_loss: 2.0373 - val_accuracy: 0.1295\n",
            "Epoch 99/100\n",
            "133/133 [==============================] - 2s 15ms/step - loss: 2.0363 - accuracy: 0.1381 - val_loss: 2.0388 - val_accuracy: 0.1412\n",
            "Epoch 100/100\n",
            "133/133 [==============================] - 2s 15ms/step - loss: 2.0358 - accuracy: 0.1368 - val_loss: 2.0402 - val_accuracy: 0.1295\n"
          ]
        }
      ],
      "source": [
        "# Train the model\n",
        "history = model_lstm.fit(x_train_lstm, y_train_lstm, \n",
        "                    validation_split=0.2, epochs=100, batch_size= 64)"
      ]
    },
    {
      "cell_type": "code",
      "execution_count": null,
      "metadata": {
        "id": "I7aQbIuPdnZR"
      },
      "outputs": [],
      "source": [
        "model_lstm.save('model_lstm.h5')\n",
        "loaded_model= tf.keras.models.load_model('model_lstm.h5')"
      ]
    }
  ],
  "metadata": {
    "accelerator": "GPU",
    "colab": {
      "collapsed_sections": [],
      "provenance": [],
      "machine_shape": "hm"
    },
    "kernelspec": {
      "display_name": "Python 3",
      "name": "python3"
    },
    "language_info": {
      "name": "python"
    }
  },
  "nbformat": 4,
  "nbformat_minor": 0
}